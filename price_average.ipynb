{
 "cells": [
  {
   "cell_type": "code",
   "execution_count": 2,
   "metadata": {
    "collapsed": true
   },
   "outputs": [],
   "source": [
    "import pandas as pd\n",
    "\n",
    "df = pd.read_csv('~/Downloads/DEMO.csv', index_col=None, header=0)\n",
    "df['timestamp'] = pd.to_datetime(df['timestamp'])\n",
    "df['release_script'] = pd.to_datetime(df['release_script'])"
   ]
  },
  {
   "cell_type": "code",
   "execution_count": 6,
   "metadata": {},
   "outputs": [],
   "source": [
    "import numpy as np\n",
    "def average_price(df):\n",
    "    \n",
    "    data = df.copy()\n",
    "    output = pd.DataFrame(columns=[str(i) for i in np.arange(-60, 61, 5)])\n",
    "\n",
    "        \n",
    "    for date in set(data.loc[:, 'release_script']):\n",
    "\n",
    "        temp_df1 = data.loc[data.release_script == date, :]\n",
    "\n",
    "        df_before = temp_df1.loc[temp_df1.timestamp <= temp_df1.release_script, :]\n",
    "\n",
    "        df_after = temp_df1.loc[temp_df1.timestamp >= temp_df1.release_script, :]\n",
    "        \n",
    "        intvl_list = np.arange(0,60,5)\n",
    "\n",
    "        for i in intvl_list:\n",
    "            try:\n",
    "            \n",
    "                output.loc[date, str(-i)] = df_before.iloc[-i:, 7].mean()\n",
    "                output.loc[date, str(i)] = df_after.iloc[:i, 7].mean()\n",
    "            except:\n",
    "                continue\n",
    "        \n",
    "    return output\n",
    "\n",
    "result = average_price(df)"
   ]
  },
  {
   "cell_type": "code",
   "execution_count": 7,
   "metadata": {},
   "outputs": [],
   "source": [
    "import glob\n",
    "files = glob.glob('final_data/*.csv')\n",
    "\n",
    "data = pd.DataFrame()\n",
    "\n",
    "for file in files:\n",
    "    try:\n",
    "        ticker = file[file.rfind('_')+1:-4]\n",
    "        df = pd.read_csv(file, index_col=None, header=0)\n",
    "        df['timestamp'] = pd.to_datetime(df['timestamp'])\n",
    "        df['release_script'] = pd.to_datetime(df['release_script'])\n",
    "\n",
    "        temp_df = average_price(df)\n",
    "        temp_df.loc[:, 'ticker'] = ticker\n",
    "\n",
    "        data = pd.concat([data,temp_df])\n",
    "    except:\n",
    "        print(file)"
   ]
  },
  {
   "cell_type": "code",
   "execution_count": 8,
   "metadata": {},
   "outputs": [],
   "source": [
    "data.to_csv('avg_price2.csv')"
   ]
  },
  {
   "cell_type": "code",
   "execution_count": null,
   "metadata": {},
   "outputs": [],
   "source": [
    ""
   ]
  }
 ],
 "metadata": {
  "kernelspec": {
   "display_name": "Python 2",
   "language": "python",
   "name": "python2"
  },
  "language_info": {
   "codemirror_mode": {
    "name": "ipython",
    "version": 2.0
   },
   "file_extension": ".py",
   "mimetype": "text/x-python",
   "name": "python",
   "nbconvert_exporter": "python",
   "pygments_lexer": "ipython2",
   "version": "2.7.6"
  }
 },
 "nbformat": 4,
 "nbformat_minor": 0
}