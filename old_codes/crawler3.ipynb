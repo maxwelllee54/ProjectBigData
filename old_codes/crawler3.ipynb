{
 "cells": [
  {
   "cell_type": "code",
   "execution_count": 9,
   "metadata": {
    "collapsed": false
   },
   "outputs": [
    {
     "name": "stdout",
     "output_type": "stream",
     "text": [
      "All links got\n\n"
     ]
    },
    {
     "name": "stdout",
     "output_type": "stream",
     "text": [
      "['with this article? Please tell us . Disagree with this article? Submit your own']\n0\n"
     ]
    },
    {
     "name": "stdout",
     "output_type": "stream",
     "text": [
      "['with this article? Please tell us . Disagree with this article? Submit your own']\n2\n"
     ]
    },
    {
     "name": "stdout",
     "output_type": "stream",
     "text": [
      "All links got\n\n"
     ]
    },
    {
     "name": "stdout",
     "output_type": "stream",
     "text": [
      "['with this article? Please tell us . Disagree with this article? Submit your own']\n2\n"
     ]
    },
    {
     "name": "stdout",
     "output_type": "stream",
     "text": [
      "['with this article? Please tell us . Disagree with this article? Submit your own']\n4\n"
     ]
    },
    {
     "name": "stdout",
     "output_type": "stream",
     "text": [
      "['with this article? Please tell us . Disagree with this article? Submit your own']\n5\n"
     ]
    },
    {
     "name": "stdout",
     "output_type": "stream",
     "text": [
      "['The following audio is from a conference call that will begin on February 02, 2016 at 10:30 AM ET. The audio will stream live while the call is active, and can be replayed upon its completion.']\n9\n"
     ]
    },
    {
     "name": "stdout",
     "output_type": "stream",
     "text": [
      "['The following audio is from a conference call that will begin on October 30, 2015 at 09:30 AM ET. The audio will stream live while the call is active, and can be replayed upon its completion.', 'If you would like to view a transcript of this call, please click here.']\n11\n"
     ]
    },
    {
     "name": "stdout",
     "output_type": "stream",
     "text": [
      "['The following audio is from a conference call that will begin on July 31, 2015 at 09:30 AM ET. The audio will stream live while the call is active, and can be replayed upon its completion.', 'If you would like to view a transcript of this call, please click here.']\n13\n"
     ]
    },
    {
     "name": "stdout",
     "output_type": "stream",
     "text": [
      "['The following audio is from a conference call that will begin on April 30, 2015 at 11:00 AM ET. The audio will stream live while the call is active, and can be replayed upon its completion.', 'If you would like to view a transcript of this call, please click here.']\n15\n"
     ]
    },
    {
     "name": "stdout",
     "output_type": "stream",
     "text": [
      "['The following audio is from a conference call that will begin on February 02, 2015 at 09:30 AM ET. The audio will stream live while the call is active, and can be replayed upon its completion.', 'If you would like to view a transcript of this call, please click here.']\n18\n"
     ]
    },
    {
     "name": "stdout",
     "output_type": "stream",
     "text": [
      "['The following audio is from a conference call that will begin on October 31, 2014 at 09:30 AM ET. The audio will stream live while the call is active, and can be replayed upon its completion.', 'If you would like to view a transcript of this call, please click here.']\n20\n"
     ]
    },
    {
     "name": "stdout",
     "output_type": "stream",
     "text": [
      "['The following audio is from a conference call that will begin on July 31, 2014 at 11:00 AM ET. The audio will stream live while the call is active, and can be replayed upon its completion.', 'If you would like to view a transcript of this call, please click here.']\n22\n"
     ]
    },
    {
     "name": "stdout",
     "output_type": "stream",
     "text": [
      "['The following audio is from a conference call that will begin on May 01, 2014 at 11:00 AM ET. The audio will stream live while the call is active, and can be replayed upon its completion.', 'If you would like to view a transcript of this call, please click here.']\n25\n"
     ]
    },
    {
     "name": "stdout",
     "output_type": "stream",
     "text": [
      "['The following audio is from a conference call that will begin on January 30, 2014 at 11:00 AM ET. The audio will stream live while the call is active, and can be replayed upon its completion.', 'If you would like to view a transcript of this call, please click here.']\n28\n"
     ]
    },
    {
     "name": "stdout",
     "output_type": "stream",
     "text": [
      "You must `download()` an article before calling `parse()` on it!\nhttps://seekingalpha.com/article/1793882-exxon-mobil-management-discusses-q3-2013-results-earnings-call-transcript?part=single\n"
     ]
    },
    {
     "name": "stdout",
     "output_type": "stream",
     "text": [
      "You must `download()` an article before calling `parse()` on it!\nhttps://seekingalpha.com/article/1595062-exxon-mobil-management-discusses-q2-2013-results-earnings-call-transcript?part=single\n"
     ]
    },
    {
     "name": "stdout",
     "output_type": "stream",
     "text": [
      "['The following audio is from an earnings conference call that began on August 1, 2013, at 11:00 AM ET. The audio is live-streaming while the call is active, and can be replayed upon its completion.']\n31\n"
     ]
    },
    {
     "name": "stdout",
     "output_type": "stream",
     "text": [
      "You must `download()` an article before calling `parse()` on it!\nhttps://seekingalpha.com/article/152721-exxon-mobil-q2-2009-earnings-transcript?part=single\n"
     ]
    }
   ],
   "source": [
    "from bs4 import BeautifulSoup\n",
    "import requests\n",
    "import time\n",
    "import pandas as pd\n",
    "from newspaper import Article\n",
    "import re\n",
    "time.sleep(300)\n",
    "#ticker_list = pd.read_csv('ticker_list.txt',header=None)\n",
    "ticker_list = ['RIO', 'XOM', 'GE', 'F', 'MO', 'XRX', 'GS', 'HBC', 'JPM', 'LYG', 'MS', 'RF']\n",
    "#ticker_list = ['F', 'MO', 'XRX', 'GS', 'HBC', 'JPM', 'LYG', 'MS', 'RF']\n",
    "headers = {'User-Agent':\n",
    "               'Mozilla/5.0 (Macintosh; Intel Mac OS X 10_10_1) '\n",
    "               'AppleWebKit/537.36 (KHTML, like Gecko)'\n",
    "               'Chrome/39.0.2171.95 '\n",
    "               'Safari/537.36'}\n",
    "\n",
    "for ticker in ticker_list:\n",
    "    linklist = []\n",
    "    page = 1\n",
    "    print(ticker)\n",
    "    \n",
    "    # crawl all transcripts links for a single ticker \n",
    "    while True:\n",
    "        url = 'https://seekingalpha.com/symbol/'+ ticker + '/earnings/more_transcripts?page=' + str(page)\n",
    "        wb = requests.get(url, headers=headers)\n",
    "        soup = BeautifulSoup(wb.text, 'lxml')\n",
    "        if not soup.select('div div a'):\n",
    "            break\n",
    "        else:\n",
    "            for i in soup.select('div div a'):\n",
    "                linklist.append('https://seekingalpha.com' + i.get('href').strip('\\\"\\\\') + '?part=single')\n",
    "        \n",
    "        page += 1\n",
    "        time.sleep(10)\n",
    "    time.sleep(30)\n",
    "    \n",
    "    print('All links got\\n')\n",
    "\n",
    "    \n",
    "    df = pd.DataFrame(columns=['Ticker', 'Date', 'Time'])\n",
    "    df_link = pd.DataFrame(columns=['Link', 'Failed_Link'])\n",
    "    \n",
    "    for ind, link in enumerate(linklist):\n",
    "        art = Article(link, language='en', fetch_images=False, memoize_articles=False, browser_user_agent='Mozilla/5.0')\n",
    "        time.sleep(5)\n",
    "        art.download()\n",
    "        \n",
    "        # test whether downloading succeed and store links to link dataframe\n",
    "        try:\n",
    "            art.parse()\n",
    "            df_link.loc[ind, 'Link'] = link\n",
    "        except:\n",
    "            print(link)\n",
    "            df_link.loc[ind, 'Failed_Link'] = link\n",
    "            time.sleep(600)\n",
    "            continue\n",
    "        content = re.split(r'\\n+', art.text)\n",
    "        \n",
    "        try:\n",
    "            file_name = ticker + '_' + content[1].replace(' ', '_') + '.txt'\n",
    "            df.loc[ind, 'Ticker'] = ticker\n",
    "            df.loc[ind, 'Date'] = content[1]\n",
    "            df.loc[ind, 'Time'] = content[2]\n",
    "            \n",
    "            with open(r'/Users/Maxwell/PycharmProjects/Github/ProjectBigData/output/'+file_name, 'w') as f:\n",
    "                f.write('\\n'.join(content))\n",
    "            \n",
    "        except IndexError:\n",
    "            print(content)\n",
    "            print(ind)\n",
    "            continue\n",
    "        except FileNotFoundError as error:\n",
    "            print(error)\n",
    "            pass\n",
    "        \n",
    "    if not df.empty:\n",
    "        df.to_csv('time_data.csv', mode='a')\n",
    "        \n",
    "    if not df_link.empty:\n",
    "        df_link.to_csv('link_data.csv', mode='a')"
   ]
  },
  {
   "cell_type": "code",
   "execution_count": null,
   "metadata": {},
   "outputs": [
    {
     "data": {
      "text/plain": [
       "['https://seekingalpha.com/article/4057417-ford-f-investor-presentation-slideshow?part=single',\n 'https://seekingalpha.com/article/4039912-ford-motors-f-ceo-mark-fields-q4-2016-results-earnings-call-transcript?part=single',\n 'https://seekingalpha.com/article/4039637-ford-motor-company-2016-q4-results-earnings-call-slides?part=single',\n 'https://seekingalpha.com/article/4035843-ford-motors-f-ceo-mark-fields-presents-deutsche-bank-global-auto-industry-conference?part=single',\n 'https://seekingalpha.com/article/4035777-ford-f-presents-2017-deutsche-bank-global-auto-industry-conference-slideshow?part=single',\n 'https://seekingalpha.com/article/4027678-ford-motor-f-november-2016-u-s-sales-conference-call-transcript?part=single',\n 'https://seekingalpha.com/article/4015766-ford-motor-f-q3-2016-results-earnings-call-transcript?part=single',\n 'https://seekingalpha.com/article/4015655-ford-motor-company-2016-q3-results-earnings-call-slides?part=single',\n 'https://seekingalpha.com/article/4006587-ford-motors-f-ceo-mark-fields-hosts-2016-investor-day-conference-transcript?part=single',\n 'https://seekingalpha.com/article/3992728-ford-motor-f-mark-fields-q2-2016-results-earnings-call-transcript?part=single',\n 'https://seekingalpha.com/article/3992585-ford-motor-company-2016-q2-results-earnings-call-slides?part=single',\n 'https://seekingalpha.com/article/3979198-ford-motor-f-may-2016-u-s-sales-conference-call-transcript?part=single',\n 'https://seekingalpha.com/article/3969392-ford-motor-f-mark-fields-q1-2016-results-earnings-call-transcript?part=single',\n 'https://seekingalpha.com/article/3968828-ford-motor-f-q1-2016-results-earnings-call-webcast?part=single',\n 'https://seekingalpha.com/article/3960543-ford-motor-f-presents-bank-america-merrill-lynch-2016-nyc-auto-summit-brokers-conference?part=single',\n 'https://seekingalpha.com/article/3844486-ford-motors-f-ceo-mark-fields-q4-2015-results-earnings-call-transcript?part=single',\n 'https://seekingalpha.com/article/3840126-ford-motor-f-q4-2015-results-earnings-call-webcast?part=single',\n 'https://seekingalpha.com/article/3724726-ford-motor-f-november-2015-u-s-sales-conference-call-transcript?part=single',\n 'https://seekingalpha.com/article/3721426-ford-motors-f-ceo-mark-fields-co-briefing-uaw-ford-2015-collective-bargaining-agreement?part=single',\n 'https://seekingalpha.com/article/3609276-ford-motors-f-ceo-mark-fields-q3-2015-results-earnings-call-transcript?part=single',\n 'https://seekingalpha.com/article/3603236-ford-motor-f-q3-2015-results-earnings-call-webcast?part=single',\n 'https://seekingalpha.com/article/3546216-ford-motors-f-management-presents-september-2015-u-s-sales-conference-call-transcript?part=single',\n 'https://seekingalpha.com/article/3514526-ford-motor-f-presents-dbaccess-iaa-cars-2015-brokers-conference-transcript?part=single',\n 'https://seekingalpha.com/article/3482516-ford-motor-f-august-2015-u-s-sales-conference-call-transcript?part=single',\n 'https://seekingalpha.com/article/3365445-ford-motors-f-ceo-mark-fields-on-q2-2015-results-earnings-call-transcript?part=single',\n 'https://seekingalpha.com/article/3234516-ford-f-presents-at-deutsche-bank-global-industrials-and-basic-materials-conference-transcript?part=single',\n 'https://seekingalpha.com/article/3112126-ford-motors-f-ceo-mark-fields-discusses-q1-2015-results-earnings-call-transcript?part=single',\n 'https://seekingalpha.com/article/3105476-ford-motor-f-q1-2015-results-earnings-call-webcast?part=single',\n 'https://seekingalpha.com/article/3046366-ford-f-presents-at-bank-of-america-merrill-lynch-2015-new-york-auto-summit-transcript?part=single',\n 'https://seekingalpha.com/article/3045506-ford-motor-f-march-2015-u-s-sales-conference-call-transcript?part=single',\n 'https://seekingalpha.com/article/2969826-ford-motor-f-february-2015-u-s-sales-conference-call-transcript?part=single',\n 'https://seekingalpha.com/article/2864556-fords-f-ceo-mark-fields-on-q4-2014-results-earnings-call-transcript?part=single',\n 'https://seekingalpha.com/article/2859976-ford-motor-f-q4-2014-results-earnings-call-webcast?part=single',\n 'https://seekingalpha.com/article/2725245-ford-motors-f-management-hosts-november-2014-u-s-sales-conference-call-transcript?part=single',\n 'https://seekingalpha.com/article/2696285-ford-motor-company-f-presents-at-2014-barclays-global-automotive-conference-transcript?part=single',\n 'https://seekingalpha.com/article/2596675-ford-motor-companys-f-ceo-mark-fields-on-q3-2014-results-earnings-call-transcript?part=single',\n 'https://seekingalpha.com/article/2591135-ford-motor-f-q3-2014-results-earnings-call-webcast?part=single',\n 'https://seekingalpha.com/article/2534355-fords-management-hosts-september-2014-u-s-sales-conference-transcript?part=single',\n 'https://seekingalpha.com/article/2496975-ford-motor-company-f-presents-at-morgan-stanley-laguna-conference-transcript?part=single',\n 'https://seekingalpha.com/article/2468815-ford-motors-f-august-2014-u-s-sales-conference-call-transcript?part=single',\n 'https://seekingalpha.com/article/2339505-ford-motor-company-f-ceo-mark-fields-discusses-q2-2014-results-earnings-call-transcript?part=single',\n 'https://seekingalpha.com/article/2334065-q3-2014-ford-motor-co-earnings-conference-call-webcast?part=single',\n 'https://seekingalpha.com/article/2253503-ford-motor-company-management-presents-at-deutsche-bank-global-industrials-and-basic-materials-conference-transcript?part=single',\n 'https://seekingalpha.com/article/2251003-ford-motors-f-may-2014-u-s-sales-conference-call-transcript?part=single',\n 'https://seekingalpha.com/article/2166083-ford-motors-ceo-discusses-q1-2014-results-earnings-call-transcript?part=single',\n 'https://seekingalpha.com/article/2163173-ford-motor-f-q2-2014-results-results-earnings-call-webcast?part=single',\n 'https://seekingalpha.com/article/2063813-fords-management-hosts-february-2014-u-s-sales-conference-call-transcript?part=single',\n 'https://seekingalpha.com/article/1989231-fords-management-hosts-january-2014-u-s-sales-conference-transcript?part=single',\n 'https://seekingalpha.com/article/1973261-fords-ceo-discusses-q4-2013-results-earnings-call-transcript?part=single',\n 'https://seekingalpha.com/article/1965401-q1-2014-ford-motor-co-earnings-conference-call-webcast?part=single',\n 'https://seekingalpha.com/article/1905771-fords-management-hosts-year-end-update-conference-transcript?part=single',\n 'https://seekingalpha.com/article/1874381-ford-motors-management-presents-at-november-2013-u-s-sales-conference-transcript?part=single',\n 'https://seekingalpha.com/article/1798872-ford-motor-management-presents-october-2013-sales-conference-transcript?part=single',\n 'https://seekingalpha.com/article/1769212-ford-motor-company-ceo-discusses-q3-2013-results-earnings-call-transcript?part=single',\n 'https://seekingalpha.com/article/1766712-ford-motor-company-discusses-q3-2013-results-webcast?part=single',\n 'https://seekingalpha.com/article/1723492-ford-motor-companys-management-presents-at-september-2013-sales-conference-call-transcript?part=single',\n 'https://seekingalpha.com/article/1698942-ford-motors-management-presents-at-citi-2013-us-and-european-industrials-conference-transcript?part=single',\n 'https://seekingalpha.com/article/1684302-ford-motors-management-presents-at-mainfirst-auto-iaa-investor-and-analyst-conference-transcript?part=single',\n 'https://seekingalpha.com/article/1673902-ford-motor-companys-management-hosts-august-2013-u-s-sales-conference-call-transcript?part=single',\n 'https://seekingalpha.com/article/1664002-ford-motor-company-f-august-2013-u-s-sales-conference-call-webcast?part=single',\n 'https://seekingalpha.com/article/1601662-ford-motor-companys-management-hosts-july-2013-u-s-sales-call-transcript?part=single',\n 'https://seekingalpha.com/article/1568432-ford-motor-company-f-ceo-discusses-q2-2013-results-earnings-call-transcript?part=single',\n 'https://seekingalpha.com/article/1566912-ford-motor-company-f-management-discusses-q2-2013-results-webcast?part=single',\n 'https://seekingalpha.com/article/1531792-ford-motors-management-presents-at-june-2013-u-s-sales-conference-transcript?part=single',\n 'https://seekingalpha.com/article/1502982-fords-management-hosts-discussion-of-details-of-2012-13-sustainability-report-conference-transcript?part=single',\n 'https://seekingalpha.com/article/1500942-ford-motor-companys-management-presents-at-deutsche-bank-global-industrials-and-basic-materials-conference-transcript?part=single',\n 'https://seekingalpha.com/article/1422761-ford-motors-ceo-presents-at-2013-annual-meeting-of-shareholders-conference-transcript?part=single',\n 'https://seekingalpha.com/article/1390901-ford-motors-management-presents-at-april-2013-u-s-sales-conference-transcript?part=single',\n 'https://seekingalpha.com/article/1366281-ford-motor-companys-ceo-discusses-q1-2013-results-earnings-call-transcript?part=single',\n 'https://seekingalpha.com/article/1314761-ford-motor-companys-management-hosts-sales-conference-call-transcript?part=single',\n 'https://seekingalpha.com/article/1277651-ford-motors-management-hosts-2013-ford-university-conference-transcript?part=single',\n 'https://seekingalpha.com/article/1141711-ford-motors-ceo-discusses-q4-2012-results-earnings-call-transcript?part=single',\n 'https://seekingalpha.com/article/1093521-ford-motor-company-management-discusses-december-2012-u-s-sales-transcript?part=single',\n 'https://seekingalpha.com/article/1041551-ford-motors-management-hosts-u-s-sales-conference-call-transcript?part=single',\n 'https://seekingalpha.com/article/969911-ford-motors-ceo-discusses-q3-2012-results-earnings-call-transcript?part=single',\n 'https://seekingalpha.com/article/950271-ford-motor-co-special-call?part=single',\n 'https://seekingalpha.com/article/900241-ford-motors-management-presents-september-2012-monthly-sales-sales-call-transcript?part=single',\n 'https://seekingalpha.com/article/845421-fords-management-hosts-august-2012-u-s-sales-conference-transcript?part=single',\n 'https://seekingalpha.com/article/748391-ford-motors-ceo-discusses-q2-2012-results-earnings-call-transcript?part=single',\n 'https://seekingalpha.com/article/631531-ford-motors-management-host-monthly-sales-call-transcript?part=single',\n 'https://seekingalpha.com/article/583821-ford-motors-ceo-hosts-57th-annual-meeting-of-shareholders-transcript?part=single',\n 'https://seekingalpha.com/article/546831-ford-motors-management-host-monthly-sales-conference-transcript?part=single',\n 'https://seekingalpha.com/article/537471-ford-motors-ceo-discusses-q1-2012-results-earnings-call-transcript?part=single',\n 'https://seekingalpha.com/article/475711-ford-motors-management-host-sales-trading-statement-call-transcript?part=single',\n 'https://seekingalpha.com/article/424331-ford-motors-management-host-ford-university-conference-call-transcript?part=single',\n 'https://seekingalpha.com/article/404941-ford-motor-co-sales-trading-statement-call?part=single',\n 'https://seekingalpha.com/article/332322-ford-motor-co-jan-2012-sales-trading-statement-call-feb-01-2012?part=single',\n 'https://seekingalpha.com/article/322751-ford-motors-ceo-discusses-q4-2011-results-earnings-call-transcript?part=single',\n 'https://seekingalpha.com/article/304184-ford-motor-co-oct-2011-sales-trading-statement-call-nov-01-2011?part=single',\n 'https://seekingalpha.com/article/302387-ford-motors-ceo-discusses-q3-2011-results-earnings-call-transcript?part=single',\n 'https://seekingalpha.com/article/300828-ford-motor-co-special-call?part=single',\n 'https://seekingalpha.com/article/297303-ford-motor-co-sep-2011-sales-trading-statement-call-oct-03-2011?part=single',\n 'https://seekingalpha.com/article/286687-ford-motor-co-jul-2011-sales-trading-statement-call?part=single',\n 'https://seekingalpha.com/article/281946-ford-motors-ceo-discusses-q2-2011-results-earnings-call-transcript?part=single',\n 'https://seekingalpha.com/article/265588-ford-motors-ceo-discusses-q1-2011-results-earnings-call-transcript?part=single',\n 'https://seekingalpha.com/article/249467-ford-motor-company-ceo-discusses-q4-2010-earnings-call-transcript?part=single',\n 'https://seekingalpha.com/article/232392-ford-motor-ceo-discusses-q3-2010-results-earnings-call-transcript?part=single',\n 'https://seekingalpha.com/article/216218-ford-motor-co-q2-2010-earnings-call-transcript?part=single',\n 'https://seekingalpha.com/article/201189-ford-motor-company-q1-2010-earnings-call-transcript?part=single',\n 'https://seekingalpha.com/article/185137-ford-motor-company-q4-2009-earnings-call-transcript?part=single',\n 'https://seekingalpha.com/article/170784-ford-motor-company-q3-2009-earnings-call-transcript?part=single',\n 'https://seekingalpha.com/article/150928-ford-motor-co-q2-2009-earnings-call-transcript?part=single',\n 'https://seekingalpha.com/article/133049-ford-motor-company-q1-2009-earnings-call-transcript?part=single',\n 'https://seekingalpha.com/article/128999-ford-motor-company-march-sales-call-transcript?part=single',\n 'https://seekingalpha.com/article/117486-ford-motor-company-q4-2008-fixed-income-earnings-call-transcript?part=single',\n 'https://seekingalpha.com/article/117483-ford-motor-company-q4-2008-earnings-call-transcript?part=single',\n 'https://seekingalpha.com/article/113286-ford-motor-company-december-sales-call-transcript?part=single',\n 'https://seekingalpha.com/article/104838-ford-motor-company-q3-2008-earnings-call-transcript?part=single',\n 'https://seekingalpha.com/article/98112-ford-motor-company-sales-call-transcript?part=single',\n 'https://seekingalpha.com/article/93791-ford-motor-company-august-2008-u-s-sales-call?part=single',\n 'https://seekingalpha.com/article/87076-ford-motor-company-q2-2008-earnings-call-transcript?part=single',\n 'https://seekingalpha.com/article/79940-ford-motor-company-may-2008-sales-call-transcript?part=single',\n 'https://seekingalpha.com/article/73987-ford-motor-company-q1-2008-earnings-call-transcript?part=single',\n 'https://seekingalpha.com/article/70788-ford-motor-company-march-2008-u-s-sales-results-call-transcript?part=single',\n 'https://seekingalpha.com/article/69674-ford-motor-company-february-2008-sales-call-transcript?part=single',\n 'https://seekingalpha.com/article/61531-ford-motor-co-q4-2007-earnings-call-transcript?part=single',\n 'https://seekingalpha.com/article/56251-ford-november-2007-sales-call-transcript?part=single',\n 'https://seekingalpha.com/article/53527-ford-q3-2007-earnings-call-transcript?part=single',\n 'https://seekingalpha.com/article/42540-ford-q2-2007-earnings-call-transcript?part=single',\n 'https://seekingalpha.com/article/33706-ford-motor-q1-2007-earnings-call-transcript?part=single',\n 'https://seekingalpha.com/article/25828-ford-january-2007-sales-call-transcript?part=single',\n 'https://seekingalpha.com/article/25166-ford-q4-2006-earnings-call-transcript?part=single',\n 'https://seekingalpha.com/article/19023-ford-q3-2006-earnings-call-transcript?part=single']"
      ]
     },
     "execution_count": 4,
     "metadata": {},
     "output_type": "execute_result"
    }
   ],
   "source": [
    "ticker_list"
   ]
  },
  {
   "cell_type": "code",
   "execution_count": null,
   "metadata": {},
   "outputs": [],
   "source": [
    "print(1)"
   ]
  }
 ],
 "metadata": {
  "kernelspec": {
   "display_name": "Python 2",
   "language": "python",
   "name": "python2"
  },
  "language_info": {
   "codemirror_mode": {
    "name": "ipython",
    "version": 2.0
   },
   "file_extension": ".py",
   "mimetype": "text/x-python",
   "name": "python",
   "nbconvert_exporter": "python",
   "pygments_lexer": "ipython2",
   "version": "2.7.6"
  }
 },
 "nbformat": 4,
 "nbformat_minor": 0
}