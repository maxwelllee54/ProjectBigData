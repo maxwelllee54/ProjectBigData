{
 "cells": [
  {
   "cell_type": "code",
   "execution_count": 15,
   "metadata": {
    "collapsed": true
   },
   "outputs": [
    {
     "name": "stdout",
     "output_type": "stream",
     "text": [
      "You must `download()` an article before calling `parse()` on it!\nhttps://seekingalpha.com/article/3992118-altria-group-mo-martin-j-barrington-q2-2016-results-earnings-call-transcript?part=single\n"
     ]
    },
    {
     "name": "stdout",
     "output_type": "stream",
     "text": [
      "You must `download()` an article before calling `parse()` on it!\nhttps://seekingalpha.com/article/3969395-altria-group-mo-martin-j-barrington-q1-2016-results-earnings-call-transcript?part=single\n"
     ]
    },
    {
     "name": "stdout",
     "output_type": "stream",
     "text": [
      "You must `download()` an article before calling `parse()` on it!\nhttps://seekingalpha.com/article/3620156-altria-group-mo-martin-j-barrington-q3-2015-results-earnings-call-transcript?part=single\n"
     ]
    },
    {
     "name": "stdout",
     "output_type": "stream",
     "text": [
      "You must `download()` an article before calling `parse()` on it!\nhttps://seekingalpha.com/article/3500496-altria-group-mo-management-presents-barclays-global-consumer-staples-conference-transcript?part=single\n"
     ]
    },
    {
     "name": "stdout",
     "output_type": "stream",
     "text": [
      "You must `download()` an article before calling `parse()` on it!\nhttps://seekingalpha.com/article/3278825-altria-groups-mo-ceo-marty-barrington-hosts-2015-investor-day-transcript?part=single\n"
     ]
    },
    {
     "name": "stdout",
     "output_type": "stream",
     "text": [
      "You must `download()` an article before calling `parse()` on it!\nhttps://seekingalpha.com/article/3200216-altrias-mo-ceo-marty-barrington-hosts-2015-annual-shareholders-meeting-transcript?part=single\n"
     ]
    },
    {
     "name": "stdout",
     "output_type": "stream",
     "text": [
      "You must `download()` an article before calling `parse()` on it!\nhttps://seekingalpha.com/article/3095216-altria-groups-mo-ceo-marty-barrington-on-q1-2015-results-earnings-call-transcript?part=single\n"
     ]
    },
    {
     "name": "stdout",
     "output_type": "stream",
     "text": [
      "You must `download()` an article before calling `parse()` on it!\nhttps://seekingalpha.com/article/3848516-xeroxs-xrx-ceo-ursula-burns-q4-2015-results-earnings-call-transcript?part=single\n"
     ]
    },
    {
     "name": "stdout",
     "output_type": "stream",
     "text": [
      "You must `download()` an article before calling `parse()` on it!\nhttps://seekingalpha.com/article/3603936-xeroxs-xrx-ceo-ursula-burns-q3-2015-results-earnings-call-transcript?part=single\n"
     ]
    },
    {
     "name": "stdout",
     "output_type": "stream",
     "text": [
      "You must `download()` an article before calling `parse()` on it!\nhttps://seekingalpha.com/article/3355505-xeroxs-xrx-ceo-ursula-burns-on-q2-2015-results-earnings-call-transcript?part=single\n"
     ]
    },
    {
     "name": "stdout",
     "output_type": "stream",
     "text": [
      "You must `download()` an article before calling `parse()` on it!\nhttps://seekingalpha.com/article/3100766-xerox-xrx-ursula-m-burns-on-q1-2015-results-earnings-call-transcript?part=single\n"
     ]
    },
    {
     "name": "stdout",
     "output_type": "stream",
     "text": [
      "You must `download()` an article before calling `parse()` on it!\nhttps://seekingalpha.com/article/2869986-xerox-corps-xrx-ceo-ursula-burns-on-q4-2014-results-earnings-call-transcript?part=single\n"
     ]
    },
    {
     "name": "stdout",
     "output_type": "stream",
     "text": [
      "You must `download()` an article before calling `parse()` on it!\nhttps://seekingalpha.com/article/2585425-xeroxs-xrx-ceo-ursula-burns-on-q3-2014-results-earnings-call-transcript?part=single\n"
     ]
    },
    {
     "name": "stdout",
     "output_type": "stream",
     "text": [
      "You must `download()` an article before calling `parse()` on it!\nhttps://seekingalpha.com/article/2344205-xeroxs-xrx-ceo-ursula-burns-on-q2-2014-results-earnings-call-transcript?part=single\n"
     ]
    },
    {
     "name": "stdout",
     "output_type": "stream",
     "text": [
      "You must `download()` an article before calling `parse()` on it!\nhttps://seekingalpha.com/article/3848516-xeroxs-xrx-ceo-ursula-burns-q4-2015-results-earnings-call-transcript?part=single\n"
     ]
    },
    {
     "name": "stdout",
     "output_type": "stream",
     "text": [
      "You must `download()` an article before calling `parse()` on it!\nhttps://seekingalpha.com/article/3603936-xeroxs-xrx-ceo-ursula-burns-q3-2015-results-earnings-call-transcript?part=single\n"
     ]
    },
    {
     "name": "stdout",
     "output_type": "stream",
     "text": [
      "You must `download()` an article before calling `parse()` on it!\nhttps://seekingalpha.com/article/3355505-xeroxs-xrx-ceo-ursula-burns-on-q2-2015-results-earnings-call-transcript?part=single\n"
     ]
    },
    {
     "name": "stdout",
     "output_type": "stream",
     "text": [
      "You must `download()` an article before calling `parse()` on it!\nhttps://seekingalpha.com/article/2869986-xerox-corps-xrx-ceo-ursula-burns-on-q4-2014-results-earnings-call-transcript?part=single\n"
     ]
    },
    {
     "name": "stdout",
     "output_type": "stream",
     "text": [
      "You must `download()` an article before calling `parse()` on it!\nhttps://seekingalpha.com/article/2585425-xeroxs-xrx-ceo-ursula-burns-on-q3-2014-results-earnings-call-transcript?part=single\n"
     ]
    },
    {
     "name": "stdout",
     "output_type": "stream",
     "text": [
      "You must `download()` an article before calling `parse()` on it!\nhttps://seekingalpha.com/article/2344205-xeroxs-xrx-ceo-ursula-burns-on-q2-2014-results-earnings-call-transcript?part=single\n"
     ]
    },
    {
     "name": "stdout",
     "output_type": "stream",
     "text": [
      "You must `download()` an article before calling `parse()` on it!\nhttps://seekingalpha.com/article/3989543-goldman-sachs-groups-gs-q2-2016-results-earnings-call-transcript?part=single\n"
     ]
    },
    {
     "name": "stdout",
     "output_type": "stream",
     "text": [
      "You must `download()` an article before calling `parse()` on it!\nhttps://seekingalpha.com/article/3978893-goldman-sachs-group-gs-presents-deutsche-bank-global-financial-services-brokers-transcript?part=single\n"
     ]
    },
    {
     "name": "stdout",
     "output_type": "stream",
     "text": [
      "You must `download()` an article before calling `parse()` on it!\nhttps://seekingalpha.com/article/3966310-goldman-sachs-group-gs-q1-2016-results-earnings-call-transcript?part=single\n"
     ]
    },
    {
     "name": "stdout",
     "output_type": "stream",
     "text": [
      "You must `download()` an article before calling `parse()` on it!\nhttps://seekingalpha.com/article/3821986-goldman-sachs-group-gs-q4-2015-results-earnings-call-transcript?part=single\n"
     ]
    },
    {
     "name": "stdout",
     "output_type": "stream",
     "text": [
      "You must `download()` an article before calling `parse()` on it!\nhttps://seekingalpha.com/article/3692566-goldman-sachs-group-gs-presents-bank-america-merrill-lynch-banking-and-financial-services?part=single\n"
     ]
    },
    {
     "name": "stdout",
     "output_type": "stream",
     "text": [
      "You must `download()` an article before calling `parse()` on it!\nhttps://seekingalpha.com/article/3575896-goldman-sachs-groups-gs-management-presents-q3-2015-results-earnings-call-transcript?part=single\n"
     ]
    },
    {
     "name": "stdout",
     "output_type": "stream",
     "text": [
      "You must `download()` an article before calling `parse()` on it!\nhttps://seekingalpha.com/article/3331805-the-goldman-sachs-group-gs-q2-2015-results-earnings-call-transcript?part=single\n"
     ]
    },
    {
     "name": "stdout",
     "output_type": "stream",
     "text": [
      "You must `download()` an article before calling `parse()` on it!\nhttps://seekingalpha.com/article/3075726-goldman-sachs-gs-management-on-q1-2015-results-earnings-call-transcript?part=single\n"
     ]
    },
    {
     "name": "stdout",
     "output_type": "stream",
     "text": [
      "You must `download()` an article before calling `parse()` on it!\nhttps://seekingalpha.com/article/2866296-goldman-sachs-groups-gs-management-presents-at-fixed-income-investor-conference-transcript?part=single\n"
     ]
    },
    {
     "name": "stdout",
     "output_type": "stream",
     "text": [
      "You must `download()` an article before calling `parse()` on it!\nhttps://seekingalpha.com/article/2827956-goldman-sachs-gs-q4-2014-results-earnings-call-transcript?part=single\n"
     ]
    },
    {
     "name": "stdout",
     "output_type": "stream",
     "text": [
      "You must `download()` an article before calling `parse()` on it!\nhttps://seekingalpha.com/article/2674315-goldman-sachs-group-gs-presents-at-bank-of-america-merrill-lynch-banking-and-financial-services-conference-transcript?part=single\n"
     ]
    },
    {
     "name": "stdout",
     "output_type": "stream",
     "text": [
      "You must `download()` an article before calling `parse()` on it!\nhttps://seekingalpha.com/article/2567955-goldman-sachs-gs-q3-2014-results-earnings-call-transcript?part=single\n"
     ]
    },
    {
     "name": "stdout",
     "output_type": "stream",
     "text": [
      "You must `download()` an article before calling `parse()` on it!\nhttps://seekingalpha.com/article/2316585-the-goldman-sachs-group-gs-q2-2014-results-earnings-call-transcript?part=single\n"
     ]
    },
    {
     "name": "stdout",
     "output_type": "stream",
     "text": [
      "You must `download()` an article before calling `parse()` on it!\nhttps://seekingalpha.com/article/2184093-the-goldman-sachs-groups-management-hosts-fixed-income-investor-conference-transcript?part=single\n"
     ]
    },
    {
     "name": "stdout",
     "output_type": "stream",
     "text": [
      "You must `download()` an article before calling `parse()` on it!\nhttps://seekingalpha.com/article/2148283-goldman-sachs-groups-management-discusses-q1-2014-results-earnings-call-transcript?part=single\n"
     ]
    },
    {
     "name": "stdout",
     "output_type": "stream",
     "text": [
      "You must `download()` an article before calling `parse()` on it!\nhttps://seekingalpha.com/article/1949801-the-goldman-sachs-groups-management-discusses-q4-2013-results-earnings-call-transcript?part=single\n"
     ]
    },
    {
     "name": "stdout",
     "output_type": "stream",
     "text": [
      "You must `download()` an article before calling `parse()` on it!\nhttps://seekingalpha.com/article/1812792-goldman-sachs-groups-ceo-hosts-fixed-income-investor-conference-transcript?part=single\n"
     ]
    },
    {
     "name": "stdout",
     "output_type": "stream",
     "text": [
      "You must `download()` an article before calling `parse()` on it!\nhttps://seekingalpha.com/article/3848516-xeroxs-xrx-ceo-ursula-burns-q4-2015-results-earnings-call-transcript?part=single\n"
     ]
    },
    {
     "name": "stdout",
     "output_type": "stream",
     "text": [
      "You must `download()` an article before calling `parse()` on it!\nhttps://seekingalpha.com/article/3603936-xeroxs-xrx-ceo-ursula-burns-q3-2015-results-earnings-call-transcript?part=single\n"
     ]
    },
    {
     "name": "stdout",
     "output_type": "stream",
     "text": [
      "You must `download()` an article before calling `parse()` on it!\nhttps://seekingalpha.com/article/3355505-xeroxs-xrx-ceo-ursula-burns-on-q2-2015-results-earnings-call-transcript?part=single\n"
     ]
    },
    {
     "name": "stdout",
     "output_type": "stream",
     "text": [
      "You must `download()` an article before calling `parse()` on it!\nhttps://seekingalpha.com/article/2869986-xerox-corps-xrx-ceo-ursula-burns-on-q4-2014-results-earnings-call-transcript?part=single\n"
     ]
    },
    {
     "name": "stdout",
     "output_type": "stream",
     "text": [
      "You must `download()` an article before calling `parse()` on it!\nhttps://seekingalpha.com/article/2585425-xeroxs-xrx-ceo-ursula-burns-on-q3-2014-results-earnings-call-transcript?part=single\n"
     ]
    },
    {
     "name": "stdout",
     "output_type": "stream",
     "text": [
      "You must `download()` an article before calling `parse()` on it!\nhttps://seekingalpha.com/article/2344205-xeroxs-xrx-ceo-ursula-burns-on-q2-2014-results-earnings-call-transcript?part=single\n"
     ]
    },
    {
     "name": "stdout",
     "output_type": "stream",
     "text": [
      "You must `download()` an article before calling `parse()` on it!\nhttps://seekingalpha.com/article/3989543-goldman-sachs-groups-gs-q2-2016-results-earnings-call-transcript?part=single\n"
     ]
    },
    {
     "name": "stdout",
     "output_type": "stream",
     "text": [
      "You must `download()` an article before calling `parse()` on it!\nhttps://seekingalpha.com/article/3978893-goldman-sachs-group-gs-presents-deutsche-bank-global-financial-services-brokers-transcript?part=single\n"
     ]
    },
    {
     "name": "stdout",
     "output_type": "stream",
     "text": [
      "You must `download()` an article before calling `parse()` on it!\nhttps://seekingalpha.com/article/3966310-goldman-sachs-group-gs-q1-2016-results-earnings-call-transcript?part=single\n"
     ]
    },
    {
     "name": "stdout",
     "output_type": "stream",
     "text": [
      "You must `download()` an article before calling `parse()` on it!\nhttps://seekingalpha.com/article/3821986-goldman-sachs-group-gs-q4-2015-results-earnings-call-transcript?part=single\n"
     ]
    },
    {
     "name": "stdout",
     "output_type": "stream",
     "text": [
      "You must `download()` an article before calling `parse()` on it!\nhttps://seekingalpha.com/article/3692566-goldman-sachs-group-gs-presents-bank-america-merrill-lynch-banking-and-financial-services?part=single\n"
     ]
    },
    {
     "name": "stdout",
     "output_type": "stream",
     "text": [
      "You must `download()` an article before calling `parse()` on it!\nhttps://seekingalpha.com/article/3575896-goldman-sachs-groups-gs-management-presents-q3-2015-results-earnings-call-transcript?part=single\n"
     ]
    },
    {
     "name": "stdout",
     "output_type": "stream",
     "text": [
      "You must `download()` an article before calling `parse()` on it!\nhttps://seekingalpha.com/article/3331805-the-goldman-sachs-group-gs-q2-2015-results-earnings-call-transcript?part=single\n"
     ]
    },
    {
     "name": "stdout",
     "output_type": "stream",
     "text": [
      "You must `download()` an article before calling `parse()` on it!\nhttps://seekingalpha.com/article/3075726-goldman-sachs-gs-management-on-q1-2015-results-earnings-call-transcript?part=single\n"
     ]
    },
    {
     "name": "stdout",
     "output_type": "stream",
     "text": [
      "You must `download()` an article before calling `parse()` on it!\nhttps://seekingalpha.com/article/2866296-goldman-sachs-groups-gs-management-presents-at-fixed-income-investor-conference-transcript?part=single\n"
     ]
    },
    {
     "name": "stdout",
     "output_type": "stream",
     "text": [
      "You must `download()` an article before calling `parse()` on it!\nhttps://seekingalpha.com/article/2827956-goldman-sachs-gs-q4-2014-results-earnings-call-transcript?part=single\n"
     ]
    },
    {
     "name": "stdout",
     "output_type": "stream",
     "text": [
      "You must `download()` an article before calling `parse()` on it!\nhttps://seekingalpha.com/article/2674315-goldman-sachs-group-gs-presents-at-bank-of-america-merrill-lynch-banking-and-financial-services-conference-transcript?part=single\n"
     ]
    },
    {
     "name": "stdout",
     "output_type": "stream",
     "text": [
      "You must `download()` an article before calling `parse()` on it!\nhttps://seekingalpha.com/article/2567955-goldman-sachs-gs-q3-2014-results-earnings-call-transcript?part=single\n"
     ]
    },
    {
     "name": "stdout",
     "output_type": "stream",
     "text": [
      "You must `download()` an article before calling `parse()` on it!\nhttps://seekingalpha.com/article/2316585-the-goldman-sachs-group-gs-q2-2014-results-earnings-call-transcript?part=single\n"
     ]
    },
    {
     "name": "stdout",
     "output_type": "stream",
     "text": [
      "You must `download()` an article before calling `parse()` on it!\nhttps://seekingalpha.com/article/2184093-the-goldman-sachs-groups-management-hosts-fixed-income-investor-conference-transcript?part=single\n"
     ]
    },
    {
     "name": "stdout",
     "output_type": "stream",
     "text": [
      "You must `download()` an article before calling `parse()` on it!\nhttps://seekingalpha.com/article/2148283-goldman-sachs-groups-management-discusses-q1-2014-results-earnings-call-transcript?part=single\n"
     ]
    },
    {
     "name": "stdout",
     "output_type": "stream",
     "text": [
      "You must `download()` an article before calling `parse()` on it!\nhttps://seekingalpha.com/article/1949801-the-goldman-sachs-groups-management-discusses-q4-2013-results-earnings-call-transcript?part=single\n"
     ]
    },
    {
     "name": "stdout",
     "output_type": "stream",
     "text": [
      "You must `download()` an article before calling `parse()` on it!\nhttps://seekingalpha.com/article/1812792-goldman-sachs-groups-ceo-hosts-fixed-income-investor-conference-transcript?part=single\n"
     ]
    },
    {
     "name": "stdout",
     "output_type": "stream",
     "text": [
      "You must `download()` an article before calling `parse()` on it!\nhttps://seekingalpha.com/article/4020924-hsbc-holdings-hsbc-stuart-thomson-gulliver-q3-2016-results-earnings-call-transcript?part=single\n"
     ]
    },
    {
     "name": "stdout",
     "output_type": "stream",
     "text": [
      "You must `download()` an article before calling `parse()` on it!\nhttps://seekingalpha.com/article/3995127-hsbc-holdings-plc-hsbc-stuart-thomson-gulliver-q2-2016-results-earnings-call-transcript?part=single\n"
     ]
    },
    {
     "name": "stdout",
     "output_type": "stream",
     "text": [
      "You must `download()` an article before calling `parse()` on it!\nhttps://seekingalpha.com/article/3970588-hsbc-holdings-plc-hsbc-stuart-thomson-gulliver-q1-2016-results-earnings-call-transcript?part=single\n"
     ]
    },
    {
     "name": "stdout",
     "output_type": "stream",
     "text": [
      "You must `download()` an article before calling `parse()` on it!\nhttps://seekingalpha.com/article/3916366-hsbc-holdings-hsbc-ceo-stuart-gulliver-q4-2015-results-earnings-call-transcript?part=single\n"
     ]
    },
    {
     "name": "stdout",
     "output_type": "stream",
     "text": [
      "You must `download()` an article before calling `parse()` on it!\nhttps://seekingalpha.com/article/3632686-hsbc-holdings-hsbc-stuart-gulliver-q3-2015-results-earnings-call-transcript?part=single\n"
     ]
    },
    {
     "name": "stdout",
     "output_type": "stream",
     "text": [
      "You must `download()` an article before calling `parse()` on it!\nhttps://seekingalpha.com/article/3390375-hsbc-holdings-plc-hsbc-stuart-thomson-gulliver-on-q2-2015-results-earnings-call-transcript?part=single\n"
     ]
    },
    {
     "name": "stdout",
     "output_type": "stream",
     "text": [
      "You must `download()` an article before calling `parse()` on it!\nhttps://seekingalpha.com/article/3140506-hsbc-holdings-hsbc-ceo-stuart-gulliver-on-q1-2015-results-earnings-call-transcript?part=single\n"
     ]
    },
    {
     "name": "stdout",
     "output_type": "stream",
     "text": [
      "You must `download()` an article before calling `parse()` on it!\nhttps://seekingalpha.com/article/2941386-hsbc-holdings-hsbc-ceo-stuart-gulliver-on-q4-2014-results-earnings-call-transcript?part=single\n"
     ]
    },
    {
     "name": "stdout",
     "output_type": "stream",
     "text": [
      "You must `download()` an article before calling `parse()` on it!\nhttps://seekingalpha.com/article/2663625-hsbc-holdings-hsbc-q3-2014-results-interim-management-statement-call-transcript?part=single\n"
     ]
    },
    {
     "name": "stdout",
     "output_type": "stream",
     "text": [
      "You must `download()` an article before calling `parse()` on it!\nhttps://seekingalpha.com/article/2378025-hsbc-holdings-hsbc-ceo-stuart-gulliver-on-q2-2014-results-earnings-call-transcript?part=single\n"
     ]
    },
    {
     "name": "stdout",
     "output_type": "stream",
     "text": [
      "You must `download()` an article before calling `parse()` on it!\nhttps://seekingalpha.com/article/2044173-hsbc-holdings-management-discusses-q4-2013-results-earnings-call-transcript?part=single\n"
     ]
    },
    {
     "name": "stdout",
     "output_type": "stream",
     "text": [
      "You must `download()` an article before calling `parse()` on it!\nhttps://seekingalpha.com/article/1802252-hsbc-holdings-ceo-discusses-q3-2013-results-earnings-call-transcript?part=single\n"
     ]
    },
    {
     "name": "stdout",
     "output_type": "stream",
     "text": [
      "You must `download()` an article before calling `parse()` on it!\nhttps://seekingalpha.com/article/1604152-hsbc-holdings-management-discusses-h1-2013-results-earnings-call-transcript?part=single\n"
     ]
    },
    {
     "name": "stdout",
     "output_type": "stream",
     "text": [
      "You must `download()` an article before calling `parse()` on it!\nhttps://seekingalpha.com/article/1460211-hsbc-holdings-ceo-hosts-2013-annual-general-meeting-transcript?part=single\n"
     ]
    },
    {
     "name": "stdout",
     "output_type": "stream",
     "text": [
      "You must `download()` an article before calling `parse()` on it!\nhttps://seekingalpha.com/article/1408621-hsbc-holdings-management-discusses-q1-2013-results-interim-management-statement-call-transcript?part=single\n"
     ]
    },
    {
     "name": "stdout",
     "output_type": "stream",
     "text": [
      "You must `download()` an article before calling `parse()` on it!\nhttps://seekingalpha.com/article/3848516-xeroxs-xrx-ceo-ursula-burns-q4-2015-results-earnings-call-transcript?part=single\n"
     ]
    },
    {
     "name": "stdout",
     "output_type": "stream",
     "text": [
      "You must `download()` an article before calling `parse()` on it!\nhttps://seekingalpha.com/article/3603936-xeroxs-xrx-ceo-ursula-burns-q3-2015-results-earnings-call-transcript?part=single\n"
     ]
    },
    {
     "name": "stdout",
     "output_type": "stream",
     "text": [
      "You must `download()` an article before calling `parse()` on it!\nhttps://seekingalpha.com/article/3355505-xeroxs-xrx-ceo-ursula-burns-on-q2-2015-results-earnings-call-transcript?part=single\n"
     ]
    },
    {
     "name": "stdout",
     "output_type": "stream",
     "text": [
      "You must `download()` an article before calling `parse()` on it!\nhttps://seekingalpha.com/article/2869986-xerox-corps-xrx-ceo-ursula-burns-on-q4-2014-results-earnings-call-transcript?part=single\n"
     ]
    },
    {
     "name": "stdout",
     "output_type": "stream",
     "text": [
      "You must `download()` an article before calling `parse()` on it!\nhttps://seekingalpha.com/article/2585425-xeroxs-xrx-ceo-ursula-burns-on-q3-2014-results-earnings-call-transcript?part=single\n"
     ]
    },
    {
     "name": "stdout",
     "output_type": "stream",
     "text": [
      "You must `download()` an article before calling `parse()` on it!\nhttps://seekingalpha.com/article/2344205-xeroxs-xrx-ceo-ursula-burns-on-q2-2014-results-earnings-call-transcript?part=single\n"
     ]
    },
    {
     "name": "stdout",
     "output_type": "stream",
     "text": [
      "You must `download()` an article before calling `parse()` on it!\nhttps://seekingalpha.com/article/3989543-goldman-sachs-groups-gs-q2-2016-results-earnings-call-transcript?part=single\n"
     ]
    },
    {
     "name": "stdout",
     "output_type": "stream",
     "text": [
      "You must `download()` an article before calling `parse()` on it!\nhttps://seekingalpha.com/article/3978893-goldman-sachs-group-gs-presents-deutsche-bank-global-financial-services-brokers-transcript?part=single\n"
     ]
    },
    {
     "name": "stdout",
     "output_type": "stream",
     "text": [
      "You must `download()` an article before calling `parse()` on it!\nhttps://seekingalpha.com/article/3966310-goldman-sachs-group-gs-q1-2016-results-earnings-call-transcript?part=single\n"
     ]
    },
    {
     "name": "stdout",
     "output_type": "stream",
     "text": [
      "You must `download()` an article before calling `parse()` on it!\nhttps://seekingalpha.com/article/3821986-goldman-sachs-group-gs-q4-2015-results-earnings-call-transcript?part=single\n"
     ]
    },
    {
     "name": "stdout",
     "output_type": "stream",
     "text": [
      "You must `download()` an article before calling `parse()` on it!\nhttps://seekingalpha.com/article/3692566-goldman-sachs-group-gs-presents-bank-america-merrill-lynch-banking-and-financial-services?part=single\n"
     ]
    },
    {
     "name": "stdout",
     "output_type": "stream",
     "text": [
      "You must `download()` an article before calling `parse()` on it!\nhttps://seekingalpha.com/article/3575896-goldman-sachs-groups-gs-management-presents-q3-2015-results-earnings-call-transcript?part=single\n"
     ]
    },
    {
     "name": "stdout",
     "output_type": "stream",
     "text": [
      "You must `download()` an article before calling `parse()` on it!\nhttps://seekingalpha.com/article/3331805-the-goldman-sachs-group-gs-q2-2015-results-earnings-call-transcript?part=single\n"
     ]
    },
    {
     "name": "stdout",
     "output_type": "stream",
     "text": [
      "You must `download()` an article before calling `parse()` on it!\nhttps://seekingalpha.com/article/3075726-goldman-sachs-gs-management-on-q1-2015-results-earnings-call-transcript?part=single\n"
     ]
    },
    {
     "name": "stdout",
     "output_type": "stream",
     "text": [
      "You must `download()` an article before calling `parse()` on it!\nhttps://seekingalpha.com/article/2866296-goldman-sachs-groups-gs-management-presents-at-fixed-income-investor-conference-transcript?part=single\n"
     ]
    },
    {
     "name": "stdout",
     "output_type": "stream",
     "text": [
      "You must `download()` an article before calling `parse()` on it!\nhttps://seekingalpha.com/article/2827956-goldman-sachs-gs-q4-2014-results-earnings-call-transcript?part=single\n"
     ]
    },
    {
     "name": "stdout",
     "output_type": "stream",
     "text": [
      "You must `download()` an article before calling `parse()` on it!\nhttps://seekingalpha.com/article/2674315-goldman-sachs-group-gs-presents-at-bank-of-america-merrill-lynch-banking-and-financial-services-conference-transcript?part=single\n"
     ]
    },
    {
     "name": "stdout",
     "output_type": "stream",
     "text": [
      "You must `download()` an article before calling `parse()` on it!\nhttps://seekingalpha.com/article/2567955-goldman-sachs-gs-q3-2014-results-earnings-call-transcript?part=single\n"
     ]
    },
    {
     "name": "stdout",
     "output_type": "stream",
     "text": [
      "You must `download()` an article before calling `parse()` on it!\nhttps://seekingalpha.com/article/2316585-the-goldman-sachs-group-gs-q2-2014-results-earnings-call-transcript?part=single\n"
     ]
    },
    {
     "name": "stdout",
     "output_type": "stream",
     "text": [
      "You must `download()` an article before calling `parse()` on it!\nhttps://seekingalpha.com/article/2184093-the-goldman-sachs-groups-management-hosts-fixed-income-investor-conference-transcript?part=single\n"
     ]
    },
    {
     "name": "stdout",
     "output_type": "stream",
     "text": [
      "You must `download()` an article before calling `parse()` on it!\nhttps://seekingalpha.com/article/2148283-goldman-sachs-groups-management-discusses-q1-2014-results-earnings-call-transcript?part=single\n"
     ]
    },
    {
     "name": "stdout",
     "output_type": "stream",
     "text": [
      "You must `download()` an article before calling `parse()` on it!\nhttps://seekingalpha.com/article/1949801-the-goldman-sachs-groups-management-discusses-q4-2013-results-earnings-call-transcript?part=single\n"
     ]
    },
    {
     "name": "stdout",
     "output_type": "stream",
     "text": [
      "You must `download()` an article before calling `parse()` on it!\nhttps://seekingalpha.com/article/1812792-goldman-sachs-groups-ceo-hosts-fixed-income-investor-conference-transcript?part=single\n"
     ]
    },
    {
     "name": "stdout",
     "output_type": "stream",
     "text": [
      "You must `download()` an article before calling `parse()` on it!\nhttps://seekingalpha.com/article/4020924-hsbc-holdings-hsbc-stuart-thomson-gulliver-q3-2016-results-earnings-call-transcript?part=single\n"
     ]
    },
    {
     "name": "stdout",
     "output_type": "stream",
     "text": [
      "You must `download()` an article before calling `parse()` on it!\nhttps://seekingalpha.com/article/3995127-hsbc-holdings-plc-hsbc-stuart-thomson-gulliver-q2-2016-results-earnings-call-transcript?part=single\n"
     ]
    },
    {
     "name": "stdout",
     "output_type": "stream",
     "text": [
      "You must `download()` an article before calling `parse()` on it!\nhttps://seekingalpha.com/article/3970588-hsbc-holdings-plc-hsbc-stuart-thomson-gulliver-q1-2016-results-earnings-call-transcript?part=single\n"
     ]
    },
    {
     "name": "stdout",
     "output_type": "stream",
     "text": [
      "You must `download()` an article before calling `parse()` on it!\nhttps://seekingalpha.com/article/3916366-hsbc-holdings-hsbc-ceo-stuart-gulliver-q4-2015-results-earnings-call-transcript?part=single\n"
     ]
    },
    {
     "name": "stdout",
     "output_type": "stream",
     "text": [
      "You must `download()` an article before calling `parse()` on it!\nhttps://seekingalpha.com/article/3632686-hsbc-holdings-hsbc-stuart-gulliver-q3-2015-results-earnings-call-transcript?part=single\n"
     ]
    },
    {
     "name": "stdout",
     "output_type": "stream",
     "text": [
      "You must `download()` an article before calling `parse()` on it!\nhttps://seekingalpha.com/article/3390375-hsbc-holdings-plc-hsbc-stuart-thomson-gulliver-on-q2-2015-results-earnings-call-transcript?part=single\n"
     ]
    },
    {
     "name": "stdout",
     "output_type": "stream",
     "text": [
      "You must `download()` an article before calling `parse()` on it!\nhttps://seekingalpha.com/article/3140506-hsbc-holdings-hsbc-ceo-stuart-gulliver-on-q1-2015-results-earnings-call-transcript?part=single\n"
     ]
    },
    {
     "name": "stdout",
     "output_type": "stream",
     "text": [
      "You must `download()` an article before calling `parse()` on it!\nhttps://seekingalpha.com/article/2941386-hsbc-holdings-hsbc-ceo-stuart-gulliver-on-q4-2014-results-earnings-call-transcript?part=single\n"
     ]
    },
    {
     "name": "stdout",
     "output_type": "stream",
     "text": [
      "You must `download()` an article before calling `parse()` on it!\nhttps://seekingalpha.com/article/2663625-hsbc-holdings-hsbc-q3-2014-results-interim-management-statement-call-transcript?part=single\n"
     ]
    },
    {
     "name": "stdout",
     "output_type": "stream",
     "text": [
      "You must `download()` an article before calling `parse()` on it!\nhttps://seekingalpha.com/article/2378025-hsbc-holdings-hsbc-ceo-stuart-gulliver-on-q2-2014-results-earnings-call-transcript?part=single\n"
     ]
    },
    {
     "name": "stdout",
     "output_type": "stream",
     "text": [
      "You must `download()` an article before calling `parse()` on it!\nhttps://seekingalpha.com/article/2044173-hsbc-holdings-management-discusses-q4-2013-results-earnings-call-transcript?part=single\n"
     ]
    },
    {
     "name": "stdout",
     "output_type": "stream",
     "text": [
      "You must `download()` an article before calling `parse()` on it!\nhttps://seekingalpha.com/article/1802252-hsbc-holdings-ceo-discusses-q3-2013-results-earnings-call-transcript?part=single\n"
     ]
    },
    {
     "name": "stdout",
     "output_type": "stream",
     "text": [
      "You must `download()` an article before calling `parse()` on it!\nhttps://seekingalpha.com/article/1604152-hsbc-holdings-management-discusses-h1-2013-results-earnings-call-transcript?part=single\n"
     ]
    },
    {
     "name": "stdout",
     "output_type": "stream",
     "text": [
      "You must `download()` an article before calling `parse()` on it!\nhttps://seekingalpha.com/article/1460211-hsbc-holdings-ceo-hosts-2013-annual-general-meeting-transcript?part=single\n"
     ]
    },
    {
     "name": "stdout",
     "output_type": "stream",
     "text": [
      "You must `download()` an article before calling `parse()` on it!\nhttps://seekingalpha.com/article/1408621-hsbc-holdings-management-discusses-q1-2013-results-interim-management-statement-call-transcript?part=single\n"
     ]
    },
    {
     "name": "stdout",
     "output_type": "stream",
     "text": [
      "You must `download()` an article before calling `parse()` on it!\nhttps://seekingalpha.com/article/4028608-jpmorgan-chases-jpm-ceo-jamie-dimon-presents-goldman-sachs-us-financial-services-conference?part=single\n"
     ]
    },
    {
     "name": "stdout",
     "output_type": "stream",
     "text": [
      "You must `download()` an article before calling `parse()` on it!\nhttps://seekingalpha.com/article/4023710-jpmorgan-chase-jpm-presents-bank-america-merrill-lynch-banking-and-financial-services-brokers?part=single\n"
     ]
    },
    {
     "name": "stdout",
     "output_type": "stream",
     "text": [
      "You must `download()` an article before calling `parse()` on it!\nhttps://seekingalpha.com/article/3988515-jpmorgan-chases-jpm-ceo-jamie-dimon-q2-2016-results-earnings-call-transcript?part=single\n"
     ]
    },
    {
     "name": "stdout",
     "output_type": "stream",
     "text": [
      "You must `download()` an article before calling `parse()` on it!\nhttps://seekingalpha.com/article/3979193-jpmorgan-chase-management-presents-deutsche-bank-global-financial-services-conference?part=single\n"
     ]
    },
    {
     "name": "stdout",
     "output_type": "stream",
     "text": [
      "You must `download()` an article before calling `parse()` on it!\nhttps://seekingalpha.com/article/3975795-jpmorgan-chases-jpm-ceo-jamie-dimon-hosts-2016-annual-meeting-shareholders-transcript?part=single\n"
     ]
    },
    {
     "name": "stdout",
     "output_type": "stream",
     "text": [
      "You must `download()` an article before calling `parse()` on it!\nhttps://seekingalpha.com/article/3965127-jpmorgan-chase-and-co-jpm-jamie-dimon-q1-2016-results-earnings-call-transcript?part=single\n"
     ]
    },
    {
     "name": "stdout",
     "output_type": "stream",
     "text": [
      "You must `download()` an article before calling `parse()` on it!\nhttps://seekingalpha.com/article/3811196-jpmorgan-chases-jpm-ceo-jamie-dimon-q4-2015-results-earnings-call-transcript?part=single\n"
     ]
    },
    {
     "name": "stdout",
     "output_type": "stream",
     "text": [
      "You must `download()` an article before calling `parse()` on it!\nhttps://seekingalpha.com/article/3742226-jpmorgans-management-presents-goldman-sachs-u-s-financial-services-broker-conference?part=single\n"
     ]
    },
    {
     "name": "stdout",
     "output_type": "stream",
     "text": [
      "You must `download()` an article before calling `parse()` on it!\nhttps://seekingalpha.com/article/3693536-jpmorgan-chases-jpm-management-presents-bank-america-merrill-lynch-banking-financial-services?part=single\n"
     ]
    },
    {
     "name": "stdout",
     "output_type": "stream",
     "text": [
      "You must `download()` an article before calling `parse()` on it!\nhttps://seekingalpha.com/article/3848516-xeroxs-xrx-ceo-ursula-burns-q4-2015-results-earnings-call-transcript?part=single\n"
     ]
    },
    {
     "name": "stdout",
     "output_type": "stream",
     "text": [
      "You must `download()` an article before calling `parse()` on it!\nhttps://seekingalpha.com/article/3603936-xeroxs-xrx-ceo-ursula-burns-q3-2015-results-earnings-call-transcript?part=single\n"
     ]
    },
    {
     "name": "stdout",
     "output_type": "stream",
     "text": [
      "You must `download()` an article before calling `parse()` on it!\nhttps://seekingalpha.com/article/3355505-xeroxs-xrx-ceo-ursula-burns-on-q2-2015-results-earnings-call-transcript?part=single\n"
     ]
    },
    {
     "name": "stdout",
     "output_type": "stream",
     "text": [
      "You must `download()` an article before calling `parse()` on it!\nhttps://seekingalpha.com/article/2869986-xerox-corps-xrx-ceo-ursula-burns-on-q4-2014-results-earnings-call-transcript?part=single\n"
     ]
    },
    {
     "name": "stdout",
     "output_type": "stream",
     "text": [
      "You must `download()` an article before calling `parse()` on it!\nhttps://seekingalpha.com/article/2585425-xeroxs-xrx-ceo-ursula-burns-on-q3-2014-results-earnings-call-transcript?part=single\n"
     ]
    },
    {
     "name": "stdout",
     "output_type": "stream",
     "text": [
      "You must `download()` an article before calling `parse()` on it!\nhttps://seekingalpha.com/article/2344205-xeroxs-xrx-ceo-ursula-burns-on-q2-2014-results-earnings-call-transcript?part=single\n"
     ]
    },
    {
     "name": "stdout",
     "output_type": "stream",
     "text": [
      "You must `download()` an article before calling `parse()` on it!\nhttps://seekingalpha.com/article/3989543-goldman-sachs-groups-gs-q2-2016-results-earnings-call-transcript?part=single\n"
     ]
    },
    {
     "name": "stdout",
     "output_type": "stream",
     "text": [
      "You must `download()` an article before calling `parse()` on it!\nhttps://seekingalpha.com/article/3978893-goldman-sachs-group-gs-presents-deutsche-bank-global-financial-services-brokers-transcript?part=single\n"
     ]
    },
    {
     "name": "stdout",
     "output_type": "stream",
     "text": [
      "You must `download()` an article before calling `parse()` on it!\nhttps://seekingalpha.com/article/3966310-goldman-sachs-group-gs-q1-2016-results-earnings-call-transcript?part=single\n"
     ]
    },
    {
     "name": "stdout",
     "output_type": "stream",
     "text": [
      "You must `download()` an article before calling `parse()` on it!\nhttps://seekingalpha.com/article/3821986-goldman-sachs-group-gs-q4-2015-results-earnings-call-transcript?part=single\n"
     ]
    },
    {
     "name": "stdout",
     "output_type": "stream",
     "text": [
      "You must `download()` an article before calling `parse()` on it!\nhttps://seekingalpha.com/article/3692566-goldman-sachs-group-gs-presents-bank-america-merrill-lynch-banking-and-financial-services?part=single\n"
     ]
    },
    {
     "name": "stdout",
     "output_type": "stream",
     "text": [
      "You must `download()` an article before calling `parse()` on it!\nhttps://seekingalpha.com/article/3575896-goldman-sachs-groups-gs-management-presents-q3-2015-results-earnings-call-transcript?part=single\n"
     ]
    },
    {
     "name": "stdout",
     "output_type": "stream",
     "text": [
      "You must `download()` an article before calling `parse()` on it!\nhttps://seekingalpha.com/article/3331805-the-goldman-sachs-group-gs-q2-2015-results-earnings-call-transcript?part=single\n"
     ]
    },
    {
     "name": "stdout",
     "output_type": "stream",
     "text": [
      "You must `download()` an article before calling `parse()` on it!\nhttps://seekingalpha.com/article/3075726-goldman-sachs-gs-management-on-q1-2015-results-earnings-call-transcript?part=single\n"
     ]
    },
    {
     "name": "stdout",
     "output_type": "stream",
     "text": [
      "You must `download()` an article before calling `parse()` on it!\nhttps://seekingalpha.com/article/2866296-goldman-sachs-groups-gs-management-presents-at-fixed-income-investor-conference-transcript?part=single\n"
     ]
    },
    {
     "name": "stdout",
     "output_type": "stream",
     "text": [
      "You must `download()` an article before calling `parse()` on it!\nhttps://seekingalpha.com/article/2827956-goldman-sachs-gs-q4-2014-results-earnings-call-transcript?part=single\n"
     ]
    },
    {
     "name": "stdout",
     "output_type": "stream",
     "text": [
      "You must `download()` an article before calling `parse()` on it!\nhttps://seekingalpha.com/article/2674315-goldman-sachs-group-gs-presents-at-bank-of-america-merrill-lynch-banking-and-financial-services-conference-transcript?part=single\n"
     ]
    },
    {
     "name": "stdout",
     "output_type": "stream",
     "text": [
      "You must `download()` an article before calling `parse()` on it!\nhttps://seekingalpha.com/article/2567955-goldman-sachs-gs-q3-2014-results-earnings-call-transcript?part=single\n"
     ]
    },
    {
     "name": "stdout",
     "output_type": "stream",
     "text": [
      "You must `download()` an article before calling `parse()` on it!\nhttps://seekingalpha.com/article/2316585-the-goldman-sachs-group-gs-q2-2014-results-earnings-call-transcript?part=single\n"
     ]
    },
    {
     "name": "stdout",
     "output_type": "stream",
     "text": [
      "You must `download()` an article before calling `parse()` on it!\nhttps://seekingalpha.com/article/2184093-the-goldman-sachs-groups-management-hosts-fixed-income-investor-conference-transcript?part=single\n"
     ]
    },
    {
     "name": "stdout",
     "output_type": "stream",
     "text": [
      "You must `download()` an article before calling `parse()` on it!\nhttps://seekingalpha.com/article/2148283-goldman-sachs-groups-management-discusses-q1-2014-results-earnings-call-transcript?part=single\n"
     ]
    },
    {
     "name": "stdout",
     "output_type": "stream",
     "text": [
      "You must `download()` an article before calling `parse()` on it!\nhttps://seekingalpha.com/article/1949801-the-goldman-sachs-groups-management-discusses-q4-2013-results-earnings-call-transcript?part=single\n"
     ]
    },
    {
     "name": "stdout",
     "output_type": "stream",
     "text": [
      "You must `download()` an article before calling `parse()` on it!\nhttps://seekingalpha.com/article/1812792-goldman-sachs-groups-ceo-hosts-fixed-income-investor-conference-transcript?part=single\n"
     ]
    },
    {
     "name": "stdout",
     "output_type": "stream",
     "text": [
      "You must `download()` an article before calling `parse()` on it!\nhttps://seekingalpha.com/article/4020924-hsbc-holdings-hsbc-stuart-thomson-gulliver-q3-2016-results-earnings-call-transcript?part=single\n"
     ]
    },
    {
     "name": "stdout",
     "output_type": "stream",
     "text": [
      "You must `download()` an article before calling `parse()` on it!\nhttps://seekingalpha.com/article/3995127-hsbc-holdings-plc-hsbc-stuart-thomson-gulliver-q2-2016-results-earnings-call-transcript?part=single\n"
     ]
    },
    {
     "name": "stdout",
     "output_type": "stream",
     "text": [
      "You must `download()` an article before calling `parse()` on it!\nhttps://seekingalpha.com/article/3970588-hsbc-holdings-plc-hsbc-stuart-thomson-gulliver-q1-2016-results-earnings-call-transcript?part=single\n"
     ]
    },
    {
     "name": "stdout",
     "output_type": "stream",
     "text": [
      "You must `download()` an article before calling `parse()` on it!\nhttps://seekingalpha.com/article/3916366-hsbc-holdings-hsbc-ceo-stuart-gulliver-q4-2015-results-earnings-call-transcript?part=single\n"
     ]
    },
    {
     "name": "stdout",
     "output_type": "stream",
     "text": [
      "You must `download()` an article before calling `parse()` on it!\nhttps://seekingalpha.com/article/3632686-hsbc-holdings-hsbc-stuart-gulliver-q3-2015-results-earnings-call-transcript?part=single\n"
     ]
    },
    {
     "name": "stdout",
     "output_type": "stream",
     "text": [
      "You must `download()` an article before calling `parse()` on it!\nhttps://seekingalpha.com/article/3390375-hsbc-holdings-plc-hsbc-stuart-thomson-gulliver-on-q2-2015-results-earnings-call-transcript?part=single\n"
     ]
    },
    {
     "name": "stdout",
     "output_type": "stream",
     "text": [
      "You must `download()` an article before calling `parse()` on it!\nhttps://seekingalpha.com/article/3140506-hsbc-holdings-hsbc-ceo-stuart-gulliver-on-q1-2015-results-earnings-call-transcript?part=single\n"
     ]
    },
    {
     "name": "stdout",
     "output_type": "stream",
     "text": [
      "You must `download()` an article before calling `parse()` on it!\nhttps://seekingalpha.com/article/2941386-hsbc-holdings-hsbc-ceo-stuart-gulliver-on-q4-2014-results-earnings-call-transcript?part=single\n"
     ]
    },
    {
     "name": "stdout",
     "output_type": "stream",
     "text": [
      "You must `download()` an article before calling `parse()` on it!\nhttps://seekingalpha.com/article/2663625-hsbc-holdings-hsbc-q3-2014-results-interim-management-statement-call-transcript?part=single\n"
     ]
    },
    {
     "name": "stdout",
     "output_type": "stream",
     "text": [
      "You must `download()` an article before calling `parse()` on it!\nhttps://seekingalpha.com/article/2378025-hsbc-holdings-hsbc-ceo-stuart-gulliver-on-q2-2014-results-earnings-call-transcript?part=single\n"
     ]
    },
    {
     "name": "stdout",
     "output_type": "stream",
     "text": [
      "You must `download()` an article before calling `parse()` on it!\nhttps://seekingalpha.com/article/2044173-hsbc-holdings-management-discusses-q4-2013-results-earnings-call-transcript?part=single\n"
     ]
    },
    {
     "name": "stdout",
     "output_type": "stream",
     "text": [
      "You must `download()` an article before calling `parse()` on it!\nhttps://seekingalpha.com/article/1802252-hsbc-holdings-ceo-discusses-q3-2013-results-earnings-call-transcript?part=single\n"
     ]
    },
    {
     "name": "stdout",
     "output_type": "stream",
     "text": [
      "You must `download()` an article before calling `parse()` on it!\nhttps://seekingalpha.com/article/1604152-hsbc-holdings-management-discusses-h1-2013-results-earnings-call-transcript?part=single\n"
     ]
    },
    {
     "name": "stdout",
     "output_type": "stream",
     "text": [
      "You must `download()` an article before calling `parse()` on it!\nhttps://seekingalpha.com/article/1460211-hsbc-holdings-ceo-hosts-2013-annual-general-meeting-transcript?part=single\n"
     ]
    },
    {
     "name": "stdout",
     "output_type": "stream",
     "text": [
      "You must `download()` an article before calling `parse()` on it!\nhttps://seekingalpha.com/article/1408621-hsbc-holdings-management-discusses-q1-2013-results-interim-management-statement-call-transcript?part=single\n"
     ]
    },
    {
     "name": "stdout",
     "output_type": "stream",
     "text": [
      "You must `download()` an article before calling `parse()` on it!\nhttps://seekingalpha.com/article/4028608-jpmorgan-chases-jpm-ceo-jamie-dimon-presents-goldman-sachs-us-financial-services-conference?part=single\n"
     ]
    },
    {
     "name": "stdout",
     "output_type": "stream",
     "text": [
      "You must `download()` an article before calling `parse()` on it!\nhttps://seekingalpha.com/article/4023710-jpmorgan-chase-jpm-presents-bank-america-merrill-lynch-banking-and-financial-services-brokers?part=single\n"
     ]
    },
    {
     "name": "stdout",
     "output_type": "stream",
     "text": [
      "You must `download()` an article before calling `parse()` on it!\nhttps://seekingalpha.com/article/3988515-jpmorgan-chases-jpm-ceo-jamie-dimon-q2-2016-results-earnings-call-transcript?part=single\n"
     ]
    },
    {
     "name": "stdout",
     "output_type": "stream",
     "text": [
      "You must `download()` an article before calling `parse()` on it!\nhttps://seekingalpha.com/article/3979193-jpmorgan-chase-management-presents-deutsche-bank-global-financial-services-conference?part=single\n"
     ]
    },
    {
     "name": "stdout",
     "output_type": "stream",
     "text": [
      "You must `download()` an article before calling `parse()` on it!\nhttps://seekingalpha.com/article/3975795-jpmorgan-chases-jpm-ceo-jamie-dimon-hosts-2016-annual-meeting-shareholders-transcript?part=single\n"
     ]
    },
    {
     "name": "stdout",
     "output_type": "stream",
     "text": [
      "You must `download()` an article before calling `parse()` on it!\nhttps://seekingalpha.com/article/3965127-jpmorgan-chase-and-co-jpm-jamie-dimon-q1-2016-results-earnings-call-transcript?part=single\n"
     ]
    },
    {
     "name": "stdout",
     "output_type": "stream",
     "text": [
      "You must `download()` an article before calling `parse()` on it!\nhttps://seekingalpha.com/article/3811196-jpmorgan-chases-jpm-ceo-jamie-dimon-q4-2015-results-earnings-call-transcript?part=single\n"
     ]
    },
    {
     "name": "stdout",
     "output_type": "stream",
     "text": [
      "You must `download()` an article before calling `parse()` on it!\nhttps://seekingalpha.com/article/3742226-jpmorgans-management-presents-goldman-sachs-u-s-financial-services-broker-conference?part=single\n"
     ]
    },
    {
     "name": "stdout",
     "output_type": "stream",
     "text": [
      "You must `download()` an article before calling `parse()` on it!\nhttps://seekingalpha.com/article/3693536-jpmorgan-chases-jpm-management-presents-bank-america-merrill-lynch-banking-financial-services?part=single\n"
     ]
    },
    {
     "name": "stdout",
     "output_type": "stream",
     "text": [
      "You must `download()` an article before calling `parse()` on it!\nhttps://seekingalpha.com/article/4048664-lloyds-banking-groups-lyg-ceo-antonio-horta-osorio-q4-2016-results-earnings-call-transcript?part=single\n"
     ]
    },
    {
     "name": "stdout",
     "output_type": "stream",
     "text": [
      "You must `download()` an article before calling `parse()` on it!\nhttps://seekingalpha.com/article/4015160-lloyds-banking-groups-lyg-ceo-antonio-horta-osorio-q3-2016-results-earnings-call-transcript?part=single\n"
     ]
    },
    {
     "name": "stdout",
     "output_type": "stream",
     "text": [
      "You must `download()` an article before calling `parse()` on it!\nhttps://seekingalpha.com/article/3992800-lloyds-banking-groups-lyg-ceo-antonio-horta-osorio-q2-2016-results-earnings-call-transcript?part=single\n"
     ]
    },
    {
     "name": "stdout",
     "output_type": "stream",
     "text": [
      "You must `download()` an article before calling `parse()` on it!\nhttps://seekingalpha.com/article/3969990-lloyds-banking-groups-lyg-ceo-antonio-horta-osorio-q1-2016-results-earnings-call-transcript?part=single\n"
     ]
    },
    {
     "name": "stdout",
     "output_type": "stream",
     "text": [
      "You must `download()` an article before calling `parse()` on it!\nhttps://seekingalpha.com/article/3615636-lloyds-banking-groups-lyg-ceo-antonio-horta-osorio-q3-2015-results-earnings-call-transcript?part=single\n"
     ]
    },
    {
     "name": "stdout",
     "output_type": "stream",
     "text": [
      "You must `download()` an article before calling `parse()` on it!\nhttps://seekingalpha.com/article/3392555-lloyds-banking-groups-lyg-ceo-antonio-horta-osorio-on-q2-2015-results-earnings-call-transcript?part=single\n"
     ]
    },
    {
     "name": "stdout",
     "output_type": "stream",
     "text": [
      "You must `download()` an article before calling `parse()` on it!\nhttps://seekingalpha.com/article/3130366-lloyds-banking-groups-lyg-ceo-antonio-horta-osorio-on-q1-2015-results-earnings-call-transcript?part=single\n"
     ]
    },
    {
     "name": "stdout",
     "output_type": "stream",
     "text": [
      "You must `download()` an article before calling `parse()` on it!\nhttps://seekingalpha.com/article/2959366-lloyds-banking-groups-lyg-ceo-antonio-horta-osorio-on-q4-2014-results-earnings-call-transcript?part=single\n"
     ]
    },
    {
     "name": "stdout",
     "output_type": "stream",
     "text": [
      "You must `download()` an article before calling `parse()` on it!\nhttps://seekingalpha.com/article/2367465-lloyds-banking-group-lyg-h1-2014-results-earnings-call-transcript?part=single\n"
     ]
    },
    {
     "name": "stdout",
     "output_type": "stream",
     "text": [
      "You must `download()` an article before calling `parse()` on it!\nhttps://seekingalpha.com/article/2181613-lloyds-banking-group-management-discusses-q1-2014-results-interim-management-statement-call-transcript?part=single\n"
     ]
    },
    {
     "name": "stdout",
     "output_type": "stream",
     "text": [
      "You must `download()` an article before calling `parse()` on it!\nhttps://seekingalpha.com/article/2020241-lloyds-banking-group-management-discusses-2013-results-fixed-income-call-transcript?part=single\n"
     ]
    },
    {
     "name": "stdout",
     "output_type": "stream",
     "text": [
      "You must `download()` an article before calling `parse()` on it!\nhttps://seekingalpha.com/article/2018921-lloyds-banking-groups-ceo-discusses-q4-2013-results-earnings-call-transcript?part=single\n"
     ]
    },
    {
     "name": "stdout",
     "output_type": "stream",
     "text": [
      "You must `download()` an article before calling `parse()` on it!\nhttps://seekingalpha.com/article/1782382-lloyds-banking-group-management-discusses-q3-2013-results-interim-management-statement-call-transcript?part=single\n"
     ]
    },
    {
     "name": "stdout",
     "output_type": "stream",
     "text": [
      "You must `download()` an article before calling `parse()` on it!\nhttps://seekingalpha.com/article/1596582-lloyds-banking-group-management-discusses-h1-2013-results-fixed-income-call-transcript?part=single\n"
     ]
    },
    {
     "name": "stdout",
     "output_type": "stream",
     "text": [
      "You must `download()` an article before calling `parse()` on it!\nhttps://seekingalpha.com/article/1594152-lloyds-banking-group-management-discusses-h1-2013-results-earnings-call-transcript?part=single\n"
     ]
    },
    {
     "name": "stdout",
     "output_type": "stream",
     "text": [
      "You must `download()` an article before calling `parse()` on it!\nhttps://seekingalpha.com/article/1384181-lloyds-banking-group-management-discusses-q1-2013-results-interim-management-statement-call-transcript?part=single\n"
     ]
    },
    {
     "name": "stdout",
     "output_type": "stream",
     "text": [
      "You must `download()` an article before calling `parse()` on it!\nhttps://seekingalpha.com/article/3848516-xeroxs-xrx-ceo-ursula-burns-q4-2015-results-earnings-call-transcript?part=single\n"
     ]
    },
    {
     "name": "stdout",
     "output_type": "stream",
     "text": [
      "You must `download()` an article before calling `parse()` on it!\nhttps://seekingalpha.com/article/3603936-xeroxs-xrx-ceo-ursula-burns-q3-2015-results-earnings-call-transcript?part=single\n"
     ]
    },
    {
     "name": "stdout",
     "output_type": "stream",
     "text": [
      "You must `download()` an article before calling `parse()` on it!\nhttps://seekingalpha.com/article/3355505-xeroxs-xrx-ceo-ursula-burns-on-q2-2015-results-earnings-call-transcript?part=single\n"
     ]
    },
    {
     "name": "stdout",
     "output_type": "stream",
     "text": [
      "You must `download()` an article before calling `parse()` on it!\nhttps://seekingalpha.com/article/2869986-xerox-corps-xrx-ceo-ursula-burns-on-q4-2014-results-earnings-call-transcript?part=single\n"
     ]
    },
    {
     "name": "stdout",
     "output_type": "stream",
     "text": [
      "You must `download()` an article before calling `parse()` on it!\nhttps://seekingalpha.com/article/2585425-xeroxs-xrx-ceo-ursula-burns-on-q3-2014-results-earnings-call-transcript?part=single\n"
     ]
    },
    {
     "name": "stdout",
     "output_type": "stream",
     "text": [
      "You must `download()` an article before calling `parse()` on it!\nhttps://seekingalpha.com/article/2344205-xeroxs-xrx-ceo-ursula-burns-on-q2-2014-results-earnings-call-transcript?part=single\n"
     ]
    },
    {
     "name": "stdout",
     "output_type": "stream",
     "text": [
      "You must `download()` an article before calling `parse()` on it!\nhttps://seekingalpha.com/article/3989543-goldman-sachs-groups-gs-q2-2016-results-earnings-call-transcript?part=single\n"
     ]
    },
    {
     "name": "stdout",
     "output_type": "stream",
     "text": [
      "You must `download()` an article before calling `parse()` on it!\nhttps://seekingalpha.com/article/3978893-goldman-sachs-group-gs-presents-deutsche-bank-global-financial-services-brokers-transcript?part=single\n"
     ]
    },
    {
     "name": "stdout",
     "output_type": "stream",
     "text": [
      "You must `download()` an article before calling `parse()` on it!\nhttps://seekingalpha.com/article/3966310-goldman-sachs-group-gs-q1-2016-results-earnings-call-transcript?part=single\n"
     ]
    },
    {
     "name": "stdout",
     "output_type": "stream",
     "text": [
      "You must `download()` an article before calling `parse()` on it!\nhttps://seekingalpha.com/article/3821986-goldman-sachs-group-gs-q4-2015-results-earnings-call-transcript?part=single\n"
     ]
    },
    {
     "name": "stdout",
     "output_type": "stream",
     "text": [
      "You must `download()` an article before calling `parse()` on it!\nhttps://seekingalpha.com/article/3692566-goldman-sachs-group-gs-presents-bank-america-merrill-lynch-banking-and-financial-services?part=single\n"
     ]
    },
    {
     "name": "stdout",
     "output_type": "stream",
     "text": [
      "You must `download()` an article before calling `parse()` on it!\nhttps://seekingalpha.com/article/3575896-goldman-sachs-groups-gs-management-presents-q3-2015-results-earnings-call-transcript?part=single\n"
     ]
    },
    {
     "name": "stdout",
     "output_type": "stream",
     "text": [
      "You must `download()` an article before calling `parse()` on it!\nhttps://seekingalpha.com/article/3331805-the-goldman-sachs-group-gs-q2-2015-results-earnings-call-transcript?part=single\n"
     ]
    },
    {
     "name": "stdout",
     "output_type": "stream",
     "text": [
      "You must `download()` an article before calling `parse()` on it!\nhttps://seekingalpha.com/article/3075726-goldman-sachs-gs-management-on-q1-2015-results-earnings-call-transcript?part=single\n"
     ]
    },
    {
     "name": "stdout",
     "output_type": "stream",
     "text": [
      "You must `download()` an article before calling `parse()` on it!\nhttps://seekingalpha.com/article/2866296-goldman-sachs-groups-gs-management-presents-at-fixed-income-investor-conference-transcript?part=single\n"
     ]
    },
    {
     "name": "stdout",
     "output_type": "stream",
     "text": [
      "You must `download()` an article before calling `parse()` on it!\nhttps://seekingalpha.com/article/2827956-goldman-sachs-gs-q4-2014-results-earnings-call-transcript?part=single\n"
     ]
    },
    {
     "name": "stdout",
     "output_type": "stream",
     "text": [
      "You must `download()` an article before calling `parse()` on it!\nhttps://seekingalpha.com/article/2674315-goldman-sachs-group-gs-presents-at-bank-of-america-merrill-lynch-banking-and-financial-services-conference-transcript?part=single\n"
     ]
    },
    {
     "name": "stdout",
     "output_type": "stream",
     "text": [
      "You must `download()` an article before calling `parse()` on it!\nhttps://seekingalpha.com/article/2567955-goldman-sachs-gs-q3-2014-results-earnings-call-transcript?part=single\n"
     ]
    },
    {
     "name": "stdout",
     "output_type": "stream",
     "text": [
      "You must `download()` an article before calling `parse()` on it!\nhttps://seekingalpha.com/article/2316585-the-goldman-sachs-group-gs-q2-2014-results-earnings-call-transcript?part=single\n"
     ]
    },
    {
     "name": "stdout",
     "output_type": "stream",
     "text": [
      "You must `download()` an article before calling `parse()` on it!\nhttps://seekingalpha.com/article/2184093-the-goldman-sachs-groups-management-hosts-fixed-income-investor-conference-transcript?part=single\n"
     ]
    },
    {
     "name": "stdout",
     "output_type": "stream",
     "text": [
      "You must `download()` an article before calling `parse()` on it!\nhttps://seekingalpha.com/article/2148283-goldman-sachs-groups-management-discusses-q1-2014-results-earnings-call-transcript?part=single\n"
     ]
    },
    {
     "name": "stdout",
     "output_type": "stream",
     "text": [
      "You must `download()` an article before calling `parse()` on it!\nhttps://seekingalpha.com/article/1949801-the-goldman-sachs-groups-management-discusses-q4-2013-results-earnings-call-transcript?part=single\n"
     ]
    },
    {
     "name": "stdout",
     "output_type": "stream",
     "text": [
      "You must `download()` an article before calling `parse()` on it!\nhttps://seekingalpha.com/article/1812792-goldman-sachs-groups-ceo-hosts-fixed-income-investor-conference-transcript?part=single\n"
     ]
    },
    {
     "name": "stdout",
     "output_type": "stream",
     "text": [
      "You must `download()` an article before calling `parse()` on it!\nhttps://seekingalpha.com/article/4020924-hsbc-holdings-hsbc-stuart-thomson-gulliver-q3-2016-results-earnings-call-transcript?part=single\n"
     ]
    },
    {
     "name": "stdout",
     "output_type": "stream",
     "text": [
      "You must `download()` an article before calling `parse()` on it!\nhttps://seekingalpha.com/article/3995127-hsbc-holdings-plc-hsbc-stuart-thomson-gulliver-q2-2016-results-earnings-call-transcript?part=single\n"
     ]
    },
    {
     "name": "stdout",
     "output_type": "stream",
     "text": [
      "You must `download()` an article before calling `parse()` on it!\nhttps://seekingalpha.com/article/3970588-hsbc-holdings-plc-hsbc-stuart-thomson-gulliver-q1-2016-results-earnings-call-transcript?part=single\n"
     ]
    },
    {
     "name": "stdout",
     "output_type": "stream",
     "text": [
      "You must `download()` an article before calling `parse()` on it!\nhttps://seekingalpha.com/article/3916366-hsbc-holdings-hsbc-ceo-stuart-gulliver-q4-2015-results-earnings-call-transcript?part=single\n"
     ]
    },
    {
     "name": "stdout",
     "output_type": "stream",
     "text": [
      "You must `download()` an article before calling `parse()` on it!\nhttps://seekingalpha.com/article/3632686-hsbc-holdings-hsbc-stuart-gulliver-q3-2015-results-earnings-call-transcript?part=single\n"
     ]
    },
    {
     "name": "stdout",
     "output_type": "stream",
     "text": [
      "You must `download()` an article before calling `parse()` on it!\nhttps://seekingalpha.com/article/3390375-hsbc-holdings-plc-hsbc-stuart-thomson-gulliver-on-q2-2015-results-earnings-call-transcript?part=single\n"
     ]
    },
    {
     "name": "stdout",
     "output_type": "stream",
     "text": [
      "You must `download()` an article before calling `parse()` on it!\nhttps://seekingalpha.com/article/3140506-hsbc-holdings-hsbc-ceo-stuart-gulliver-on-q1-2015-results-earnings-call-transcript?part=single\n"
     ]
    },
    {
     "name": "stdout",
     "output_type": "stream",
     "text": [
      "You must `download()` an article before calling `parse()` on it!\nhttps://seekingalpha.com/article/2941386-hsbc-holdings-hsbc-ceo-stuart-gulliver-on-q4-2014-results-earnings-call-transcript?part=single\n"
     ]
    },
    {
     "name": "stdout",
     "output_type": "stream",
     "text": [
      "You must `download()` an article before calling `parse()` on it!\nhttps://seekingalpha.com/article/2663625-hsbc-holdings-hsbc-q3-2014-results-interim-management-statement-call-transcript?part=single\n"
     ]
    },
    {
     "name": "stdout",
     "output_type": "stream",
     "text": [
      "You must `download()` an article before calling `parse()` on it!\nhttps://seekingalpha.com/article/2378025-hsbc-holdings-hsbc-ceo-stuart-gulliver-on-q2-2014-results-earnings-call-transcript?part=single\n"
     ]
    },
    {
     "name": "stdout",
     "output_type": "stream",
     "text": [
      "You must `download()` an article before calling `parse()` on it!\nhttps://seekingalpha.com/article/2044173-hsbc-holdings-management-discusses-q4-2013-results-earnings-call-transcript?part=single\n"
     ]
    },
    {
     "name": "stdout",
     "output_type": "stream",
     "text": [
      "You must `download()` an article before calling `parse()` on it!\nhttps://seekingalpha.com/article/1802252-hsbc-holdings-ceo-discusses-q3-2013-results-earnings-call-transcript?part=single\n"
     ]
    },
    {
     "name": "stdout",
     "output_type": "stream",
     "text": [
      "You must `download()` an article before calling `parse()` on it!\nhttps://seekingalpha.com/article/1604152-hsbc-holdings-management-discusses-h1-2013-results-earnings-call-transcript?part=single\n"
     ]
    },
    {
     "name": "stdout",
     "output_type": "stream",
     "text": [
      "You must `download()` an article before calling `parse()` on it!\nhttps://seekingalpha.com/article/1460211-hsbc-holdings-ceo-hosts-2013-annual-general-meeting-transcript?part=single\n"
     ]
    },
    {
     "name": "stdout",
     "output_type": "stream",
     "text": [
      "You must `download()` an article before calling `parse()` on it!\nhttps://seekingalpha.com/article/1408621-hsbc-holdings-management-discusses-q1-2013-results-interim-management-statement-call-transcript?part=single\n"
     ]
    },
    {
     "name": "stdout",
     "output_type": "stream",
     "text": [
      "You must `download()` an article before calling `parse()` on it!\nhttps://seekingalpha.com/article/4036816-jpmorgan-chase-jpm-ceo-jamie-dimon-q4-2016-results-earnings-call-transcript?part=single\n"
     ]
    },
    {
     "name": "stdout",
     "output_type": "stream",
     "text": [
      "You must `download()` an article before calling `parse()` on it!\nhttps://seekingalpha.com/article/4028608-jpmorgan-chases-jpm-ceo-jamie-dimon-presents-goldman-sachs-us-financial-services-conference?part=single\n"
     ]
    },
    {
     "name": "stdout",
     "output_type": "stream",
     "text": [
      "You must `download()` an article before calling `parse()` on it!\nhttps://seekingalpha.com/article/4023710-jpmorgan-chase-jpm-presents-bank-america-merrill-lynch-banking-and-financial-services-brokers?part=single\n"
     ]
    },
    {
     "name": "stdout",
     "output_type": "stream",
     "text": [
      "You must `download()` an article before calling `parse()` on it!\nhttps://seekingalpha.com/article/4012211-jpmorgan-chase-jpm-q3-2016-results-earnings-call-transcript?part=single\n"
     ]
    },
    {
     "name": "stdout",
     "output_type": "stream",
     "text": [
      "You must `download()` an article before calling `parse()` on it!\nhttps://seekingalpha.com/article/4005725-jpmorgan-chases-jpm-management-presents-barclays-global-financial-services-conference?part=single\n"
     ]
    },
    {
     "name": "stdout",
     "output_type": "stream",
     "text": [
      "You must `download()` an article before calling `parse()` on it!\nhttps://seekingalpha.com/article/3988515-jpmorgan-chases-jpm-ceo-jamie-dimon-q2-2016-results-earnings-call-transcript?part=single\n"
     ]
    },
    {
     "name": "stdout",
     "output_type": "stream",
     "text": [
      "You must `download()` an article before calling `parse()` on it!\nhttps://seekingalpha.com/article/3981993-jpmorgan-chases-jpm-management-presents-morgan-stanley-financials-conference-transcript?part=single\n"
     ]
    },
    {
     "name": "stdout",
     "output_type": "stream",
     "text": [
      "You must `download()` an article before calling `parse()` on it!\nhttps://seekingalpha.com/article/3979193-jpmorgan-chase-management-presents-deutsche-bank-global-financial-services-conference?part=single\n"
     ]
    },
    {
     "name": "stdout",
     "output_type": "stream",
     "text": [
      "You must `download()` an article before calling `parse()` on it!\nhttps://seekingalpha.com/article/3975795-jpmorgan-chases-jpm-ceo-jamie-dimon-hosts-2016-annual-meeting-shareholders-transcript?part=single\n"
     ]
    },
    {
     "name": "stdout",
     "output_type": "stream",
     "text": [
      "You must `download()` an article before calling `parse()` on it!\nhttps://seekingalpha.com/article/3965127-jpmorgan-chase-and-co-jpm-jamie-dimon-q1-2016-results-earnings-call-transcript?part=single\n"
     ]
    },
    {
     "name": "stdout",
     "output_type": "stream",
     "text": [
      "You must `download()` an article before calling `parse()` on it!\nhttps://seekingalpha.com/article/3811196-jpmorgan-chases-jpm-ceo-jamie-dimon-q4-2015-results-earnings-call-transcript?part=single\n"
     ]
    },
    {
     "name": "stdout",
     "output_type": "stream",
     "text": [
      "You must `download()` an article before calling `parse()` on it!\nhttps://seekingalpha.com/article/3742226-jpmorgans-management-presents-goldman-sachs-u-s-financial-services-broker-conference?part=single\n"
     ]
    },
    {
     "name": "stdout",
     "output_type": "stream",
     "text": [
      "You must `download()` an article before calling `parse()` on it!\nhttps://seekingalpha.com/article/3693536-jpmorgan-chases-jpm-management-presents-bank-america-merrill-lynch-banking-financial-services?part=single\n"
     ]
    },
    {
     "name": "stdout",
     "output_type": "stream",
     "text": [
      "You must `download()` an article before calling `parse()` on it!\nhttps://seekingalpha.com/article/4048664-lloyds-banking-groups-lyg-ceo-antonio-horta-osorio-q4-2016-results-earnings-call-transcript?part=single\n"
     ]
    },
    {
     "name": "stdout",
     "output_type": "stream",
     "text": [
      "You must `download()` an article before calling `parse()` on it!\nhttps://seekingalpha.com/article/4015160-lloyds-banking-groups-lyg-ceo-antonio-horta-osorio-q3-2016-results-earnings-call-transcript?part=single\n"
     ]
    },
    {
     "name": "stdout",
     "output_type": "stream",
     "text": [
      "You must `download()` an article before calling `parse()` on it!\nhttps://seekingalpha.com/article/3992800-lloyds-banking-groups-lyg-ceo-antonio-horta-osorio-q2-2016-results-earnings-call-transcript?part=single\n"
     ]
    },
    {
     "name": "stdout",
     "output_type": "stream",
     "text": [
      "You must `download()` an article before calling `parse()` on it!\nhttps://seekingalpha.com/article/3969990-lloyds-banking-groups-lyg-ceo-antonio-horta-osorio-q1-2016-results-earnings-call-transcript?part=single\n"
     ]
    },
    {
     "name": "stdout",
     "output_type": "stream",
     "text": [
      "You must `download()` an article before calling `parse()` on it!\nhttps://seekingalpha.com/article/3615636-lloyds-banking-groups-lyg-ceo-antonio-horta-osorio-q3-2015-results-earnings-call-transcript?part=single\n"
     ]
    },
    {
     "name": "stdout",
     "output_type": "stream",
     "text": [
      "You must `download()` an article before calling `parse()` on it!\nhttps://seekingalpha.com/article/3392555-lloyds-banking-groups-lyg-ceo-antonio-horta-osorio-on-q2-2015-results-earnings-call-transcript?part=single\n"
     ]
    },
    {
     "name": "stdout",
     "output_type": "stream",
     "text": [
      "You must `download()` an article before calling `parse()` on it!\nhttps://seekingalpha.com/article/3130366-lloyds-banking-groups-lyg-ceo-antonio-horta-osorio-on-q1-2015-results-earnings-call-transcript?part=single\n"
     ]
    },
    {
     "name": "stdout",
     "output_type": "stream",
     "text": [
      "You must `download()` an article before calling `parse()` on it!\nhttps://seekingalpha.com/article/2959366-lloyds-banking-groups-lyg-ceo-antonio-horta-osorio-on-q4-2014-results-earnings-call-transcript?part=single\n"
     ]
    },
    {
     "name": "stdout",
     "output_type": "stream",
     "text": [
      "You must `download()` an article before calling `parse()` on it!\nhttps://seekingalpha.com/article/2606825-lloyds-banking-group-lyg-q3-2014-results-interim-management-statement-call-transcript?part=single\n"
     ]
    },
    {
     "name": "stdout",
     "output_type": "stream",
     "text": [
      "You must `download()` an article before calling `parse()` on it!\nhttps://seekingalpha.com/article/2367465-lloyds-banking-group-lyg-h1-2014-results-earnings-call-transcript?part=single\n"
     ]
    },
    {
     "name": "stdout",
     "output_type": "stream",
     "text": [
      "You must `download()` an article before calling `parse()` on it!\nhttps://seekingalpha.com/article/2181613-lloyds-banking-group-management-discusses-q1-2014-results-interim-management-statement-call-transcript?part=single\n"
     ]
    },
    {
     "name": "stdout",
     "output_type": "stream",
     "text": [
      "You must `download()` an article before calling `parse()` on it!\nhttps://seekingalpha.com/article/2020241-lloyds-banking-group-management-discusses-2013-results-fixed-income-call-transcript?part=single\n"
     ]
    },
    {
     "name": "stdout",
     "output_type": "stream",
     "text": [
      "You must `download()` an article before calling `parse()` on it!\nhttps://seekingalpha.com/article/2018921-lloyds-banking-groups-ceo-discusses-q4-2013-results-earnings-call-transcript?part=single\n"
     ]
    },
    {
     "name": "stdout",
     "output_type": "stream",
     "text": [
      "You must `download()` an article before calling `parse()` on it!\nhttps://seekingalpha.com/article/1782382-lloyds-banking-group-management-discusses-q3-2013-results-interim-management-statement-call-transcript?part=single\n"
     ]
    },
    {
     "name": "stdout",
     "output_type": "stream",
     "text": [
      "You must `download()` an article before calling `parse()` on it!\nhttps://seekingalpha.com/article/1596582-lloyds-banking-group-management-discusses-h1-2013-results-fixed-income-call-transcript?part=single\n"
     ]
    },
    {
     "name": "stdout",
     "output_type": "stream",
     "text": [
      "You must `download()` an article before calling `parse()` on it!\nhttps://seekingalpha.com/article/1594152-lloyds-banking-group-management-discusses-h1-2013-results-earnings-call-transcript?part=single\n"
     ]
    },
    {
     "name": "stdout",
     "output_type": "stream",
     "text": [
      "You must `download()` an article before calling `parse()` on it!\nhttps://seekingalpha.com/article/1384181-lloyds-banking-group-management-discusses-q1-2013-results-interim-management-statement-call-transcript?part=single\n"
     ]
    },
    {
     "name": "stdout",
     "output_type": "stream",
     "text": [
      "You must `download()` an article before calling `parse()` on it!\nhttps://seekingalpha.com/article/4037377-morgan-stanleys-ms-ceo-james-gorman-q4-2016-results-earnings-call-transcript?part=single\n"
     ]
    },
    {
     "name": "stdout",
     "output_type": "stream",
     "text": [
      "You must `download()` an article before calling `parse()` on it!\nhttps://seekingalpha.com/article/4013200-morgan-stanleys-ms-ceo-james-gorman-q3-2016-results-earnings-call-transcript?part=single\n"
     ]
    },
    {
     "name": "stdout",
     "output_type": "stream",
     "text": [
      "You must `download()` an article before calling `parse()` on it!\nhttps://seekingalpha.com/article/3989838-morgan-stanleys-ms-ceo-james-gorman-q2-2016-results-earnings-call-transcript?part=single\n"
     ]
    },
    {
     "name": "stdout",
     "output_type": "stream",
     "text": [
      "You must `download()` an article before calling `parse()` on it!\nhttps://seekingalpha.com/article/3966016-morgan-stanley-ms-james-patrick-gorman-q1-2016-results-earnings-call-transcript?part=single\n"
     ]
    },
    {
     "name": "stdout",
     "output_type": "stream",
     "text": [
      "You must `download()` an article before calling `parse()` on it!\nhttps://seekingalpha.com/article/3819586-morgan-stanleys-ms-ceo-james-gorman-q4-2015-results-earnings-call-transcript?part=single\n"
     ]
    },
    {
     "name": "stdout",
     "output_type": "stream",
     "text": [
      "You must `download()` an article before calling `parse()` on it!\nhttps://seekingalpha.com/article/3583016-morgan-stanleys-ms-ceo-james-gorman-q3-2015-results-earnings-call-transcript?part=single\n"
     ]
    },
    {
     "name": "stdout",
     "output_type": "stream",
     "text": [
      "You must `download()` an article before calling `parse()` on it!\nhttps://seekingalpha.com/article/3339405-morgan-stanleys-ms-ceo-james-gorman-on-q2-2015-results-earnings-call-transcript?part=single\n"
     ]
    },
    {
     "name": "stdout",
     "output_type": "stream",
     "text": [
      "You must `download()` an article before calling `parse()` on it!\nhttps://seekingalpha.com/article/3121786-morgan-stanleys-ms-semi-annual-fixed-income-investor-conference-call-transcript?part=single\n"
     ]
    },
    {
     "name": "stdout",
     "output_type": "stream",
     "text": [
      "You must `download()` an article before calling `parse()` on it!\nhttps://seekingalpha.com/article/3083376-morgan-stanleys-ms-ceo-james-gorman-on-q1-2015-results-earnings-call-transcript?part=single\n"
     ]
    },
    {
     "name": "stdout",
     "output_type": "stream",
     "text": [
      "You must `download()` an article before calling `parse()` on it!\nhttps://seekingalpha.com/article/2834926-morgan-stanleys-ms-ceo-james-gorman-on-q4-2014-results-earnings-call-transcript?part=single\n"
     ]
    },
    {
     "name": "stdout",
     "output_type": "stream",
     "text": [
      "You must `download()` an article before calling `parse()` on it!\nhttps://seekingalpha.com/article/2571235-morgan-stanleys-ms-ceo-james-gorman-on-q3-2014-results-earnings-call-transcript?part=single\n"
     ]
    },
    {
     "name": "stdout",
     "output_type": "stream",
     "text": [
      "You must `download()` an article before calling `parse()` on it!\nhttps://seekingalpha.com/article/2371155-morgan-stanley-ms-q2-2014-fixed-income-investor-conference-call-transcript?part=single\n"
     ]
    },
    {
     "name": "stdout",
     "output_type": "stream",
     "text": [
      "You must `download()` an article before calling `parse()` on it!\nhttps://seekingalpha.com/article/2321245-morgan-stanleys-ms-ceo-james-gorman-on-q2-2014-results-earnings-call-transcript?part=single\n"
     ]
    },
    {
     "name": "stdout",
     "output_type": "stream",
     "text": [
      "You must `download()` an article before calling `parse()` on it!\nhttps://seekingalpha.com/article/2262513-morgan-stanleys-ceo-presents-at-morgan-stanley-financials-conference-transcript?part=single\n"
     ]
    },
    {
     "name": "stdout",
     "output_type": "stream",
     "text": [
      "You must `download()` an article before calling `parse()` on it!\nhttps://seekingalpha.com/article/2148183-morgan-stanleys-ceo-discusses-q1-2014-results-earnings-call-transcript?part=single\n"
     ]
    },
    {
     "name": "stdout",
     "output_type": "stream",
     "text": [
      "You must `download()` an article before calling `parse()` on it!\nhttps://seekingalpha.com/article/2024311-morgan-stanley-management-presents-at-2014-credit-suisse-financial-services-forum-transcript?part=single\n"
     ]
    },
    {
     "name": "stdout",
     "output_type": "stream",
     "text": [
      "You must `download()` an article before calling `parse()` on it!\nhttps://seekingalpha.com/article/1952611-morgan-stanleys-ceo-discusses-q4-2013-results-earnings-call-transcript?part=single\n"
     ]
    },
    {
     "name": "stdout",
     "output_type": "stream",
     "text": [
      "You must `download()` an article before calling `parse()` on it!\nhttps://seekingalpha.com/article/1889571-morgan-stanleys-management-presents-at-2013-goldman-sachs-financial-services-conference-transcript?part=single\n"
     ]
    },
    {
     "name": "stdout",
     "output_type": "stream",
     "text": [
      "You must `download()` an article before calling `parse()` on it!\nhttps://seekingalpha.com/article/1754302-morgan-stanleys-ceo-discusses-q3-2013-results-earnings-call-transcript?part=single\n"
     ]
    },
    {
     "name": "stdout",
     "output_type": "stream",
     "text": [
      "You must `download()` an article before calling `parse()` on it!\nhttps://seekingalpha.com/article/4043797-rio-tintos-rio-ceo-jean-sebastien-jacques-q4-2016-results-earnings-call-transcript?part=single\n"
     ]
    },
    {
     "name": "stdout",
     "output_type": "stream",
     "text": [
      "You must `download()` an article before calling `parse()` on it!\nhttps://seekingalpha.com/article/3891816-rio-tintos-rio-ceo-sam-walsh-q4-2015-results-earnings-call-transcript?part=single\n"
     ]
    },
    {
     "name": "stdout",
     "output_type": "stream",
     "text": [
      "You must `download()` an article before calling `parse()` on it!\nhttps://seekingalpha.com/article/3419896-rio-tintos-rio-ceo-sam-walsh-on-q2-2015-results-earnings-call-transcript?part=single\n"
     ]
    },
    {
     "name": "stdout",
     "output_type": "stream",
     "text": [
      "You must `download()` an article before calling `parse()` on it!\nhttps://seekingalpha.com/article/2425555-rio-tintos-rio-ceo-sam-walsh-on-q2-2014-results-earnings-call-transcript?part=single\n"
     ]
    },
    {
     "name": "stdout",
     "output_type": "stream",
     "text": [
      "You must `download()` an article before calling `parse()` on it!\nhttps://seekingalpha.com/article/1617782-rio-tintos-ceo-discusses-q2-2013-results-earnings-call-transcript?part=single\n"
     ]
    },
    {
     "name": "stdout",
     "output_type": "stream",
     "text": [
      "You must `download()` an article before calling `parse()` on it!\nhttps://seekingalpha.com/article/1186831-rio-tinto-plc-adr-ceo-discusses-q4-2012-results-earnings-call-transcript?part=single\n"
     ]
    },
    {
     "name": "stdout",
     "output_type": "stream",
     "text": [
      "You must `download()` an article before calling `parse()` on it!\nhttps://seekingalpha.com/article/792071-rio-tintos-ceo-discusses-interim-2012-results-earnings-call-transcript?part=single\n"
     ]
    },
    {
     "name": "stdout",
     "output_type": "stream",
     "text": [
      "You must `download()` an article before calling `parse()` on it!\nhttps://seekingalpha.com/article/379711-rio-tinto-plcs-ceo-discusses-2011-results-earnings-call-transcript?part=single\n"
     ]
    },
    {
     "name": "stdout",
     "output_type": "stream",
     "text": [
      "You must `download()` an article before calling `parse()` on it!\nhttps://seekingalpha.com/article/284940-rio-tinto-plcs-ceo-discusses-q2-2011-results-earnings-call-transcript?part=single\n"
     ]
    },
    {
     "name": "stdout",
     "output_type": "stream",
     "text": [
      "You must `download()` an article before calling `parse()` on it!\nhttps://seekingalpha.com/article/14959-rio-tinto-half-year-2006-earnings-results-conference-call-transcript-rtp?part=single\n"
     ]
    },
    {
     "name": "stdout",
     "output_type": "stream",
     "text": [
      "You must `download()` an article before calling `parse()` on it!\nhttps://seekingalpha.com/article/6807-rio-tinto-q4-2005-earnings-conference-call-transcript-rtp?part=single\n"
     ]
    },
    {
     "name": "stdout",
     "output_type": "stream",
     "text": [
      "You must `download()` an article before calling `parse()` on it!\nhttps://seekingalpha.com/article/4056229-exxon-mobils-xom-ceo-darren-woods-hosts-2017-analyst-meeting-transcript?part=single\n"
     ]
    },
    {
     "name": "stdout",
     "output_type": "stream",
     "text": [
      "You must `download()` an article before calling `parse()` on it!\nhttps://seekingalpha.com/article/4041222-exxon-mobils-xom-q4-2016-results-earnings-call-transcript?part=single\n"
     ]
    },
    {
     "name": "stdout",
     "output_type": "stream",
     "text": [
      "You must `download()` an article before calling `parse()` on it!\nhttps://seekingalpha.com/article/4016510-exxon-mobils-xom-q3-2016-results-earnings-call-transcript?part=single\n"
     ]
    },
    {
     "name": "stdout",
     "output_type": "stream",
     "text": [
      "You must `download()` an article before calling `parse()` on it!\nhttps://seekingalpha.com/article/3993326-exxon-mobil-xom-q2-2016-results-earnings-call-transcript?part=single\n"
     ]
    },
    {
     "name": "stdout",
     "output_type": "stream",
     "text": [
      "You must `download()` an article before calling `parse()` on it!\nhttps://seekingalpha.com/article/3969448-exxon-mobil-xom-q1-2016-results-earnings-call-transcript?part=single\n"
     ]
    },
    {
     "name": "stdout",
     "output_type": "stream",
     "text": [
      "You must `download()` an article before calling `parse()` on it!\nhttps://seekingalpha.com/article/3857646-exxon-mobil-xom-q4-2015-results-earnings-call-transcript?part=single\n"
     ]
    },
    {
     "name": "stdout",
     "output_type": "stream",
     "text": [
      "You must `download()` an article before calling `parse()` on it!\nhttps://seekingalpha.com/article/3626956-exxon-mobil-xom-q3-2015-results-earnings-call-transcript?part=single\n"
     ]
    },
    {
     "name": "stdout",
     "output_type": "stream",
     "text": [
      "You must `download()` an article before calling `parse()` on it!\nhttps://seekingalpha.com/article/3384405-exxon-mobil-xom-on-q2-2015-results-earnings-call-transcript?part=single\n"
     ]
    },
    {
     "name": "stdout",
     "output_type": "stream",
     "text": [
      "You must `download()` an article before calling `parse()` on it!\nhttps://seekingalpha.com/article/3124086-exxonmobil-xom-q1-2015-results-earnings-call-transcript?part=single\n"
     ]
    },
    {
     "name": "stdout",
     "output_type": "stream",
     "text": [
      "You must `download()` an article before calling `parse()` on it!\nhttps://seekingalpha.com/article/2975396-exxon-mobils-xom-ceo-rex-tillerson-hosts-2015-analyst-meeting-transcript?part=single\n"
     ]
    },
    {
     "name": "stdout",
     "output_type": "stream",
     "text": [
      "You must `download()` an article before calling `parse()` on it!\nhttps://seekingalpha.com/article/2875416-exxonmobil-xom-q4-2014-results-earnings-call-transcript?part=single\n"
     ]
    },
    {
     "name": "stdout",
     "output_type": "stream",
     "text": [
      "You must `download()` an article before calling `parse()` on it!\nhttps://seekingalpha.com/article/2625625-exxon-mobil-xom-q3-2014-results-earnings-call-transcript?part=single\n"
     ]
    },
    {
     "name": "stdout",
     "output_type": "stream",
     "text": [
      "You must `download()` an article before calling `parse()` on it!\nhttps://seekingalpha.com/article/4056953-general-electric-ge-presents-bank-america-merrill-lynch-global-industrials-and-eu-autos?part=single\n"
     ]
    },
    {
     "name": "stdout",
     "output_type": "stream",
     "text": [
      "You must `download()` an article before calling `parse()` on it!\nhttps://seekingalpha.com/article/4054750-general-electric-companys-ge-ceo-richard-laxer-presents-j-p-morgan-aviation-transportation?part=single\n"
     ]
    },
    {
     "name": "stdout",
     "output_type": "stream",
     "text": [
      "You must `download()` an article before calling `parse()` on it!\nhttps://seekingalpha.com/article/4038340-general-electrics-ge-ceo-jeff-immelt-q4-2016-results-earnings-call-transcript?part=single\n"
     ]
    },
    {
     "name": "stdout",
     "output_type": "stream",
     "text": [
      "You must `download()` an article before calling `parse()` on it!\nhttps://seekingalpha.com/article/4030623-general-electrics-ge-ceo-jeffrey-immelt-hosts-annual-outlook-investor-meeting-conference?part=single\n"
     ]
    },
    {
     "name": "stdout",
     "output_type": "stream",
     "text": [
      "You must `download()` an article before calling `parse()` on it!\nhttps://seekingalpha.com/article/4027707-general-electric-ge-presents-credit-suisse-4th-annual-industrials-conference-transcript?part=single\n"
     ]
    },
    {
     "name": "stdout",
     "output_type": "stream",
     "text": [
      "You must `download()` an article before calling `parse()` on it!\nhttps://seekingalpha.com/article/4017282-baker-hughes-inc-bhi-ge-baker-hughes-agree-create-new-fullstream-digital-industrial-services?part=single\n"
     ]
    },
    {
     "name": "stdout",
     "output_type": "stream",
     "text": [
      "You must `download()` an article before calling `parse()` on it!\nhttps://seekingalpha.com/article/4013898-general-electrics-ge-ceo-jeffrey-immelt-q3-2016-results-earnings-call-transcript?part=single\n"
     ]
    },
    {
     "name": "stdout",
     "output_type": "stream",
     "text": [
      "You must `download()` an article before calling `parse()` on it!\nhttps://seekingalpha.com/article/4006258-general-electrics-ge-management-presents-morgan-stanley-laguna-conference-transcript?part=single\n"
     ]
    },
    {
     "name": "stdout",
     "output_type": "stream",
     "text": [
      "You must `download()` an article before calling `parse()` on it!\nhttps://seekingalpha.com/article/4005041-general-electric-ge-management-presents-rbc-capital-markets-global-industrials-conference?part=single\n"
     ]
    },
    {
     "name": "stdout",
     "output_type": "stream",
     "text": [
      "You must `download()` an article before calling `parse()` on it!\nhttps://seekingalpha.com/article/4039912-ford-motors-f-ceo-mark-fields-q4-2016-results-earnings-call-transcript?part=single\n"
     ]
    },
    {
     "name": "stdout",
     "output_type": "stream",
     "text": [
      "You must `download()` an article before calling `parse()` on it!\nhttps://seekingalpha.com/article/4035843-ford-motors-f-ceo-mark-fields-presents-deutsche-bank-global-auto-industry-conference?part=single\n"
     ]
    },
    {
     "name": "stdout",
     "output_type": "stream",
     "text": [
      "You must `download()` an article before calling `parse()` on it!\nhttps://seekingalpha.com/article/4027678-ford-motor-f-november-2016-u-s-sales-conference-call-transcript?part=single\n"
     ]
    },
    {
     "name": "stdout",
     "output_type": "stream",
     "text": [
      "You must `download()` an article before calling `parse()` on it!\nhttps://seekingalpha.com/article/4015766-ford-motor-f-q3-2016-results-earnings-call-transcript?part=single\n"
     ]
    },
    {
     "name": "stdout",
     "output_type": "stream",
     "text": [
      "You must `download()` an article before calling `parse()` on it!\nhttps://seekingalpha.com/article/4006587-ford-motors-f-ceo-mark-fields-hosts-2016-investor-day-conference-transcript?part=single\n"
     ]
    },
    {
     "name": "stdout",
     "output_type": "stream",
     "text": [
      "You must `download()` an article before calling `parse()` on it!\nhttps://seekingalpha.com/article/3992728-ford-motor-f-mark-fields-q2-2016-results-earnings-call-transcript?part=single\n"
     ]
    },
    {
     "name": "stdout",
     "output_type": "stream",
     "text": [
      "You must `download()` an article before calling `parse()` on it!\nhttps://seekingalpha.com/article/3979198-ford-motor-f-may-2016-u-s-sales-conference-call-transcript?part=single\n"
     ]
    },
    {
     "name": "stdout",
     "output_type": "stream",
     "text": [
      "You must `download()` an article before calling `parse()` on it!\nhttps://seekingalpha.com/article/3969392-ford-motor-f-mark-fields-q1-2016-results-earnings-call-transcript?part=single\n"
     ]
    },
    {
     "name": "stdout",
     "output_type": "stream",
     "text": [
      "You must `download()` an article before calling `parse()` on it!\nhttps://seekingalpha.com/article/3960543-ford-motor-f-presents-bank-america-merrill-lynch-2016-nyc-auto-summit-brokers-conference?part=single\n"
     ]
    },
    {
     "name": "stdout",
     "output_type": "stream",
     "text": [
      "You must `download()` an article before calling `parse()` on it!\nhttps://seekingalpha.com/article/3844486-ford-motors-f-ceo-mark-fields-q4-2015-results-earnings-call-transcript?part=single\n"
     ]
    },
    {
     "name": "stdout",
     "output_type": "stream",
     "text": [
      "You must `download()` an article before calling `parse()` on it!\nhttps://seekingalpha.com/article/3724726-ford-motor-f-november-2015-u-s-sales-conference-call-transcript?part=single\n"
     ]
    },
    {
     "name": "stdout",
     "output_type": "stream",
     "text": [
      "You must `download()` an article before calling `parse()` on it!\nhttps://seekingalpha.com/article/3721426-ford-motors-f-ceo-mark-fields-co-briefing-uaw-ford-2015-collective-bargaining-agreement?part=single\n"
     ]
    },
    {
     "name": "stdout",
     "output_type": "stream",
     "text": [
      "You must `download()` an article before calling `parse()` on it!\nhttps://seekingalpha.com/article/3609276-ford-motors-f-ceo-mark-fields-q3-2015-results-earnings-call-transcript?part=single\n"
     ]
    },
    {
     "name": "stdout",
     "output_type": "stream",
     "text": [
      "You must `download()` an article before calling `parse()` on it!\nhttps://seekingalpha.com/article/4041547-altria-group-mo-q4-2016-results-earnings-call-transcript?part=single\n"
     ]
    },
    {
     "name": "stdout",
     "output_type": "stream",
     "text": [
      "You must `download()` an article before calling `parse()` on it!\nhttps://seekingalpha.com/article/4015792-altria-group-mo-q3-2016-results-earnings-call-transcript?part=single\n"
     ]
    },
    {
     "name": "stdout",
     "output_type": "stream",
     "text": [
      "You must `download()` an article before calling `parse()` on it!\nhttps://seekingalpha.com/article/4004705-altria-group-mo-management-presents-barclays-2016-consumer-staples-conference-transcript?part=single\n"
     ]
    },
    {
     "name": "stdout",
     "output_type": "stream",
     "text": [
      "You must `download()` an article before calling `parse()` on it!\nhttps://seekingalpha.com/article/3992118-altria-group-mo-martin-j-barrington-q2-2016-results-earnings-call-transcript?part=single\n"
     ]
    },
    {
     "name": "stdout",
     "output_type": "stream",
     "text": [
      "You must `download()` an article before calling `parse()` on it!\nhttps://seekingalpha.com/article/3969395-altria-group-mo-martin-j-barrington-q1-2016-results-earnings-call-transcript?part=single\n"
     ]
    },
    {
     "name": "stdout",
     "output_type": "stream",
     "text": [
      "You must `download()` an article before calling `parse()` on it!\nhttps://seekingalpha.com/article/3843306-altria-groups-mo-ceo-marty-barrington-q4-2015-results-earnings-call-transcript?part=single\n"
     ]
    },
    {
     "name": "stdout",
     "output_type": "stream",
     "text": [
      "You must `download()` an article before calling `parse()` on it!\nhttps://seekingalpha.com/article/3620156-altria-group-mo-martin-j-barrington-q3-2015-results-earnings-call-transcript?part=single\n"
     ]
    },
    {
     "name": "stdout",
     "output_type": "stream",
     "text": [
      "You must `download()` an article before calling `parse()` on it!\nhttps://seekingalpha.com/article/3500496-altria-group-mo-management-presents-barclays-global-consumer-staples-conference-transcript?part=single\n"
     ]
    },
    {
     "name": "stdout",
     "output_type": "stream",
     "text": [
      "You must `download()` an article before calling `parse()` on it!\nhttps://seekingalpha.com/article/3369675-altria-group-mo-martin-j-barrington-on-q2-2015-results-earnings-call-transcript?part=single\n"
     ]
    },
    {
     "name": "stdout",
     "output_type": "stream",
     "text": [
      "You must `download()` an article before calling `parse()` on it!\nhttps://seekingalpha.com/article/3278825-altria-groups-mo-ceo-marty-barrington-hosts-2015-investor-day-transcript?part=single\n"
     ]
    },
    {
     "name": "stdout",
     "output_type": "stream",
     "text": [
      "You must `download()` an article before calling `parse()` on it!\nhttps://seekingalpha.com/article/3200216-altrias-mo-ceo-marty-barrington-hosts-2015-annual-shareholders-meeting-transcript?part=single\n"
     ]
    },
    {
     "name": "stdout",
     "output_type": "stream",
     "text": [
      "You must `download()` an article before calling `parse()` on it!\nhttps://seekingalpha.com/article/3095216-altria-groups-mo-ceo-marty-barrington-on-q1-2015-results-earnings-call-transcript?part=single\n"
     ]
    },
    {
     "name": "stdout",
     "output_type": "stream",
     "text": [
      "You must `download()` an article before calling `parse()` on it!\nhttps://seekingalpha.com/article/2928246-altria-groups-mo-ceo-marty-barrington-presents-at-cagny-2015-conference-transcript?part=single\n"
     ]
    },
    {
     "name": "stdout",
     "output_type": "stream",
     "text": [
      "You must `download()` an article before calling `parse()` on it!\nhttps://seekingalpha.com/article/2870396-altria-groups-mo-ceo-marty-barrington-on-q4-2014-results-earnings-call-transcript?part=single\n"
     ]
    },
    {
     "name": "stdout",
     "output_type": "stream",
     "text": [
      "You must `download()` an article before calling `parse()` on it!\nhttps://seekingalpha.com/article/4041208-xerox-corporations-xrx-ceo-jeff-jacobson-q4-2016-results-earnings-call-transcript?part=single\n"
     ]
    },
    {
     "name": "stdout",
     "output_type": "stream",
     "text": [
      "You must `download()` an article before calling `parse()` on it!\nhttps://seekingalpha.com/article/4016627-xerox-corporations-xrx-ceo-ursula-burns-q3-2016-results-earnings-call-transcript?part=single\n"
     ]
    },
    {
     "name": "stdout",
     "output_type": "stream",
     "text": [
      "You must `download()` an article before calling `parse()` on it!\nhttps://seekingalpha.com/article/3993363-xeroxs-xrx-ceo-ursula-burns-q2-2016-results-earnings-call-transcript?part=single\n"
     ]
    },
    {
     "name": "stdout",
     "output_type": "stream",
     "text": [
      "You must `download()` an article before calling `parse()` on it!\nhttps://seekingalpha.com/article/3967880-xerox-xrx-ursula-m-burns-q1-2016-results-earnings-call-transcript?part=single\n"
     ]
    },
    {
     "name": "stdout",
     "output_type": "stream",
     "text": [
      "You must `download()` an article before calling `parse()` on it!\nhttps://seekingalpha.com/article/3848516-xeroxs-xrx-ceo-ursula-burns-q4-2015-results-earnings-call-transcript?part=single\n"
     ]
    },
    {
     "name": "stdout",
     "output_type": "stream",
     "text": [
      "You must `download()` an article before calling `parse()` on it!\nhttps://seekingalpha.com/article/3603936-xeroxs-xrx-ceo-ursula-burns-q3-2015-results-earnings-call-transcript?part=single\n"
     ]
    },
    {
     "name": "stdout",
     "output_type": "stream",
     "text": [
      "You must `download()` an article before calling `parse()` on it!\nhttps://seekingalpha.com/article/3355505-xeroxs-xrx-ceo-ursula-burns-on-q2-2015-results-earnings-call-transcript?part=single\n"
     ]
    },
    {
     "name": "stdout",
     "output_type": "stream",
     "text": [
      "You must `download()` an article before calling `parse()` on it!\nhttps://seekingalpha.com/article/3100766-xerox-xrx-ursula-m-burns-on-q1-2015-results-earnings-call-transcript?part=single\n"
     ]
    },
    {
     "name": "stdout",
     "output_type": "stream",
     "text": [
      "You must `download()` an article before calling `parse()` on it!\nhttps://seekingalpha.com/article/2869986-xerox-corps-xrx-ceo-ursula-burns-on-q4-2014-results-earnings-call-transcript?part=single\n"
     ]
    },
    {
     "name": "stdout",
     "output_type": "stream",
     "text": [
      "You must `download()` an article before calling `parse()` on it!\nhttps://seekingalpha.com/article/2585425-xeroxs-xrx-ceo-ursula-burns-on-q3-2014-results-earnings-call-transcript?part=single\n"
     ]
    },
    {
     "name": "stdout",
     "output_type": "stream",
     "text": [
      "You must `download()` an article before calling `parse()` on it!\nhttps://seekingalpha.com/article/2344205-xeroxs-xrx-ceo-ursula-burns-on-q2-2014-results-earnings-call-transcript?part=single\n"
     ]
    },
    {
     "name": "stdout",
     "output_type": "stream",
     "text": [
      "You must `download()` an article before calling `parse()` on it!\nhttps://seekingalpha.com/article/4037714-goldman-sachs-groups-gs-q4-2016-results-earnings-call-transcript?part=single\n"
     ]
    },
    {
     "name": "stdout",
     "output_type": "stream",
     "text": [
      "You must `download()` an article before calling `parse()` on it!\nhttps://seekingalpha.com/article/4023628-goldman-sachs-gs-presents-bank-america-merrill-lynch-future-financials-2016-broker-conference?part=single\n"
     ]
    },
    {
     "name": "stdout",
     "output_type": "stream",
     "text": [
      "You must `download()` an article before calling `parse()` on it!\nhttps://seekingalpha.com/article/4012963-goldman-sachs-groups-gs-management-q3-2016-results-earnings-call-transcript?part=single\n"
     ]
    },
    {
     "name": "stdout",
     "output_type": "stream",
     "text": [
      "You must `download()` an article before calling `parse()` on it!\nhttps://seekingalpha.com/article/3989543-goldman-sachs-groups-gs-q2-2016-results-earnings-call-transcript?part=single\n"
     ]
    },
    {
     "name": "stdout",
     "output_type": "stream",
     "text": [
      "You must `download()` an article before calling `parse()` on it!\nhttps://seekingalpha.com/article/3978893-goldman-sachs-group-gs-presents-deutsche-bank-global-financial-services-brokers-transcript?part=single\n"
     ]
    },
    {
     "name": "stdout",
     "output_type": "stream",
     "text": [
      "You must `download()` an article before calling `parse()` on it!\nhttps://seekingalpha.com/article/3966310-goldman-sachs-group-gs-q1-2016-results-earnings-call-transcript?part=single\n"
     ]
    },
    {
     "name": "stdout",
     "output_type": "stream",
     "text": [
      "You must `download()` an article before calling `parse()` on it!\nhttps://seekingalpha.com/article/3821986-goldman-sachs-group-gs-q4-2015-results-earnings-call-transcript?part=single\n"
     ]
    },
    {
     "name": "stdout",
     "output_type": "stream",
     "text": [
      "You must `download()` an article before calling `parse()` on it!\nhttps://seekingalpha.com/article/3692566-goldman-sachs-group-gs-presents-bank-america-merrill-lynch-banking-and-financial-services?part=single\n"
     ]
    },
    {
     "name": "stdout",
     "output_type": "stream",
     "text": [
      "You must `download()` an article before calling `parse()` on it!\nhttps://seekingalpha.com/article/3575896-goldman-sachs-groups-gs-management-presents-q3-2015-results-earnings-call-transcript?part=single\n"
     ]
    },
    {
     "name": "stdout",
     "output_type": "stream",
     "text": [
      "You must `download()` an article before calling `parse()` on it!\nhttps://seekingalpha.com/article/3331805-the-goldman-sachs-group-gs-q2-2015-results-earnings-call-transcript?part=single\n"
     ]
    },
    {
     "name": "stdout",
     "output_type": "stream",
     "text": [
      "You must `download()` an article before calling `parse()` on it!\nhttps://seekingalpha.com/article/3075726-goldman-sachs-gs-management-on-q1-2015-results-earnings-call-transcript?part=single\n"
     ]
    },
    {
     "name": "stdout",
     "output_type": "stream",
     "text": [
      "You must `download()` an article before calling `parse()` on it!\nhttps://seekingalpha.com/article/2866296-goldman-sachs-groups-gs-management-presents-at-fixed-income-investor-conference-transcript?part=single\n"
     ]
    },
    {
     "name": "stdout",
     "output_type": "stream",
     "text": [
      "You must `download()` an article before calling `parse()` on it!\nhttps://seekingalpha.com/article/2827956-goldman-sachs-gs-q4-2014-results-earnings-call-transcript?part=single\n"
     ]
    },
    {
     "name": "stdout",
     "output_type": "stream",
     "text": [
      "You must `download()` an article before calling `parse()` on it!\nhttps://seekingalpha.com/article/2674315-goldman-sachs-group-gs-presents-at-bank-of-america-merrill-lynch-banking-and-financial-services-conference-transcript?part=single\n"
     ]
    },
    {
     "name": "stdout",
     "output_type": "stream",
     "text": [
      "You must `download()` an article before calling `parse()` on it!\nhttps://seekingalpha.com/article/2567955-goldman-sachs-gs-q3-2014-results-earnings-call-transcript?part=single\n"
     ]
    },
    {
     "name": "stdout",
     "output_type": "stream",
     "text": [
      "You must `download()` an article before calling `parse()` on it!\nhttps://seekingalpha.com/article/2316585-the-goldman-sachs-group-gs-q2-2014-results-earnings-call-transcript?part=single\n"
     ]
    },
    {
     "name": "stdout",
     "output_type": "stream",
     "text": [
      "You must `download()` an article before calling `parse()` on it!\nhttps://seekingalpha.com/article/2184093-the-goldman-sachs-groups-management-hosts-fixed-income-investor-conference-transcript?part=single\n"
     ]
    },
    {
     "name": "stdout",
     "output_type": "stream",
     "text": [
      "You must `download()` an article before calling `parse()` on it!\nhttps://seekingalpha.com/article/2148283-goldman-sachs-groups-management-discusses-q1-2014-results-earnings-call-transcript?part=single\n"
     ]
    },
    {
     "name": "stdout",
     "output_type": "stream",
     "text": [
      "You must `download()` an article before calling `parse()` on it!\nhttps://seekingalpha.com/article/1949801-the-goldman-sachs-groups-management-discusses-q4-2013-results-earnings-call-transcript?part=single\n"
     ]
    },
    {
     "name": "stdout",
     "output_type": "stream",
     "text": [
      "You must `download()` an article before calling `parse()` on it!\nhttps://seekingalpha.com/article/1812792-goldman-sachs-groups-ceo-hosts-fixed-income-investor-conference-transcript?part=single\n"
     ]
    },
    {
     "name": "stdout",
     "output_type": "stream",
     "text": [
      "You must `download()` an article before calling `parse()` on it!\nhttps://seekingalpha.com/article/4047788-hsbc-holdings-plc-hsbc-q4-2016-results-earnings-call-transcript?part=single\n"
     ]
    },
    {
     "name": "stdout",
     "output_type": "stream",
     "text": [
      "You must `download()` an article before calling `parse()` on it!\nhttps://seekingalpha.com/article/4020924-hsbc-holdings-hsbc-stuart-thomson-gulliver-q3-2016-results-earnings-call-transcript?part=single\n"
     ]
    },
    {
     "name": "stdout",
     "output_type": "stream",
     "text": [
      "You must `download()` an article before calling `parse()` on it!\nhttps://seekingalpha.com/article/3995127-hsbc-holdings-plc-hsbc-stuart-thomson-gulliver-q2-2016-results-earnings-call-transcript?part=single\n"
     ]
    },
    {
     "name": "stdout",
     "output_type": "stream",
     "text": [
      "You must `download()` an article before calling `parse()` on it!\nhttps://seekingalpha.com/article/3970588-hsbc-holdings-plc-hsbc-stuart-thomson-gulliver-q1-2016-results-earnings-call-transcript?part=single\n"
     ]
    },
    {
     "name": "stdout",
     "output_type": "stream",
     "text": [
      "You must `download()` an article before calling `parse()` on it!\nhttps://seekingalpha.com/article/3916366-hsbc-holdings-hsbc-ceo-stuart-gulliver-q4-2015-results-earnings-call-transcript?part=single\n"
     ]
    },
    {
     "name": "stdout",
     "output_type": "stream",
     "text": [
      "You must `download()` an article before calling `parse()` on it!\nhttps://seekingalpha.com/article/3632686-hsbc-holdings-hsbc-stuart-gulliver-q3-2015-results-earnings-call-transcript?part=single\n"
     ]
    },
    {
     "name": "stdout",
     "output_type": "stream",
     "text": [
      "You must `download()` an article before calling `parse()` on it!\nhttps://seekingalpha.com/article/3390375-hsbc-holdings-plc-hsbc-stuart-thomson-gulliver-on-q2-2015-results-earnings-call-transcript?part=single\n"
     ]
    },
    {
     "name": "stdout",
     "output_type": "stream",
     "text": [
      "You must `download()` an article before calling `parse()` on it!\nhttps://seekingalpha.com/article/3140506-hsbc-holdings-hsbc-ceo-stuart-gulliver-on-q1-2015-results-earnings-call-transcript?part=single\n"
     ]
    },
    {
     "name": "stdout",
     "output_type": "stream",
     "text": [
      "You must `download()` an article before calling `parse()` on it!\nhttps://seekingalpha.com/article/2941386-hsbc-holdings-hsbc-ceo-stuart-gulliver-on-q4-2014-results-earnings-call-transcript?part=single\n"
     ]
    },
    {
     "name": "stdout",
     "output_type": "stream",
     "text": [
      "You must `download()` an article before calling `parse()` on it!\nhttps://seekingalpha.com/article/2663625-hsbc-holdings-hsbc-q3-2014-results-interim-management-statement-call-transcript?part=single\n"
     ]
    },
    {
     "name": "stdout",
     "output_type": "stream",
     "text": [
      "You must `download()` an article before calling `parse()` on it!\nhttps://seekingalpha.com/article/2378025-hsbc-holdings-hsbc-ceo-stuart-gulliver-on-q2-2014-results-earnings-call-transcript?part=single\n"
     ]
    },
    {
     "name": "stdout",
     "output_type": "stream",
     "text": [
      "You must `download()` an article before calling `parse()` on it!\nhttps://seekingalpha.com/article/2044173-hsbc-holdings-management-discusses-q4-2013-results-earnings-call-transcript?part=single\n"
     ]
    },
    {
     "name": "stdout",
     "output_type": "stream",
     "text": [
      "You must `download()` an article before calling `parse()` on it!\nhttps://seekingalpha.com/article/1802252-hsbc-holdings-ceo-discusses-q3-2013-results-earnings-call-transcript?part=single\n"
     ]
    },
    {
     "name": "stdout",
     "output_type": "stream",
     "text": [
      "You must `download()` an article before calling `parse()` on it!\nhttps://seekingalpha.com/article/1604152-hsbc-holdings-management-discusses-h1-2013-results-earnings-call-transcript?part=single\n"
     ]
    },
    {
     "name": "stdout",
     "output_type": "stream",
     "text": [
      "You must `download()` an article before calling `parse()` on it!\nhttps://seekingalpha.com/article/1460211-hsbc-holdings-ceo-hosts-2013-annual-general-meeting-transcript?part=single\n"
     ]
    },
    {
     "name": "stdout",
     "output_type": "stream",
     "text": [
      "You must `download()` an article before calling `parse()` on it!\nhttps://seekingalpha.com/article/1408621-hsbc-holdings-management-discusses-q1-2013-results-interim-management-statement-call-transcript?part=single\n"
     ]
    },
    {
     "name": "stdout",
     "output_type": "stream",
     "text": [
      "You must `download()` an article before calling `parse()` on it!\nhttps://seekingalpha.com/article/4036816-jpmorgan-chase-jpm-ceo-jamie-dimon-q4-2016-results-earnings-call-transcript?part=single\n"
     ]
    },
    {
     "name": "stdout",
     "output_type": "stream",
     "text": [
      "You must `download()` an article before calling `parse()` on it!\nhttps://seekingalpha.com/article/4028608-jpmorgan-chases-jpm-ceo-jamie-dimon-presents-goldman-sachs-us-financial-services-conference?part=single\n"
     ]
    },
    {
     "name": "stdout",
     "output_type": "stream",
     "text": [
      "You must `download()` an article before calling `parse()` on it!\nhttps://seekingalpha.com/article/4023710-jpmorgan-chase-jpm-presents-bank-america-merrill-lynch-banking-and-financial-services-brokers?part=single\n"
     ]
    },
    {
     "name": "stdout",
     "output_type": "stream",
     "text": [
      "You must `download()` an article before calling `parse()` on it!\nhttps://seekingalpha.com/article/4012211-jpmorgan-chase-jpm-q3-2016-results-earnings-call-transcript?part=single\n"
     ]
    },
    {
     "name": "stdout",
     "output_type": "stream",
     "text": [
      "You must `download()` an article before calling `parse()` on it!\nhttps://seekingalpha.com/article/4005725-jpmorgan-chases-jpm-management-presents-barclays-global-financial-services-conference?part=single\n"
     ]
    },
    {
     "name": "stdout",
     "output_type": "stream",
     "text": [
      "You must `download()` an article before calling `parse()` on it!\nhttps://seekingalpha.com/article/3988515-jpmorgan-chases-jpm-ceo-jamie-dimon-q2-2016-results-earnings-call-transcript?part=single\n"
     ]
    },
    {
     "name": "stdout",
     "output_type": "stream",
     "text": [
      "You must `download()` an article before calling `parse()` on it!\nhttps://seekingalpha.com/article/3981993-jpmorgan-chases-jpm-management-presents-morgan-stanley-financials-conference-transcript?part=single\n"
     ]
    },
    {
     "name": "stdout",
     "output_type": "stream",
     "text": [
      "You must `download()` an article before calling `parse()` on it!\nhttps://seekingalpha.com/article/3979193-jpmorgan-chase-management-presents-deutsche-bank-global-financial-services-conference?part=single\n"
     ]
    },
    {
     "name": "stdout",
     "output_type": "stream",
     "text": [
      "You must `download()` an article before calling `parse()` on it!\nhttps://seekingalpha.com/article/3975795-jpmorgan-chases-jpm-ceo-jamie-dimon-hosts-2016-annual-meeting-shareholders-transcript?part=single\n"
     ]
    }
   ],
   "source": [
    "from bs4 import BeautifulSoup\n",
    "import requests\n",
    "import time\n",
    "import pandas as pd\n",
    "from newspaper import Article\n",
    "import re\n",
    "\n",
    "headers = {'User-Agent':\n",
    "               'Mozilla/5.0 (Macintosh; Intel Mac OS X 10_10_1) '\n",
    "               'AppleWebKit/537.36 (KHTML, like Gecko)'\n",
    "               'Chrome/39.0.2171.95 '\n",
    "               'Safari/537.36'}\n",
    "linklist = []\n",
    "ticker_list = ['RIO', 'XOM', 'GE', 'F', 'MO', 'XRX', 'GS', 'HBC', 'JPM','LYG','MS','RF']\n",
    "\n",
    "\n",
    "for ticker in ticker_list:\n",
    "    start_url = 'https://seekingalpha.com/symbol/'+ticker+'/earnings/transcripts'\n",
    "    wb_data = requests.get(start_url, headers=headers)\n",
    "    soup = BeautifulSoup(wb_data.text, 'lxml')\n",
    "    links = soup.select('#headlines_transcripts  div  ul  li  div.content > div > a')\n",
    "    \n",
    "    for link in links:\n",
    "        if link.get_text().find('Transcript') > 0:\n",
    "            linklist.append('https://seekingalpha.com' + link.get('href') + '?part=single')\n",
    "    \n",
    "    \n",
    "textData = pd.DataFrame(columns=['Company', 'Date', 'Time', 'Text', 'Link', 'Fail_Link'])\n",
    "fileName = 'output.xlsx'\n",
    "    \n",
    "for i in range(len(linklist)):\n",
    "    \n",
    "    art = Article(linklist[i], language='en', fetch_images=False, memoize_articles=False, browser_user_agent='Mozilla/5.0')\n",
    "    time.sleep(3)\n",
    "    art.download()\n",
    "    try:\n",
    "        art.parse()\n",
    "    except:\n",
    "        print(linklist[i])\n",
    "        textData.loc[i, 'Fail_Link'] = linklist[i]\n",
    "        continue\n",
    "    content = re.split(r'\\n+', art.text)\n",
    "    try:\n",
    "            \n",
    "        textData.loc[i, 'Company'] = content[0]\n",
    "        textData.loc[i, 'Date'] = content[1]\n",
    "        textData.loc[i, 'Time'] = content[2]\n",
    "        textData.loc[i, 'Text'] = '\\n'.join([t for t in content[3:]])\n",
    "        textData.loc[i, 'Link'] = linklist[i]\n",
    "            \n",
    "    except IndexError:\n",
    "        print(content)\n",
    "        print(i)\n",
    "        continue  \n",
    "    \n",
    "    if not textData.empty:\n",
    "        writer = pd.ExcelWriter(fileName, engine='xlsxwriter')\n",
    "        textData.to_excel(writer, 'sheet1')\n",
    "        writer.save()\n",
    "time.sleep(10)"
   ]
  },
  {
   "cell_type": "code",
   "execution_count": 34,
   "metadata": {},
   "outputs": [],
   "source": [
    "import requests\n",
    "from bs4 import BeautifulSoup\n",
    "\n",
    "headers = {'User-Agent':\n",
    "               'Mozilla/5.0 (Macintosh; Intel Mac OS X 10_10_1) '\n",
    "               'AppleWebKit/537.36 (KHTML, like Gecko)'\n",
    "               'Chrome/39.0.2171.95 '\n",
    "               'Safari/537.36'}\n",
    "\n",
    "\n",
    "\n",
    "url = 'https://seekingalpha.com/symbol/XOM/earnings/more_transcripts?page=5'\n",
    "wb = requests.get(url, headers=headers)\n",
    "soup = BeautifulSoup(wb.text, 'lxml')"
   ]
  },
  {
   "cell_type": "code",
   "execution_count": 35,
   "metadata": {},
   "outputs": [],
   "source": [
    "for i in soup.select('div div a'):\n",
    "    print(i.get('href').strip('\\\"\\\\'))"
   ]
  },
  {
   "cell_type": "code",
   "execution_count": null,
   "metadata": {},
   "outputs": [],
   "source": [
    ""
   ]
  }
 ],
 "metadata": {
  "kernelspec": {
   "display_name": "Python 2",
   "language": "python",
   "name": "python2"
  },
  "language_info": {
   "codemirror_mode": {
    "name": "ipython",
    "version": 2.0
   },
   "file_extension": ".py",
   "mimetype": "text/x-python",
   "name": "python",
   "nbconvert_exporter": "python",
   "pygments_lexer": "ipython2",
   "version": "2.7.6"
  }
 },
 "nbformat": 4,
 "nbformat_minor": 0
}