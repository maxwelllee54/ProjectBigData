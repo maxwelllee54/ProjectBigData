{
 "cells": [
  {
   "cell_type": "code",
   "execution_count": 11,
   "metadata": {
    "collapsed": true
   },
   "outputs": [
    {
     "name": "stdout",
     "output_type": "stream",
     "text": [
      "All links got\n\nhttps://seekingalpha.com/article/4058308-rio-tinto-plc-2016-q4-results-earnings-call-slides?part=single\n"
     ]
    },
    {
     "name": "stdout",
     "output_type": "stream",
     "text": [
      "['with this article? Please tell us . Disagree with this article? Submit your own']\n<a href='\\\"/article/6807-rio-tinto-q4-2005-earnings-conference-call-transcript-rtp\\\"' sasource='\\\"qp_analysis\\\"' target='\\\"_blank\\\"'>Rio Tinto Q4 2005 Earnings Conference Call Transcript (RTP)</a>\nhttps://seekingalpha.com/article/4043797-rio-tintos-rio-ceo-jean-sebastien-jacques-q4-2016-results-earnings-call-transcript?part=single\n"
     ]
    },
    {
     "ename": "TypeError",
     "evalue": "write() argument must be str, not list",
     "traceback": [
      "\u001b[0;31m---------------------------------------------------------------------------\u001b[0m",
      "\u001b[0;31mTypeError\u001b[0m                                 Traceback (most recent call last)",
      "\u001b[0;32m<ipython-input-11-8c5e652cf2ef>\u001b[0m in \u001b[0;36m<module>\u001b[0;34m()\u001b[0m\n\u001b[1;32m     63\u001b[0m \u001b[0;34m\u001b[0m\u001b[0m\n\u001b[1;32m     64\u001b[0m             \u001b[0;32mwith\u001b[0m \u001b[0mopen\u001b[0m\u001b[0;34m(\u001b[0m\u001b[0;34m'/Users/Maxwell/PycharmProjects/Github/ProjectBigData/output/'\u001b[0m\u001b[0;34m+\u001b[0m\u001b[0mfile_name\u001b[0m\u001b[0;34m,\u001b[0m \u001b[0;34m'w'\u001b[0m\u001b[0;34m)\u001b[0m \u001b[0;32mas\u001b[0m \u001b[0mf\u001b[0m\u001b[0;34m:\u001b[0m\u001b[0;34m\u001b[0m\u001b[0m\n\u001b[0;32m---> 65\u001b[0;31m                 \u001b[0mf\u001b[0m\u001b[0;34m.\u001b[0m\u001b[0mwrite\u001b[0m\u001b[0;34m(\u001b[0m\u001b[0mcontent\u001b[0m\u001b[0;34m)\u001b[0m\u001b[0;34m\u001b[0m\u001b[0m\n\u001b[0m\u001b[1;32m     66\u001b[0m \u001b[0;34m\u001b[0m\u001b[0m\n\u001b[1;32m     67\u001b[0m         \u001b[0;32mexcept\u001b[0m \u001b[0mIndexError\u001b[0m\u001b[0;34m:\u001b[0m\u001b[0;34m\u001b[0m\u001b[0m\n",
      "\u001b[0;31mTypeError\u001b[0m: write() argument must be str, not list"
     ],
     "output_type": "error"
    }
   ],
   "source": [
    "from bs4 import BeautifulSoup\n",
    "import requests\n",
    "import time\n",
    "import pandas as pd\n",
    "from newspaper import Article\n",
    "import re\n",
    "\n",
    "\n",
    "#ticker_list = pd.read_csv('ticker_list.txt',header=None)\n",
    "ticker_list = ['RIO', 'XOM', 'GE', 'F', 'MO', 'XRX', 'GS', 'HBC', 'JPM', 'LYG', 'MS', 'RF']\n",
    "headers = {'User-Agent':\n",
    "               'Mozilla/5.0 (Macintosh; Intel Mac OS X 10_10_1) '\n",
    "               'AppleWebKit/537.36 (KHTML, like Gecko)'\n",
    "               'Chrome/39.0.2171.95 '\n",
    "               'Safari/537.36'}\n",
    "\n",
    "for ticker in ticker_list:\n",
    "    linklist = []\n",
    "    page = 1\n",
    "    \n",
    "    # crawl all transcripts links for a single ticker \n",
    "    while True:\n",
    "        url = 'https://seekingalpha.com/symbol/'+ ticker + '/earnings/more_transcripts?page=' + str(page)\n",
    "        wb = requests.get(url, headers=headers)\n",
    "        soup = BeautifulSoup(wb.text, 'lxml')\n",
    "        if not soup.select('div div a'):\n",
    "            break\n",
    "        else:\n",
    "            for i in soup.select('div div a'):\n",
    "                linklist.append('https://seekingalpha.com' + i.get('href').strip('\\\"\\\\') + '?part=single')\n",
    "        \n",
    "        page += 1\n",
    "        time.sleep(10)\n",
    "    time.sleep(30)\n",
    "    \n",
    "    print('All links got\\n')\n",
    "\n",
    "    \n",
    "    df = pd.DataFrame(columns=['Ticker', 'Date', 'Time'])\n",
    "    df_link = pd.DataFrame(columns=['Link', 'Fail_Link'])\n",
    "    \n",
    "    for ind, link in enumerate(linklist):\n",
    "        print(link)\n",
    "        art = Article(link, language='en', fetch_images=False, memoize_articles=False, browser_user_agent='Mozilla/5.0')\n",
    "        time.sleep(5)\n",
    "        art.download()\n",
    "        \n",
    "        # test whether downloading succeed and store links to link dataframe\n",
    "        try:\n",
    "            art.parse()\n",
    "            df_link.loc[ind, 'Link'] = link\n",
    "        except:\n",
    "            print(link)\n",
    "            df_link.loc[ind, 'Fail_Link'] = link\n",
    "            continue\n",
    "        content = re.split(r'\\n+', art.text)\n",
    "        \n",
    "        try:\n",
    "            file_name = ticker + content[1] + '.txt'\n",
    "            df.loc[i, 'Ticker'] = ticker\n",
    "            df.loc[i, 'Date'] = content[1]\n",
    "            df.loc[i, 'Time'] = content[2]\n",
    "            \n",
    "            with open('/Users/Maxwell/PycharmProjects/Github/ProjectBigData/output/'+file_name, 'w') as f:\n",
    "                f.write(content)\n",
    "            \n",
    "        except IndexError:\n",
    "            print(content)\n",
    "            print(i)\n",
    "            continue \n",
    "        \n",
    "        if not df.empty:\n",
    "            df.to_csv('time_data.csv', mode='a')\n",
    "        \n",
    "        if not df_link.empty:\n",
    "            df.to_csv('link_data.csv', mode='a')\n",
    "        time.sleep(10)"
   ]
  },
  {
   "cell_type": "code",
   "execution_count": 8,
   "metadata": {},
   "outputs": [
    {
     "data": {
      "text/plain": [
       "['https://seekingalpha.com/article/4056229-exxon-mobils-xom-ceo-darren-woods-hosts-2017-analyst-meeting-transcript?part=single',\n 'https://seekingalpha.com/article/4041222-exxon-mobils-xom-q4-2016-results-earnings-call-transcript?part=single',\n 'https://seekingalpha.com/article/4040958-exxon-mobil-corporation-2016-q4-results-earnings-call-slides?part=single',\n 'https://seekingalpha.com/article/4016510-exxon-mobils-xom-q3-2016-results-earnings-call-transcript?part=single',\n 'https://seekingalpha.com/article/4016329-exxon-mobil-corporation-2016-q3-results-earnings-call-slides?part=single',\n 'https://seekingalpha.com/article/3993426-exxon-mobil-corporation-2016-q2-results-earnings-call-slides?part=single',\n 'https://seekingalpha.com/article/3993326-exxon-mobil-xom-q2-2016-results-earnings-call-transcript?part=single',\n 'https://seekingalpha.com/article/3969448-exxon-mobil-xom-q1-2016-results-earnings-call-transcript?part=single',\n 'https://seekingalpha.com/article/3857646-exxon-mobil-xom-q4-2015-results-earnings-call-transcript?part=single',\n 'https://seekingalpha.com/article/3851846-exxon-mobil-xom-q4-2015-results-earnings-call-webcast?part=single',\n 'https://seekingalpha.com/article/3626956-exxon-mobil-xom-q3-2015-results-earnings-call-transcript?part=single',\n 'https://seekingalpha.com/article/3622296-exxon-mobil-xom-q3-2015-results-earnings-call-webcast?part=single',\n 'https://seekingalpha.com/article/3384405-exxon-mobil-xom-on-q2-2015-results-earnings-call-transcript?part=single',\n 'https://seekingalpha.com/article/3378575-exxon-mobil-xom-q2-2015-results-earnings-call-webcast?part=single',\n 'https://seekingalpha.com/article/3124086-exxonmobil-xom-q1-2015-results-earnings-call-transcript?part=single',\n 'https://seekingalpha.com/article/3121586-exxon-mobil-xom-q1-2015-results-earnings-call-webcast?part=single',\n 'https://seekingalpha.com/article/2975396-exxon-mobils-xom-ceo-rex-tillerson-hosts-2015-analyst-meeting-transcript?part=single',\n 'https://seekingalpha.com/article/2875416-exxonmobil-xom-q4-2014-results-earnings-call-transcript?part=single',\n 'https://seekingalpha.com/article/2865886-exxon-mobil-xom-q4-2014-results-earnings-call-webcast?part=single',\n 'https://seekingalpha.com/article/2625625-exxon-mobil-xom-q3-2014-results-earnings-call-transcript?part=single',\n 'https://seekingalpha.com/article/2620205-exxon-mobil-xom-q3-2014-results-earnings-call-webcast?part=single',\n 'https://seekingalpha.com/article/2366065-exxon-mobil-xom-q2-2014-results-earnings-call-transcript?part=single',\n 'https://seekingalpha.com/article/2363235-q2-2014-exxon-mobil-corp-earnings-conference-call-webcast?part=single',\n 'https://seekingalpha.com/article/2243043-exxon-mobils-xom-ceo-rex-tillerson-hosts-annual-shareholder-meeting-transcript?part=single',\n 'https://seekingalpha.com/article/2184133-exxon-mobil-management-discusses-q1-2014-results-earnings-call-transcript?part=single',\n 'https://seekingalpha.com/article/2181433-exxon-mobil-xom-q1-2014-results-results-earnings-call-webcast?part=single',\n 'https://seekingalpha.com/article/2070673-exxonmobils-ceo-hosts-2014-analyst-meeting-transcript?part=single',\n 'https://seekingalpha.com/article/1981521-exxon-mobil-management-discusses-q4-2013-results-earnings-call-transcript?part=single',\n 'https://seekingalpha.com/article/1980351-q4-2013-exxon-mobil-corp-earnings-conference-call-webcast?part=single',\n 'https://seekingalpha.com/article/1793882-exxon-mobil-management-discusses-q3-2013-results-earnings-call-transcript?part=single',\n 'https://seekingalpha.com/article/1595062-exxon-mobil-management-discusses-q2-2013-results-earnings-call-transcript?part=single',\n 'https://seekingalpha.com/article/1593722-exxon-mobil-corporation-xom-management-discusses-q2-2013-results-webcast?part=single',\n 'https://seekingalpha.com/article/1468831-exxonmobil-corporation-ceo-hosts-annual-shareholder-meeting-transcript?part=single',\n 'https://seekingalpha.com/article/1371391-exxon-mobils-ceo-discusses-q1-2013-results-earnings-call-transcript?part=single',\n 'https://seekingalpha.com/article/1254011-exxonmobils-ceo-hosts-2013-analyst-meeting-conference-transcript?part=single',\n 'https://seekingalpha.com/article/1150721-exxon-mobil-management-discusses-q4-2012-results-earnings-call-transcript?part=single',\n 'https://seekingalpha.com/article/1058481-exxon-mobils-management-discusses-2013-energy-outlook-conference-call-transcript?part=single',\n 'https://seekingalpha.com/article/968661-exxon-mobils-management-discusses-q3-2012-results-earnings-call-transcript?part=single',\n 'https://seekingalpha.com/article/753211-exxon-mobils-ceo-discusses-q2-2012-results-earnings-call-transcript?part=single',\n 'https://seekingalpha.com/article/629711-exxon-mobils-ceo-hosts-annual-shareholder-meeting-transcript?part=single',\n 'https://seekingalpha.com/article/532141-exxon-mobil-management-discusses-q1-2012-results-earnings-call-transcript?part=single',\n 'https://seekingalpha.com/article/424611-exxon-mobil-corporation-shareholder-analyst-call?part=single',\n 'https://seekingalpha.com/article/329962-exxon-mobil-management-discusses-q4-2011-results-earnings-call-transcript?part=single',\n 'https://seekingalpha.com/article/302986-exxon-mobil-management-discusses-q3-2011-results-earnings-call-transcript?part=single',\n 'https://seekingalpha.com/article/282746-exxon-mobil-management-discusses-q2-2011-results-earnings-call-transcript?part=single',\n 'https://seekingalpha.com/article/266369-exxon-mobil-management-discusses-q1-2011-results-earnings-call-transcript?part=single',\n 'https://seekingalpha.com/article/249827-exxonmobil-management-discusses-q4-2010-results-earnings-call-transcript?part=single',\n 'https://seekingalpha.com/article/233089-exxon-mobil-management-discusses-q3-2010-results-earnings-call-transcript?part=single',\n 'https://seekingalpha.com/article/201901-exxon-mobil-q1-2010-earnings-call-transcript?part=single',\n 'https://seekingalpha.com/article/185872-exxon-mobil-corporation-q4-2009-earnings-call-transcript?part=single',\n 'https://seekingalpha.com/article/170060-exxon-mobil-q3-2009-earnings-call-transcript?part=single',\n 'https://seekingalpha.com/article/152721-exxon-mobil-q2-2009-earnings-transcript?part=single',\n 'https://seekingalpha.com/article/134395-exxonmobil-q1-2009-earnings-call-transcript?part=single',\n 'https://seekingalpha.com/article/117725-exxon-mobil-corporation-q4-2008-earnings-call-transcript?part=single',\n 'https://seekingalpha.com/article/103079-exxon-mobil-q3-2008-earnings-call-transcript?part=single',\n 'https://seekingalpha.com/article/88415-exxonmobil-corp-q2-2008-earnings-call?part=single',\n 'https://seekingalpha.com/article/75218-exxonmobil-corp-q1-2008-earnings-call-transcript?part=single',\n 'https://seekingalpha.com/article/62717-exxonmobil-corp-q4-2007-earnings-call-transcript?part=single',\n 'https://seekingalpha.com/article/52468-exxonmobil-q3-2007-earnings-call-transcript?part=single',\n 'https://seekingalpha.com/article/42542-exxonmobil-q2-2007-earnings-call-transcript?part=single',\n 'https://seekingalpha.com/article/33667-exxonmobil-q1-2007-earnings-call-transcript?part=single',\n 'https://seekingalpha.com/article/25823-exxon-mobil-q4-2006-earnings-call-transcript?part=single',\n 'https://seekingalpha.com/article/19334-exxonmobil-q3-2006-earnings-call-transcript?part=single',\n 'https://seekingalpha.com/article/14498-exxonmobil-corporation-q2-2006-earnings-conference-call-transcript-xom?part=single',\n 'https://seekingalpha.com/article/9673-exxonmobil-corporation-q1-2006-earnings-conference-call-transcript-xom?part=single',\n 'https://seekingalpha.com/article/6333-exxonmobil-q4-2005-earnings-conference-call-transcript-xom?part=single',\n 'https://seekingalpha.com/article/4684-full-transcript-of-exxon-mobil-s-3q05-conference-call-q-and-a-xom?part=single',\n 'https://seekingalpha.com/article/4683-full-transcript-of-exxon-mobil-s-3q05-conference-call-prepared-remarks-xom?part=single']"
      ]
     },
     "execution_count": 8,
     "metadata": {},
     "output_type": "execute_result"
    }
   ],
   "source": [
    ""
   ]
  },
  {
   "cell_type": "code",
   "execution_count": null,
   "metadata": {},
   "outputs": [],
   "source": [
    ""
   ]
  }
 ],
 "metadata": {
  "kernelspec": {
   "display_name": "Python 2",
   "language": "python",
   "name": "python2"
  },
  "language_info": {
   "codemirror_mode": {
    "name": "ipython",
    "version": 2.0
   },
   "file_extension": ".py",
   "mimetype": "text/x-python",
   "name": "python",
   "nbconvert_exporter": "python",
   "pygments_lexer": "ipython2",
   "version": "2.7.6"
  }
 },
 "nbformat": 4,
 "nbformat_minor": 0
}