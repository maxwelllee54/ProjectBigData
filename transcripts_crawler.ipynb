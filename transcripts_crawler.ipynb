{
 "cells": [
  {
   "cell_type": "code",
   "execution_count": 22,
   "metadata": {
    "collapsed": true
   },
   "outputs": [],
   "source": [
    "from bs4 import BeautifulSoup\n",
    "import requests\n",
    "import time\n",
    "\n",
    "headers = {'User-Agent': \n",
    "               'Mozilla/5.0 (Macintosh; Intel Mac OS X 10_10_1) '\n",
    "               'AppleWebKit/537.36 (KHTML, like Gecko) '\n",
    "               'Chrome/39.0.2171.95 Safari/537.36'}\n",
    "url = 'https://seekingalpha.com/search/transcripts?term=aapl&page=1'\n",
    "\n",
    "try:\n",
    "    r = requests.get(url, headers=headers)\n",
    "    page = BeautifulSoup(r.content, 'html.parser')\n",
    "    \n",
    "except:\n",
    "    print('Connection Error!\\n')"
   ]
  },
  {
   "cell_type": "code",
   "execution_count": 25,
   "metadata": {},
   "outputs": [
    {
     "data": {
      "text/plain": [
       "'6'"
      ]
     },
     "execution_count": 25,
     "metadata": {},
     "output_type": "execute_result"
    }
   ],
   "source": [
    "import re\n",
    "\n",
    "p = re.findall(r'(?:>)(\\d+)(?:<)', str(page.find_all('div', {'id': 'paging'})))[-1]\n",
    "p"
   ]
  },
  {
   "cell_type": "code",
   "execution_count": 29,
   "metadata": {},
   "outputs": [
    {
     "data": {
      "text/plain": [
       "['/article/4041266-apple-aapl-q1-2017-results-earnings-call-transcript?all=true&amp;find=aapl',\n '/article/4014922-apple-aapl-q4-2016-results-earnings-call-transcript?all=true&amp;find=aapl',\n '/article/3991811-apple-aapl-timothy-donald-cook-q3-2016-results-earnings-call-transcript?all=true&amp;find=aapl',\n '/article/3968300-apple-aapl-timothy-donald-cook-q2-2016-results-earnings-call-transcript?all=true&amp;find=aapl',\n '/article/3836826-apples-aapl-ceo-tim-cook-q1-2016-results-earnings-call-transcript?all=true&amp;find=aapl',\n '/article/3611256-apples-aapl-ceo-tim-cook-q4-2015-results-earnings-call-transcript?all=true&amp;find=aapl',\n '/article/3344115-apple-aapl-timothy-d-cook-on-q3-2015-results-earnings-call-transcript?all=true&amp;find=aapl',\n '/article/3107596-apples-aapl-ceo-tim-cook-on-q2-2015-results-earnings-call-transcript?all=true&amp;find=aapl',\n '/article/2856006-apples-aapl-ceo-tim-cook-on-q1-2015-results-earnings-call-transcript?all=true&amp;find=aapl',\n '/article/2576865-apples-aapl-ceo-tim-cook-on-q4-2014-results-earnings-call-transcript?all=true&amp;find=aapl']"
      ]
     },
     "execution_count": 29,
     "metadata": {},
     "output_type": "execute_result"
    }
   ],
   "source": [
    "re.findall(r'(?:href=\")(.*?)(?:\">)', str(page.find_all('div', {'class': 'transcript_link'})))"
   ]
  },
  {
   "cell_type": "code",
   "execution_count": 13,
   "metadata": {},
   "outputs": [],
   "source": [
    "\n",
    "from newspaper import Article\n",
    "\n",
    "art = Article('https://seekingalpha.com/article/4041266-apple-aapl-q1-2017-results-earnings-call-transcript?all=true&find=aapl')"
   ]
  },
  {
   "cell_type": "code",
   "execution_count": 14,
   "metadata": {},
   "outputs": [],
   "source": [
    "art.download()"
   ]
  },
  {
   "cell_type": "code",
   "execution_count": 15,
   "metadata": {},
   "outputs": [],
   "source": [
    "art.parse()"
   ]
  },
  {
   "cell_type": "code",
   "execution_count": 18,
   "metadata": {},
   "outputs": [
    {
     "name": "stdout",
     "output_type": "stream",
     "text": [
      "['Sa Transcripts']\n"
     ]
    }
   ],
   "source": [
    "print(art.authors)"
   ]
  },
  {
   "cell_type": "code",
   "execution_count": 19,
   "metadata": {},
   "outputs": [],
   "source": [
    "art.nlp()"
   ]
  },
  {
   "cell_type": "code",
   "execution_count": 21,
   "metadata": {},
   "outputs": [
    {
     "data": {
      "text/plain": [
       "'Apple, Inc. (NASDAQ:AAPL)Q1 2017 Earnings CallJanuary 31, 2017 5:00 pm ETExecutivesNancy Paxton - Apple, Inc.Timothy Donald Cook - Apple, Inc.Luca Maestri - Apple, Inc.AnalystsKathryn Lynn Huberty - Morgan Stanley & Co. LLCAmit Daryanani - RBC Capital Markets LLCShannon S. Cross - Cross Research LLCBrian J.\\nWe feel great about this momentum, and our goal is to double the size of our Services business in the next four years.\\nAnd then, as you grow your Services business, is there anything we should keep in mind from a margin perspective?\\nWe said many times, in aggregate our Services business tends to have margins that are above company average.\\nWithin the Services business, we have very different margin profiles, also because, as you know, we account for some of these services in different ways.'"
      ]
     },
     "execution_count": 21,
     "metadata": {},
     "output_type": "execute_result"
    }
   ],
   "source": [
    ""
   ]
  },
  {
   "cell_type": "code",
   "execution_count": null,
   "metadata": {},
   "outputs": [],
   "source": [
    ""
   ]
  }
 ],
 "metadata": {
  "kernelspec": {
   "display_name": "Python 2",
   "language": "python",
   "name": "python2"
  },
  "language_info": {
   "codemirror_mode": {
    "name": "ipython",
    "version": 2.0
   },
   "file_extension": ".py",
   "mimetype": "text/x-python",
   "name": "python",
   "nbconvert_exporter": "python",
   "pygments_lexer": "ipython2",
   "version": "2.7.6"
  }
 },
 "nbformat": 4,
 "nbformat_minor": 0
}