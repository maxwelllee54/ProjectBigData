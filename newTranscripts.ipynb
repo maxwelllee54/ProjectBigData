{
 "cells": [
  {
   "cell_type": "code",
   "execution_count": 1,
   "metadata": {
    "collapsed": true
   },
   "outputs": [],
   "source": [
    "from transcripts_crawler import tscpCrawler\n",
    "\n",
    "links = tscpCrawler('xom').links()"
   ]
  },
  {
   "cell_type": "code",
   "execution_count": 2,
   "metadata": {},
   "outputs": [
    {
     "data": {
      "text/plain": [
       "['/article/4056229-exxon-mobils-xom-ceo-darren-woods-hosts-2017-analyst-meeting-transcript?all=true&amp;find=xom',\n '/article/4041222-exxon-mobils-xom-q4-2016-results-earnings-call-transcript?all=true&amp;find=xom',\n '/article/4016510-exxon-mobils-xom-q3-2016-results-earnings-call-transcript?all=true&amp;find=xom',\n '/article/3993326-exxon-mobil-xom-q2-2016-results-earnings-call-transcript?all=true&amp;find=xom',\n '/article/3969448-exxon-mobil-xom-q1-2016-results-earnings-call-transcript?all=true&amp;find=xom',\n '/article/3857646-exxon-mobil-xom-q4-2015-results-earnings-call-transcript?all=true&amp;find=xom',\n '/article/3851846-exxon-mobil-xom-q4-2015-results-earnings-call-webcast?all=true&amp;find=xom',\n '/article/3626956-exxon-mobil-xom-q3-2015-results-earnings-call-transcript?all=true&amp;find=xom',\n '/article/4056229-exxon-mobils-xom-ceo-darren-woods-hosts-2017-analyst-meeting-transcript?all=true&amp;find=xom',\n '/article/4041222-exxon-mobils-xom-q4-2016-results-earnings-call-transcript?all=true&amp;find=xom',\n '/article/4016510-exxon-mobils-xom-q3-2016-results-earnings-call-transcript?all=true&amp;find=xom',\n '/article/3993326-exxon-mobil-xom-q2-2016-results-earnings-call-transcript?all=true&amp;find=xom',\n '/article/3969448-exxon-mobil-xom-q1-2016-results-earnings-call-transcript?all=true&amp;find=xom',\n '/article/3857646-exxon-mobil-xom-q4-2015-results-earnings-call-transcript?all=true&amp;find=xom',\n '/article/3851846-exxon-mobil-xom-q4-2015-results-earnings-call-webcast?all=true&amp;find=xom',\n '/article/3626956-exxon-mobil-xom-q3-2015-results-earnings-call-transcript?all=true&amp;find=xom',\n '/article/3622296-exxon-mobil-xom-q3-2015-results-earnings-call-webcast?all=true&amp;find=xom',\n '/article/3384405-exxon-mobil-xom-on-q2-2015-results-earnings-call-transcript?all=true&amp;find=xom',\n '/article/3378575-exxon-mobil-xom-q2-2015-results-earnings-call-webcast?all=true&amp;find=xom',\n '/article/3124086-exxonmobil-xom-q1-2015-results-earnings-call-transcript?all=true&amp;find=xom',\n '/article/3121586-exxon-mobil-xom-q1-2015-results-earnings-call-webcast?all=true&amp;find=xom',\n '/article/2975396-exxon-mobils-xom-ceo-rex-tillerson-hosts-2015-analyst-meeting-transcript?all=true&amp;find=xom',\n '/article/2875416-exxonmobil-xom-q4-2014-results-earnings-call-transcript?all=true&amp;find=xom',\n '/article/2865886-exxon-mobil-xom-q4-2014-results-earnings-call-webcast?all=true&amp;find=xom',\n '/article/2625625-exxon-mobil-xom-q3-2014-results-earnings-call-transcript?all=true&amp;find=xom',\n '/article/2620205-exxon-mobil-xom-q3-2014-results-earnings-call-webcast?all=true&amp;find=xom',\n '/article/2366065-exxon-mobil-xom-q2-2014-results-earnings-call-transcript?all=true&amp;find=xom',\n '/article/2243043-exxon-mobils-xom-ceo-rex-tillerson-hosts-annual-shareholder-meeting-transcript?all=true&amp;find=xom',\n '/article/2181433-exxon-mobil-xom-q1-2014-results-results-earnings-call-webcast?all=true&amp;find=xom',\n '/article/1593722-exxon-mobil-corporation-xom-management-discusses-q2-2013-results-webcast?all=true&amp;find=xom']"
      ]
     },
     "execution_count": 2,
     "metadata": {},
     "output_type": "execute_result"
    }
   ],
   "source": [
    "links"
   ]
  },
  {
   "cell_type": "code",
   "execution_count": 2,
   "metadata": {},
   "outputs": [
    {
     "data": {
      "text/plain": [
       "'https://seekingalpha.com/article/3991811-apple-aapl-timothy-donald-cook-q3-2016-results-earnings-call-transcript?all=true&amp;find=aapl'"
      ]
     },
     "execution_count": 2,
     "metadata": {},
     "output_type": "execute_result"
    }
   ],
   "source": [
    "l = 'https://seekingalpha.com' + links[2]\n",
    "l"
   ]
  },
  {
   "cell_type": "code",
   "execution_count": 37,
   "metadata": {
    "collapsed": true
   },
   "outputs": [
    {
     "name": "stdout",
     "output_type": "stream",
     "text": [
      "https://seekingalpha.com/article/4041266-apple-aapl-q1-2017-results-earnings-call-transcript?all=true&amp;find=aapl\n"
     ]
    },
    {
     "name": "stdout",
     "output_type": "stream",
     "text": [
      "https://seekingalpha.com/article/4014922-apple-aapl-q4-2016-results-earnings-call-transcript?all=true&amp;find=aapl\n"
     ]
    },
    {
     "name": "stdout",
     "output_type": "stream",
     "text": [
      "https://seekingalpha.com/article/3991811-apple-aapl-timothy-donald-cook-q3-2016-results-earnings-call-transcript?all=true&amp;find=aapl\n"
     ]
    },
    {
     "name": "stdout",
     "output_type": "stream",
     "text": [
      "https://seekingalpha.com/article/3968300-apple-aapl-timothy-donald-cook-q2-2016-results-earnings-call-transcript?all=true&amp;find=aapl\nYou must `download()` an article before calling `parse()` on it!\nCannot Download!\nhttps://seekingalpha.com/article/3836826-apples-aapl-ceo-tim-cook-q1-2016-results-earnings-call-transcript?all=true&amp;find=aapl\n"
     ]
    },
    {
     "name": "stdout",
     "output_type": "stream",
     "text": [
      "https://seekingalpha.com/article/3611256-apples-aapl-ceo-tim-cook-q4-2015-results-earnings-call-transcript?all=true&amp;find=aapl\n"
     ]
    },
    {
     "name": "stdout",
     "output_type": "stream",
     "text": [
      "https://seekingalpha.com/article/3344115-apple-aapl-timothy-d-cook-on-q3-2015-results-earnings-call-transcript?all=true&amp;find=aapl\n"
     ]
    },
    {
     "name": "stdout",
     "output_type": "stream",
     "text": [
      "https://seekingalpha.com/article/3107596-apples-aapl-ceo-tim-cook-on-q2-2015-results-earnings-call-transcript?all=true&amp;find=aapl\n"
     ]
    },
    {
     "name": "stdout",
     "output_type": "stream",
     "text": [
      "https://seekingalpha.com/article/2856006-apples-aapl-ceo-tim-cook-on-q1-2015-results-earnings-call-transcript?all=true&amp;find=aapl\nYou must `download()` an article before calling `parse()` on it!\nCannot Download!\nhttps://seekingalpha.com/article/2576865-apples-aapl-ceo-tim-cook-on-q4-2014-results-earnings-call-transcript?all=true&amp;find=aapl\n"
     ]
    },
    {
     "name": "stdout",
     "output_type": "stream",
     "text": [
      "You must `download()` an article before calling `parse()` on it!\nCannot Download!\nhttps://seekingalpha.com/article/2331715-apples-aapl-ceo-tim-cook-on-q3-2014-results-earnings-call-transcript?all=true&amp;find=aapl\n"
     ]
    },
    {
     "name": "stdout",
     "output_type": "stream",
     "text": [
      "https://seekingalpha.com/article/2159213-apples-ceo-discusses-f2q-2014-results-earnings-call-transcript?all=true&amp;find=aapl\nYou must `download()` an article before calling `parse()` on it!\nCannot Download!\nhttps://seekingalpha.com/article/1971291-apples-ceo-discusses-f1q-2014-results-earnings-call-transcript?all=true&amp;find=aapl\n"
     ]
    },
    {
     "name": "stdout",
     "output_type": "stream",
     "text": [
      "You must `download()` an article before calling `parse()` on it!\nCannot Download!\nhttps://seekingalpha.com/article/1780172-apples-ceo-discusses-f4q-2013-results-earnings-call-transcript?all=true&amp;find=aapl\nYou must `download()` an article before calling `parse()` on it!\nCannot Download!\nhttps://seekingalpha.com/article/1566012-apple-inc-aapl-ceo-discusses-f3q-2013-results-earnings-call-transcript?all=true&amp;find=aapl\n"
     ]
    },
    {
     "name": "stdout",
     "output_type": "stream",
     "text": [
      "You must `download()` an article before calling `parse()` on it!\nCannot Download!\nhttps://seekingalpha.com/article/1564562-apple-inc-aapl-management-discusses-q3-2013-results-webcast?all=true&amp;find=aapl\nYou must `download()` an article before calling `parse()` on it!\nCannot Download!\nhttps://seekingalpha.com/article/1364041-apples-ceo-discusses-f2q13-results-earnings-call-transcript?all=true&amp;find=aapl\n"
     ]
    },
    {
     "name": "stdout",
     "output_type": "stream",
     "text": [
      "https://seekingalpha.com/article/1363841-apple-management-discusses-q2-2013-results-webcast?all=true&amp;find=aapl\nYou must `download()` an article before calling `parse()` on it!\nCannot Download!\nhttps://seekingalpha.com/article/1129431-apples-ceo-discusses-f1q-2013-results-earnings-call-transcript?all=true&amp;find=aapl\n"
     ]
    },
    {
     "name": "stdout",
     "output_type": "stream",
     "text": [
      "You must `download()` an article before calling `parse()` on it!\nCannot Download!\nhttps://seekingalpha.com/article/952971-apples-ceo-discusses-f4q12-results-earnings-call-transcript?all=true&amp;find=aapl\nYou must `download()` an article before calling `parse()` on it!\nCannot Download!\nhttps://seekingalpha.com/article/745271-apples-ceo-discusses-f3q12-results-earnings-call-transcript?all=true&amp;find=aapl\n"
     ]
    },
    {
     "name": "stdout",
     "output_type": "stream",
     "text": [
      "You must `download()` an article before calling `parse()` on it!\nCannot Download!\nhttps://seekingalpha.com/article/654641-apples-ceo-presents-at-wwdc-2012-keynote-address-transcript?all=true&amp;find=aapl\nYou must `download()` an article before calling `parse()` on it!\nCannot Download!\nhttps://seekingalpha.com/article/524451-apples-ceo-discusses-q2-2012-results-earnings-call-transcript?all=true&amp;find=aapl\n"
     ]
    },
    {
     "name": "stdout",
     "output_type": "stream",
     "text": [
      "https://seekingalpha.com/article/442491-apples-ceo-announces-plans-to-initiate-dividend-and-share-repurchase-program-transcript?all=true&amp;find=aapl\nYou must `download()` an article before calling `parse()` on it!\nCannot Download!\nhttps://seekingalpha.com/article/321818-apples-ceo-discusses-q1-2012-results-earnings-call-transcript?all=true&amp;find=aapl\n"
     ]
    },
    {
     "name": "stdout",
     "output_type": "stream",
     "text": [
      "You must `download()` an article before calling `parse()` on it!\nCannot Download!\nhttps://seekingalpha.com/article/300433-apples-ceo-discusses-q4-2011-results-earnings-call-transcript?all=true&amp;find=aapl\n"
     ]
    },
    {
     "name": "stdout",
     "output_type": "stream",
     "text": [
      "https://seekingalpha.com/article/280344-apple-management-discusses-q3-2011-results-earnings-call-transcript?all=true&amp;find=aapl\nYou must `download()` an article before calling `parse()` on it!\nCannot Download!\nhttps://seekingalpha.com/article/264616-apple-management-discusses-q2-2011-results-earnings-call-transcript?all=true&amp;find=aapl\n"
     ]
    },
    {
     "name": "stdout",
     "output_type": "stream",
     "text": [
      "You must `download()` an article before calling `parse()` on it!\nCannot Download!\nhttps://seekingalpha.com/article/247197-apple-management-discusses-q1-2011-results-earnings-call-transcript?all=true&amp;find=aapl\nYou must `download()` an article before calling `parse()` on it!\nCannot Download!\nhttps://seekingalpha.com/article/230710-apples-ceo-discusses-f4q10-results-earnings-call-transcript?all=true&amp;find=aapl\n"
     ]
    },
    {
     "name": "stdout",
     "output_type": "stream",
     "text": [
      "You must `download()` an article before calling `parse()` on it!\nCannot Download!\nhttps://seekingalpha.com/article/215492-apple-inc-f3q10-qtr-end-06-26-10-earnings-call-transcript?all=true&amp;find=aapl\nYou must `download()` an article before calling `parse()` on it!\nCannot Download!\nhttps://seekingalpha.com/article/199800-apple-inc-f2q10-qtr-end-03-27-10-earnings-call-transcript?all=true&amp;find=aapl\n"
     ]
    },
    {
     "name": "stdout",
     "output_type": "stream",
     "text": [
      "You must `download()` an article before calling `parse()` on it!\nCannot Download!\nhttps://seekingalpha.com/article/184328-apple-inc-f1q10-qtr-end-12-26-09-earnings-call-transcript?all=true&amp;find=aapl\nYou must `download()` an article before calling `parse()` on it!\nCannot Download!\nhttps://seekingalpha.com/article/167404-apple-f4q09-qtr-end-9-26-09-earnings-call-transcript?all=true&amp;find=aapl\n"
     ]
    },
    {
     "name": "stdout",
     "output_type": "stream",
     "text": [
      "You must `download()` an article before calling `parse()` on it!\nCannot Download!\nhttps://seekingalpha.com/article/150291-apple-f3q09-qtr-end-6-27-09-earnings-call-transcript?all=true&amp;find=aapl\nYou must `download()` an article before calling `parse()` on it!\nCannot Download!\nhttps://seekingalpha.com/article/132506-apple-inc-f2q09-qtr-end-03-28-09-earnings-call-transcript?all=true&amp;find=aapl\n"
     ]
    },
    {
     "name": "stdout",
     "output_type": "stream",
     "text": [
      "You must `download()` an article before calling `parse()` on it!\nCannot Download!\nhttps://seekingalpha.com/article/115797-apple-inc-f1q09-qtr-end-12-27-08-earnings-call-transcript?all=true&amp;find=aapl\nYou must `download()` an article before calling `parse()` on it!\nCannot Download!\nhttps://seekingalpha.com/article/100980-apple-f4q08-qtr-end-9-27-08-earnings-call-transcript?all=true&amp;find=aapl\n"
     ]
    },
    {
     "name": "stdout",
     "output_type": "stream",
     "text": [
      "You must `download()` an article before calling `parse()` on it!\nCannot Download!\nhttps://seekingalpha.com/article/86056-apple-f3q08-qtr-end-6-28-08-earnings-call-transcript?all=true&amp;find=aapl\nYou must `download()` an article before calling `parse()` on it!\nCannot Download!\nhttps://seekingalpha.com/article/73697-apple-f2q08-qtr-end-3-29-08-earnings-call-transcript?all=true&amp;find=aapl\n"
     ]
    },
    {
     "name": "stdout",
     "output_type": "stream",
     "text": [
      "You must `download()` an article before calling `parse()` on it!\nCannot Download!\nhttps://seekingalpha.com/article/61117-apple-f1q08-qtr-end-12-29-07-earnings-call-transcript?all=true&amp;find=aapl\nYou must `download()` an article before calling `parse()` on it!\nCannot Download!\nhttps://seekingalpha.com/article/50846-apple-f4q07-qtr-end-9-29-07-earnings-call-transcript?all=true&amp;find=aapl\n"
     ]
    },
    {
     "name": "stdout",
     "output_type": "stream",
     "text": [
      "You must `download()` an article before calling `parse()` on it!\nCannot Download!\nhttps://seekingalpha.com/article/42374-apple-f3q07-qtr-end-6-30-07-earnings-call-transcript?all=true&amp;find=aapl\nYou must `download()` an article before calling `parse()` on it!\nCannot Download!\nhttps://seekingalpha.com/article/33539-apple-f2q07-qtr-end-3-31-07-earnings-call-transcript?all=true&amp;find=aapl\n"
     ]
    },
    {
     "name": "stdout",
     "output_type": "stream",
     "text": [
      "You must `download()` an article before calling `parse()` on it!\nCannot Download!\nhttps://seekingalpha.com/article/24432-apple-f1q07-qtr-end-12-30-06-earnings-call-transcript?all=true&amp;find=aapl\nYou must `download()` an article before calling `parse()` on it!\nCannot Download!\nhttps://seekingalpha.com/article/18756-apple-f4q06-qtr-end-9-30-06-earnings-call-transcript?all=true&amp;find=aapl\n"
     ]
    },
    {
     "name": "stdout",
     "output_type": "stream",
     "text": [
      "You must `download()` an article before calling `parse()` on it!\nCannot Download!\nhttps://seekingalpha.com/article/13884-apple-f3q06-qtr-end-7-1-2006-earnings-conference-call-transcript?all=true&amp;find=aapl\nYou must `download()` an article before calling `parse()` on it!\nCannot Download!\nhttps://seekingalpha.com/article/9249-apple-f2q06-qtr-end-3-31-2006-earnings-conference-call-transcript?all=true&amp;find=aapl\n"
     ]
    },
    {
     "name": "stdout",
     "output_type": "stream",
     "text": [
      "You must `download()` an article before calling `parse()` on it!\nCannot Download!\nhttps://seekingalpha.com/article/5939-apple-f1q06-qtr-end-12-31-2005-earnings-conference-call-transcript?all=true&amp;find=aapl\nYou must `download()` an article before calling `parse()` on it!\nCannot Download!\nhttps://seekingalpha.com/article/5661-earnings-calendar-and-conference-call-transcripts?all=true&amp;find=aapl\n"
     ]
    },
    {
     "name": "stdout",
     "output_type": "stream",
     "text": [
      "You must `download()` an article before calling `parse()` on it!\nCannot Download!\nhttps://seekingalpha.com/article/3683-free-conference-call-transcripts-on-seeking-alpha?all=true&amp;find=aapl\nYou must `download()` an article before calling `parse()` on it!\nCannot Download!\nhttps://seekingalpha.com/article/3823-synaptics-losing-ipod-business-cautious-on-consumer-spending-syna-3q05-f1q06-conf-call-quotes?all=true&amp;find=aapl\n"
     ]
    },
    {
     "name": "stdout",
     "output_type": "stream",
     "text": [
      "You must `download()` an article before calling `parse()` on it!\nCannot Download!\nhttps://seekingalpha.com/article/3563-apple-computer-q3-2005-conference-call-transcript-q-and-a-aapl?all=true&amp;find=aapl\nYou must `download()` an article before calling `parse()` on it!\nCannot Download!\nhttps://seekingalpha.com/article/3562-apple-computer-f4q05-conference-call-transcript-prepared-remarks-aapl?all=true&amp;find=aapl\n"
     ]
    },
    {
     "name": "stdout",
     "output_type": "stream",
     "text": [
      "You must `download()` an article before calling `parse()` on it!\nCannot Download!\n"
     ]
    }
   ],
   "source": [
    "from newspaper import Article\n",
    "import pandas as pd\n",
    "import re\n",
    "textData = pd.DataFrame(columns=['Company', 'Date', 'Time', 'Text', 'Link'])\n",
    "\n",
    "for i in range(len(links)):\n",
    "    link =  'https://seekingalpha.com' + links[i]\n",
    "    print(link)\n",
    "    art = Article(link, language='en', fetch_images=False, memoize_articles=False) #browser_user_agent='Mozilla/5.0')\n",
    "    art.download()\n",
    "    try:\n",
    "        art.parse()\n",
    "    except:\n",
    "        print('Cannot Download!')\n",
    "        continue\n",
    "    content = re.split(r'\\n+', art.text)\n",
    "    try:\n",
    "        textData.loc[i, :] = [content[0], content[1], content[2], \n",
    "                              '\\t'.join([t for t in content[3:]]), links[i]]\n",
    "    except IndexError:\n",
    "        print(content)\n",
    "        print(i)\n",
    "        continue"
   ]
  },
  {
   "cell_type": "code",
   "execution_count": 56,
   "metadata": {},
   "outputs": [],
   "source": [
    "writer = pd.ExcelWriter('data.xlsx')\n",
    "textData.to_excel(writer, 'aapl')\n",
    "writer.save()"
   ]
  },
  {
   "cell_type": "code",
   "execution_count": 52,
   "metadata": {
    "collapsed": true
   },
   "outputs": [
    {
     "data": {
      "text/html": [
       "<div>\n",
       "<table border=\"1\" class=\"dataframe\">\n",
       "  <thead>\n",
       "    <tr style=\"text-align: right;\">\n",
       "      <th></th>\n",
       "      <th>Company</th>\n",
       "      <th>Date</th>\n",
       "      <th>Time</th>\n",
       "      <th>Text</th>\n",
       "      <th>Link</th>\n",
       "    </tr>\n",
       "  </thead>\n",
       "  <tbody>\n",
       "    <tr>\n",
       "      <th>0</th>\n",
       "      <td>Apple, Inc. (NASDAQ:AAPL)</td>\n",
       "      <td>Q1 2017 Earnings Call</td>\n",
       "      <td>January 31, 2017 5:00 pm ET</td>\n",
       "      <td>Executives\\tNancy Paxton - Apple, Inc.\\tTimoth...</td>\n",
       "      <td>/article/4041266-apple-aapl-q1-2017-results-ea...</td>\n",
       "    </tr>\n",
       "    <tr>\n",
       "      <th>1</th>\n",
       "      <td>Apple, Inc. (NASDAQ:AAPL)</td>\n",
       "      <td>Q4 2016 Earnings Call</td>\n",
       "      <td>October 25, 2016 5:00 pm ET</td>\n",
       "      <td>Executives\\tNancy Paxton - Apple, Inc.\\tTimoth...</td>\n",
       "      <td>/article/4014922-apple-aapl-q4-2016-results-ea...</td>\n",
       "    </tr>\n",
       "    <tr>\n",
       "      <th>2</th>\n",
       "      <td>Apple, Inc. (NASDAQ:AAPL)</td>\n",
       "      <td>Q3 2016 Earnings Call</td>\n",
       "      <td>July 26, 2016 5:00 pm ET</td>\n",
       "      <td>Executives\\tNancy Paxton - Senior Director, In...</td>\n",
       "      <td>/article/3991811-apple-aapl-timothy-donald-coo...</td>\n",
       "    </tr>\n",
       "    <tr>\n",
       "      <th>4</th>\n",
       "      <td>Apple Inc. (NASDAQ:AAPL)</td>\n",
       "      <td>Q1 2016 Results Earnings Conference Call</td>\n",
       "      <td>January 26, 2016, 05:00 PM ET</td>\n",
       "      <td>Executives\\tNancy Paxton - Senior Director, IR...</td>\n",
       "      <td>/article/3836826-apples-aapl-ceo-tim-cook-q1-2...</td>\n",
       "    </tr>\n",
       "    <tr>\n",
       "      <th>5</th>\n",
       "      <td>Apple, Inc. (NASDAQ:AAPL)</td>\n",
       "      <td>Q4 2015 Earnings Conference Call</td>\n",
       "      <td>October 27, 2015 05:00 PM ET</td>\n",
       "      <td>Executives\\tNancy Paxton - Senior Director, In...</td>\n",
       "      <td>/article/3611256-apples-aapl-ceo-tim-cook-q4-2...</td>\n",
       "    </tr>\n",
       "    <tr>\n",
       "      <th>6</th>\n",
       "      <td>Apple, Inc. (NASDAQ:AAPL)</td>\n",
       "      <td>Q3 2015 Earnings Call</td>\n",
       "      <td>July 21, 2015 5:00 pm ET</td>\n",
       "      <td>Executives\\tNancy Paxton - Senior Director, In...</td>\n",
       "      <td>/article/3344115-apple-aapl-timothy-d-cook-on-...</td>\n",
       "    </tr>\n",
       "    <tr>\n",
       "      <th>7</th>\n",
       "      <td>Apple (NASDAQ:AAPL)</td>\n",
       "      <td>Q1 2015 Results Earnings Conference Call</td>\n",
       "      <td>April 27, 2015, 5:00 p.m. ET</td>\n",
       "      <td>Executives\\tNancy Paxton - Senior Director, IR...</td>\n",
       "      <td>/article/3107596-apples-aapl-ceo-tim-cook-on-q...</td>\n",
       "    </tr>\n",
       "    <tr>\n",
       "      <th>10</th>\n",
       "      <td>Apple Inc. (NASDAQ:AAPL)</td>\n",
       "      <td>Q3 2014 Earnings Conference Call</td>\n",
       "      <td>July 22, 2014 05:00 AM ET</td>\n",
       "      <td>Executives\\tNancy Paxton - Senior Director of ...</td>\n",
       "      <td>/article/2331715-apples-aapl-ceo-tim-cook-on-q...</td>\n",
       "    </tr>\n",
       "    <tr>\n",
       "      <th>16</th>\n",
       "      <td>Apple Inc. (NASDAQ:AAPL)</td>\n",
       "      <td>F2Q13 Earnings Conference Call</td>\n",
       "      <td>April 23, 2013 5:00 pm ET</td>\n",
       "      <td>Executives\\tNancy Paxton – Senior Director-Inv...</td>\n",
       "      <td>/article/1364041-apples-ceo-discusses-f2q13-re...</td>\n",
       "    </tr>\n",
       "    <tr>\n",
       "      <th>22</th>\n",
       "      <td>Apple (NASDAQ:AAPL)</td>\n",
       "      <td>Q2 2012 Earnings Call</td>\n",
       "      <td>April 24, 2012 5:00 pm ET</td>\n",
       "      <td>Executives\\tNancy Paxton -\\tPeter Oppenheimer ...</td>\n",
       "      <td>/article/524451-apples-ceo-discusses-q2-2012-r...</td>\n",
       "    </tr>\n",
       "    <tr>\n",
       "      <th>25</th>\n",
       "      <td>Apple (NASDAQ:AAPL)</td>\n",
       "      <td>Q4 2011 Earnings Call</td>\n",
       "      <td>October 18, 2011 5:00 pm ET</td>\n",
       "      <td>Executives\\tPeter Oppenheimer - Chief Financia...</td>\n",
       "      <td>/article/300433-apples-ceo-discusses-q4-2011-r...</td>\n",
       "    </tr>\n",
       "  </tbody>\n",
       "</table>\n",
       "</div>"
      ],
      "text/plain": [
       "<div>\n",
       "<table border=\"1\" class=\"dataframe\">\n",
       "  <thead>\n",
       "    <tr style=\"text-align: right;\">\n",
       "      <th></th>\n",
       "      <th>Company</th>\n",
       "      <th>Date</th>\n",
       "      <th>Time</th>\n",
       "      <th>Text</th>\n",
       "      <th>Link</th>\n",
       "    </tr>\n",
       "  </thead>\n",
       "  <tbody>\n",
       "    <tr>\n",
       "      <th>0</th>\n",
       "      <td>Apple, Inc. (NASDAQ:AAPL)</td>\n",
       "      <td>Q1 2017 Earnings Call</td>\n",
       "      <td>January 31, 2017 5:00 pm ET</td>\n",
       "      <td>Executives\\tNancy Paxton - Apple, Inc.\\tTimoth...</td>\n",
       "      <td>/article/4041266-apple-aapl-q1-2017-results-ea...</td>\n",
       "    </tr>\n",
       "    <tr>\n",
       "      <th>1</th>\n",
       "      <td>Apple, Inc. (NASDAQ:AAPL)</td>\n",
       "      <td>Q4 2016 Earnings Call</td>\n",
       "      <td>October 25, 2016 5:00 pm ET</td>\n",
       "      <td>Executives\\tNancy Paxton - Apple, Inc.\\tTimoth...</td>\n",
       "      <td>/article/4014922-apple-aapl-q4-2016-results-ea...</td>\n",
       "    </tr>\n",
       "    <tr>\n",
       "      <th>2</th>\n",
       "      <td>Apple, Inc. (NASDAQ:AAPL)</td>\n",
       "      <td>Q3 2016 Earnings Call</td>\n",
       "      <td>July 26, 2016 5:00 pm ET</td>\n",
       "      <td>Executives\\tNancy Paxton - Senior Director, In...</td>\n",
       "      <td>/article/3991811-apple-aapl-timothy-donald-coo...</td>\n",
       "    </tr>\n",
       "    <tr>\n",
       "      <th>4</th>\n",
       "      <td>Apple Inc. (NASDAQ:AAPL)</td>\n",
       "      <td>Q1 2016 Results Earnings Conference Call</td>\n",
       "      <td>January 26, 2016, 05:00 PM ET</td>\n",
       "      <td>Executives\\tNancy Paxton - Senior Director, IR...</td>\n",
       "      <td>/article/3836826-apples-aapl-ceo-tim-cook-q1-2...</td>\n",
       "    </tr>\n",
       "    <tr>\n",
       "      <th>5</th>\n",
       "      <td>Apple, Inc. (NASDAQ:AAPL)</td>\n",
       "      <td>Q4 2015 Earnings Conference Call</td>\n",
       "      <td>October 27, 2015 05:00 PM ET</td>\n",
       "      <td>Executives\\tNancy Paxton - Senior Director, In...</td>\n",
       "      <td>/article/3611256-apples-aapl-ceo-tim-cook-q4-2...</td>\n",
       "    </tr>\n",
       "    <tr>\n",
       "      <th>6</th>\n",
       "      <td>Apple, Inc. (NASDAQ:AAPL)</td>\n",
       "      <td>Q3 2015 Earnings Call</td>\n",
       "      <td>July 21, 2015 5:00 pm ET</td>\n",
       "      <td>Executives\\tNancy Paxton - Senior Director, In...</td>\n",
       "      <td>/article/3344115-apple-aapl-timothy-d-cook-on-...</td>\n",
       "    </tr>\n",
       "    <tr>\n",
       "      <th>7</th>\n",
       "      <td>Apple (NASDAQ:AAPL)</td>\n",
       "      <td>Q1 2015 Results Earnings Conference Call</td>\n",
       "      <td>April 27, 2015, 5:00 p.m. ET</td>\n",
       "      <td>Executives\\tNancy Paxton - Senior Director, IR...</td>\n",
       "      <td>/article/3107596-apples-aapl-ceo-tim-cook-on-q...</td>\n",
       "    </tr>\n",
       "    <tr>\n",
       "      <th>10</th>\n",
       "      <td>Apple Inc. (NASDAQ:AAPL)</td>\n",
       "      <td>Q3 2014 Earnings Conference Call</td>\n",
       "      <td>July 22, 2014 05:00 AM ET</td>\n",
       "      <td>Executives\\tNancy Paxton - Senior Director of ...</td>\n",
       "      <td>/article/2331715-apples-aapl-ceo-tim-cook-on-q...</td>\n",
       "    </tr>\n",
       "    <tr>\n",
       "      <th>16</th>\n",
       "      <td>Apple Inc. (NASDAQ:AAPL)</td>\n",
       "      <td>F2Q13 Earnings Conference Call</td>\n",
       "      <td>April 23, 2013 5:00 pm ET</td>\n",
       "      <td>Executives\\tNancy Paxton – Senior Director-Inv...</td>\n",
       "      <td>/article/1364041-apples-ceo-discusses-f2q13-re...</td>\n",
       "    </tr>\n",
       "    <tr>\n",
       "      <th>22</th>\n",
       "      <td>Apple (NASDAQ:AAPL)</td>\n",
       "      <td>Q2 2012 Earnings Call</td>\n",
       "      <td>April 24, 2012 5:00 pm ET</td>\n",
       "      <td>Executives\\tNancy Paxton -\\tPeter Oppenheimer ...</td>\n",
       "      <td>/article/524451-apples-ceo-discusses-q2-2012-r...</td>\n",
       "    </tr>\n",
       "    <tr>\n",
       "      <th>25</th>\n",
       "      <td>Apple (NASDAQ:AAPL)</td>\n",
       "      <td>Q4 2011 Earnings Call</td>\n",
       "      <td>October 18, 2011 5:00 pm ET</td>\n",
       "      <td>Executives\\tPeter Oppenheimer - Chief Financia...</td>\n",
       "      <td>/article/300433-apples-ceo-discusses-q4-2011-r...</td>\n",
       "    </tr>\n",
       "  </tbody>\n",
       "</table>\n",
       "</div>"
      ]
     },
     "execution_count": 52,
     "metadata": {},
     "output_type": "execute_result"
    }
   ],
   "source": [
    "textData"
   ]
  },
  {
   "cell_type": "code",
   "execution_count": 48,
   "metadata": {
    "collapsed": true
   },
   "outputs": [],
   "source": [
    "textData.to_csv('data.csv')"
   ]
  },
  {
   "cell_type": "code",
   "execution_count": 57,
   "metadata": {
    "collapsed": true
   },
   "outputs": [
    {
     "data": {
      "text/plain": [
       "['/article/4041266-apple-aapl-q1-2017-results-earnings-call-transcript?all=true&amp;find=aapl',\n '/article/4014922-apple-aapl-q4-2016-results-earnings-call-transcript?all=true&amp;find=aapl',\n '/article/3991811-apple-aapl-timothy-donald-cook-q3-2016-results-earnings-call-transcript?all=true&amp;find=aapl',\n '/article/3836826-apples-aapl-ceo-tim-cook-q1-2016-results-earnings-call-transcript?all=true&amp;find=aapl',\n '/article/3611256-apples-aapl-ceo-tim-cook-q4-2015-results-earnings-call-transcript?all=true&amp;find=aapl',\n '/article/3344115-apple-aapl-timothy-d-cook-on-q3-2015-results-earnings-call-transcript?all=true&amp;find=aapl',\n '/article/3107596-apples-aapl-ceo-tim-cook-on-q2-2015-results-earnings-call-transcript?all=true&amp;find=aapl',\n '/article/2331715-apples-aapl-ceo-tim-cook-on-q3-2014-results-earnings-call-transcript?all=true&amp;find=aapl',\n '/article/1364041-apples-ceo-discusses-f2q13-results-earnings-call-transcript?all=true&amp;find=aapl',\n '/article/524451-apples-ceo-discusses-q2-2012-results-earnings-call-transcript?all=true&amp;find=aapl',\n '/article/300433-apples-ceo-discusses-q4-2011-results-earnings-call-transcript?all=true&amp;find=aapl']"
      ]
     },
     "execution_count": 57,
     "metadata": {},
     "output_type": "execute_result"
    }
   ],
   "source": [
    "df = pd.read_excel('data.xlsx', 'aapl')\n",
    "oldLink = list(df.loc[:, 'Link'])\n",
    "oldLink"
   ]
  },
  {
   "cell_type": "code",
   "execution_count": 36,
   "metadata": {},
   "outputs": [
    {
     "data": {
      "text/plain": [
       "['/article/1564562-apple-inc-aapl-management-discusses-q3-2013-results-webcast?all=true&amp;find=aapl',\n '/article/1363841-apple-management-discusses-q2-2013-results-webcast?all=true&amp;find=aapl',\n '/article/18756-apple-f4q06-qtr-end-9-30-06-earnings-call-transcript?all=true&amp;find=aapl',\n '/article/13884-apple-f3q06-qtr-end-7-1-2006-earnings-conference-call-transcript?all=true&amp;find=aapl',\n '/article/9249-apple-f2q06-qtr-end-3-31-2006-earnings-conference-call-transcript?all=true&amp;find=aapl',\n '/article/5939-apple-f1q06-qtr-end-12-31-2005-earnings-conference-call-transcript?all=true&amp;find=aapl',\n '/article/5661-earnings-calendar-and-conference-call-transcripts?all=true&amp;find=aapl',\n '/article/3823-synaptics-losing-ipod-business-cautious-on-consumer-spending-syna-3q05-f1q06-conf-call-quotes?all=true&amp;find=aapl',\n '/article/3563-apple-computer-q3-2005-conference-call-transcript-q-and-a-aapl?all=true&amp;find=aapl',\n '/article/3562-apple-computer-f4q05-conference-call-transcript-prepared-remarks-aapl?all=true&amp;find=aapl']"
      ]
     },
     "execution_count": 36,
     "metadata": {},
     "output_type": "execute_result"
    }
   ],
   "source": [
    "[newLink for newLink in links if newLink not in oldLink]"
   ]
  },
  {
   "cell_type": "code",
   "execution_count": null,
   "metadata": {},
   "outputs": [],
   "source": [
    ""
   ]
  }
 ],
 "metadata": {
  "kernelspec": {
   "display_name": "Python 2",
   "language": "python",
   "name": "python2"
  },
  "language_info": {
   "codemirror_mode": {
    "name": "ipython",
    "version": 2.0
   },
   "file_extension": ".py",
   "mimetype": "text/x-python",
   "name": "python",
   "nbconvert_exporter": "python",
   "pygments_lexer": "ipython2",
   "version": "2.7.6"
  }
 },
 "nbformat": 4,
 "nbformat_minor": 0
}