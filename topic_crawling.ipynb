{
 "cells": [
  {
   "cell_type": "code",
   "execution_count": 2,
   "metadata": {
    "collapsed": true
   },
   "outputs": [
    {
     "ename": "FileNotFoundError",
     "evalue": "[Errno 2] No such file or directory: \"mashable/Want_to_Buy_a_Boot/Ski_Combo_Device?_Sorry,_It's_Actually_a_Hertz_Ad.txt\"",
     "traceback": [
      "\u001b[0;31m\u001b[0m",
      "\u001b[0;31mFileNotFoundError\u001b[0mTraceback (most recent call last)",
      "\u001b[0;32m<ipython-input-2-b32d98833c03>\u001b[0m in \u001b[0;36m<module>\u001b[0;34m()\u001b[0m\n\u001b[1;32m     21\u001b[0m \u001b[0;34m\u001b[0m\u001b[0m\n\u001b[1;32m     22\u001b[0m \u001b[0;34m\u001b[0m\u001b[0m\n\u001b[0;32m---> 23\u001b[0;31m         \u001b[0;32mwith\u001b[0m \u001b[0mopen\u001b[0m\u001b[0;34m(\u001b[0m\u001b[0;34mr'mashable/'\u001b[0m \u001b[0;34m+\u001b[0m \u001b[0mfileName\u001b[0m\u001b[0;34m,\u001b[0m \u001b[0;34m'w'\u001b[0m\u001b[0;34m)\u001b[0m \u001b[0;32mas\u001b[0m \u001b[0mf\u001b[0m\u001b[0;34m:\u001b[0m\u001b[0;34m\u001b[0m\u001b[0m\n\u001b[0m\u001b[1;32m     24\u001b[0m             \u001b[0mf\u001b[0m\u001b[0;34m.\u001b[0m\u001b[0mwrite\u001b[0m\u001b[0;34m(\u001b[0m\u001b[0marticle\u001b[0m\u001b[0;34m)\u001b[0m\u001b[0;34m\u001b[0m\u001b[0m\n\u001b[1;32m     25\u001b[0m             \u001b[0mf\u001b[0m\u001b[0;34m.\u001b[0m\u001b[0mwrite\u001b[0m\u001b[0;34m(\u001b[0m\u001b[0;34m'\\n'\u001b[0m\u001b[0;34m)\u001b[0m\u001b[0;34m\u001b[0m\u001b[0m\n",
      "\u001b[0;31mFileNotFoundError\u001b[0m: [Errno 2] No such file or directory: \"mashable/Want_to_Buy_a_Boot/Ski_Combo_Device?_Sorry,_It's_Actually_a_Hertz_Ad.txt\""
     ],
     "output_type": "error"
    }
   ],
   "source": [
    "import pandas as pd\n",
    "import requests\n",
    "from bs4 import BeautifulSoup\n",
    "import time\n",
    "\n",
    "url_list = pd.read_csv('mashable_url.txt', header=0)\n",
    "url_crawled = []\n",
    "\n",
    "headers = {'User-Agent':\n",
    "               'Mozilla/5.0 (Macintosh; Intel Mac OS X 10_10_1) '\n",
    "               'AppleWebKit/537.36 (KHTML, like Gecko)'\n",
    "               'Chrome/39.0.2171.95 '\n",
    "               'Safari/537.36'}\n",
    "for url in url_list.url:\n",
    "        wb = requests.get(url, headers=headers)\n",
    "        soup = BeautifulSoup(wb.text, 'lxml')\n",
    "        title = soup.select('body div div div div div div div div div div article header h1')[0].get_text()\n",
    "        fileName = title.replace(' ', '_') + '.txt'\n",
    "        article = title + '\\n' + '\\n'.join([text.get_text() for text in \n",
    "                             soup.select('body div div div div div div div div div div article p')])\n",
    "        \n",
    "        \n",
    "        with open(r'mashable/' + fileName, 'w') as f:\n",
    "            f.write(article)\n",
    "            f.write('\\n')\n",
    "            f.write(url)\n",
    "        url_crawled.append(url)\n",
    "        time.sleep(10)"
   ]
  },
  {
   "cell_type": "code",
   "execution_count": 5,
   "metadata": {},
   "outputs": [],
   "source": [
    "with open('crawled_url.txt', 'w') as f:\n",
    "    urls = '\\n'.join(url_crawled)\n",
    "    f.write(urls)"
   ]
  },
  {
   "cell_type": "code",
   "execution_count": 13,
   "metadata": {},
   "outputs": [],
   "source": [
    ""
   ]
  },
  {
   "cell_type": "code",
   "execution_count": 15,
   "metadata": {},
   "outputs": [
    {
     "name": "stdout",
     "output_type": "stream",
     "text": [
      "2\n1\n"
     ]
    }
   ],
   "source": [
    ""
   ]
  },
  {
   "cell_type": "code",
   "execution_count": null,
   "metadata": {},
   "outputs": [],
   "source": [
    ""
   ]
  }
 ],
 "metadata": {
  "kernelspec": {
   "display_name": "Python 2",
   "language": "python",
   "name": "python2"
  },
  "language_info": {
   "codemirror_mode": {
    "name": "ipython",
    "version": 2.0
   },
   "file_extension": ".py",
   "mimetype": "text/x-python",
   "name": "python",
   "nbconvert_exporter": "python",
   "pygments_lexer": "ipython2",
   "version": "2.7.6"
  }
 },
 "nbformat": 4,
 "nbformat_minor": 0
}